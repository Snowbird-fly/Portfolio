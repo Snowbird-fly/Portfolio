{
 "cells": [
  {
   "cell_type": "markdown",
   "metadata": {},
   "source": [
    "# Анализ программы лояльности магазина\n",
    "\n",
    "**Задача:** проанализировать программу лояльности розничного магазина для нахождения путей увеличения ее эффективности."
   ]
  },
  {
   "cell_type": "markdown",
   "metadata": {},
   "source": [
    "**Цель:**\n",
    "Выявить слабые места и возможные точки роста для увеличения эффективности программы лояльности."
   ]
  },
  {
   "cell_type": "markdown",
   "metadata": {},
   "source": [
    "<div style=\"border-radius: 15px; box-shadow: 4px 4px 4px; border: solid black 2px; padding: 20px\">\n",
    "\n",
    "**Порядок действий:**\n",
    "\n",
    "1. Описание данных\n",
    "2. Предобработка данных\n",
    "    * проверка корректности названий колонок\n",
    "    * переименовать колонки, если нужно\n",
    "    * исследовать пропуски\n",
    "    * заменить пропуски, где возможно и целесообразно\n",
    "    * исследовать соответствие типов данных\n",
    "    * привести типы, если требуется\n",
    "    * проверка на наличие явных дубликатов\n",
    "    * проверка на наличие неявных дубликатов\n",
    "    * удалить дубликаты, если требуется\n",
    "    * проверка на аномалии и выбросы\n",
    "    * почистить выбросы, если требуется\n",
    "\n",
    "    \n",
    "3. Исследовательский анализ данных\n",
    "    * распределение по датам\n",
    "    * распределение количества продаж по магазинам\n",
    "    * количество покупок на пользователя\n",
    "    * стоимость одного товара\n",
    "\n",
    "    \n",
    "4. Анализ программы лояльности\n",
    "    * количество участников программы лояльности в разрезе отдельных магазинов\n",
    "    * количество участников программы лояльности в динамике\n",
    "    * динамика количества и доли покупателей-участников программы и не участвующих\n",
    "    * количество чеков на покупателя среди участников программы лояльности и остальных\n",
    "    * медианная сумма чека среди участников программы лояльности и остальных покупателей\n",
    "    * динамика среднего чека участников программы лояльности\n",
    "    * количество товаров в чеке среди участников программы и остальных покупателей\n",
    "    * топ-5 товаров среди участников программы лояльности и остальных покупателей\n",
    "    * динамика доли прибыли от участников программы лояльности относительно всей прибыли\n",
    "\n",
    "    \n",
    "5. Проверка гипотезы о том, что средний чек участников программы лояльности выше, чем у остальных\n",
    "6. Проверка гипотезы о том, что среднее количество товаров в чеке среди участников программы лояльности выше, чем у остальных\n",
    "7. Выводы о слабых местах и точках роста в программе лояльности\n",
    "_________________"
   ]
  },
  {
   "cell_type": "markdown",
   "metadata": {},
   "source": [
    "<a id='#1'></a>\n",
    "\n",
    "## Описание данных"
   ]
  },
  {
   "cell_type": "markdown",
   "metadata": {},
   "source": [
    "<div style=\"border-radius: 15px; box-shadow: 4px 4px 4px; border: solid black 2px; padding: 20px\">\n",
    "\n",
    "Датасет содержит данные о покупках в розничном магазине строительных материалов. Все покупатели могут получить доступ в магазин с использованием персональных карт. За 200 рублей в месяц они могут стать участниками программы лояльности. В программу включены скидки, специальные предложения, подарки.\n",
    "\n",
    "Данные содержатся в двух файлах: файл с продажами и файл с товарами.\n",
    "\n",
    "1. Файл **retail_dataset**.csv:\n",
    "    * purchaseId — id чека;\n",
    "    * item_ID — id товара;\n",
    "    * purchasedate — дата покупки;\n",
    "    * Quantity — количество товара;\n",
    "    * CustomerID — id покупателя;\n",
    "    * ShopID — id магазина;\n",
    "    * loyalty_program — участвует ли покупатель в программе лояльности;\n",
    "2. Файл **product_codes**.csv:\n",
    "    * productID — id товара;\n",
    "    * price_per_one — стоимость одной единицы товара;\n"
   ]
  },
  {
   "cell_type": "markdown",
   "metadata": {},
   "source": [
    "Импортируем все библиотеки"
   ]
  },
  {
   "cell_type": "code",
   "execution_count": 1,
   "metadata": {},
   "outputs": [
    {
     "name": "stdout",
     "output_type": "stream",
     "text": [
      "Collecting kaleido\n",
      "  Downloading kaleido-0.2.1-py2.py3-none-win_amd64.whl (65.9 MB)\n",
      "     ---------------------------------------- 65.9/65.9 MB 3.2 MB/s eta 0:00:00\n",
      "Installing collected packages: kaleido\n",
      "Successfully installed kaleido-0.2.1\n"
     ]
    }
   ],
   "source": [
    "# импортируем необходимые библиотеки\n",
    "import pandas as pd\n",
    "import datetime as dt\n",
    "import numpy as np\n",
    "from scipy import stats as st\n",
    "import matplotlib.pyplot as plt\n",
    "import math as mth\n",
    "import plotly.express as px\n",
    "from plotly import graph_objects as go\n",
    "from plotly.offline import iplot\n",
    "\n",
    "import warnings\n",
    "warnings.filterwarnings('ignore')\n",
    "\n",
    "!pip install kaleido\n",
    "\n",
    "\n",
    "import plotly.io as pio\n",
    "pio.renderers.default = 'png'"
   ]
  },
  {
   "cell_type": "markdown",
   "metadata": {},
   "source": [
    "<a id='#2'></a>\n",
    "\n",
    "## Предобработка данных"
   ]
  },
  {
   "cell_type": "markdown",
   "metadata": {},
   "source": [
    "Загружаем данные"
   ]
  },
  {
   "cell_type": "code",
   "execution_count": 2,
   "metadata": {},
   "outputs": [],
   "source": [
    "# подгружаем файлы\n",
    "retail_dataset = pd.read_csv('C:\\\\Users\\\\flysn\\\\Documents\\\\аналитика\\\\ЯПрактикум\\\\4 модуль_дипломный проект\\\\retail_dataset.csv')\n",
    "product_codes = pd.read_csv('C:\\\\Users\\\\flysn\\\\Documents\\\\аналитика\\\\ЯПрактикум\\\\4 модуль_дипломный проект\\\\product_codes.csv')"
   ]
  },
  {
   "cell_type": "code",
   "execution_count": 3,
   "metadata": {},
   "outputs": [],
   "source": [
    "# напишем функцию для предобработки данных\n",
    "def treatment(data):\n",
    "    \n",
    "    # выводим первые 5 строк файла\n",
    "    display(data.head()) \n",
    "    print()\n",
    "    \n",
    "    # выводим инфо\n",
    "    print('\\033[1m' + 'Общая информация' + '\\033[0m')\n",
    "    print(data.info()) \n",
    "    print()\n",
    "       \n",
    "    # проверяем на пропуски\n",
    "    print('\\033[1m' + 'Пропуски' + '\\033[0m')\n",
    "    print(data.isna().sum()) \n",
    "    print()\n",
    "    \n",
    "    print(pd.DataFrame(round(data.isna().mean()*100,1)).style.background_gradient('coolwarm'))\n",
    "    \n",
    "    # проверяем явные дубликаты\n",
    "    if data.duplicated().sum() == 0:\n",
    "        print('\\033[1m' + 'Явных дубликатов не обнаружено' + '\\033[0m')\n",
    "    else:\n",
    "        print('\\033[1m' + 'Дубликаты' + '\\033[0m')\n",
    "        print(data.duplicated().sum())\n",
    "    \n",
    "    return "
   ]
  },
  {
   "cell_type": "markdown",
   "metadata": {},
   "source": [
    "Смотрим общую информацию по данным с продажами"
   ]
  },
  {
   "cell_type": "code",
   "execution_count": 4,
   "metadata": {
    "scrolled": false
   },
   "outputs": [
    {
     "data": {
      "text/html": [
       "<div>\n",
       "<style scoped>\n",
       "    .dataframe tbody tr th:only-of-type {\n",
       "        vertical-align: middle;\n",
       "    }\n",
       "\n",
       "    .dataframe tbody tr th {\n",
       "        vertical-align: top;\n",
       "    }\n",
       "\n",
       "    .dataframe thead th {\n",
       "        text-align: right;\n",
       "    }\n",
       "</style>\n",
       "<table border=\"1\" class=\"dataframe\">\n",
       "  <thead>\n",
       "    <tr style=\"text-align: right;\">\n",
       "      <th></th>\n",
       "      <th>purchaseid</th>\n",
       "      <th>item_ID</th>\n",
       "      <th>Quantity</th>\n",
       "      <th>purchasedate</th>\n",
       "      <th>CustomerID</th>\n",
       "      <th>ShopID</th>\n",
       "      <th>loyalty_program</th>\n",
       "    </tr>\n",
       "  </thead>\n",
       "  <tbody>\n",
       "    <tr>\n",
       "      <th>0</th>\n",
       "      <td>538280</td>\n",
       "      <td>21873</td>\n",
       "      <td>11</td>\n",
       "      <td>2016-12-10 12:50:00</td>\n",
       "      <td>18427.0</td>\n",
       "      <td>Shop 0</td>\n",
       "      <td>0.0</td>\n",
       "    </tr>\n",
       "    <tr>\n",
       "      <th>1</th>\n",
       "      <td>538862</td>\n",
       "      <td>22195</td>\n",
       "      <td>0</td>\n",
       "      <td>2016-12-14 14:11:00</td>\n",
       "      <td>22389.0</td>\n",
       "      <td>Shop 0</td>\n",
       "      <td>1.0</td>\n",
       "    </tr>\n",
       "    <tr>\n",
       "      <th>2</th>\n",
       "      <td>538855</td>\n",
       "      <td>21239</td>\n",
       "      <td>7</td>\n",
       "      <td>2016-12-14 13:50:00</td>\n",
       "      <td>22182.0</td>\n",
       "      <td>Shop 0</td>\n",
       "      <td>1.0</td>\n",
       "    </tr>\n",
       "    <tr>\n",
       "      <th>3</th>\n",
       "      <td>543543</td>\n",
       "      <td>22271</td>\n",
       "      <td>0</td>\n",
       "      <td>2017-02-09 15:33:00</td>\n",
       "      <td>23522.0</td>\n",
       "      <td>Shop 0</td>\n",
       "      <td>1.0</td>\n",
       "    </tr>\n",
       "    <tr>\n",
       "      <th>4</th>\n",
       "      <td>543812</td>\n",
       "      <td>79321</td>\n",
       "      <td>0</td>\n",
       "      <td>2017-02-13 14:40:00</td>\n",
       "      <td>23151.0</td>\n",
       "      <td>Shop 0</td>\n",
       "      <td>1.0</td>\n",
       "    </tr>\n",
       "  </tbody>\n",
       "</table>\n",
       "</div>"
      ],
      "text/plain": [
       "  purchaseid item_ID  Quantity         purchasedate  CustomerID  ShopID  \\\n",
       "0     538280   21873        11  2016-12-10 12:50:00     18427.0  Shop 0   \n",
       "1     538862   22195         0  2016-12-14 14:11:00     22389.0  Shop 0   \n",
       "2     538855   21239         7  2016-12-14 13:50:00     22182.0  Shop 0   \n",
       "3     543543   22271         0  2017-02-09 15:33:00     23522.0  Shop 0   \n",
       "4     543812   79321         0  2017-02-13 14:40:00     23151.0  Shop 0   \n",
       "\n",
       "   loyalty_program  \n",
       "0              0.0  \n",
       "1              1.0  \n",
       "2              1.0  \n",
       "3              1.0  \n",
       "4              1.0  "
      ]
     },
     "metadata": {},
     "output_type": "display_data"
    },
    {
     "name": "stdout",
     "output_type": "stream",
     "text": [
      "\n",
      "\u001b[1mОбщая информация\u001b[0m\n",
      "<class 'pandas.core.frame.DataFrame'>\n",
      "RangeIndex: 105335 entries, 0 to 105334\n",
      "Data columns (total 7 columns):\n",
      " #   Column           Non-Null Count   Dtype  \n",
      "---  ------           --------------   -----  \n",
      " 0   purchaseid       105335 non-null  object \n",
      " 1   item_ID          105335 non-null  object \n",
      " 2   Quantity         105335 non-null  int64  \n",
      " 3   purchasedate     105335 non-null  object \n",
      " 4   CustomerID       69125 non-null   float64\n",
      " 5   ShopID           105335 non-null  object \n",
      " 6   loyalty_program  105335 non-null  float64\n",
      "dtypes: float64(2), int64(1), object(4)\n",
      "memory usage: 5.6+ MB\n",
      "None\n",
      "\n",
      "\u001b[1mПропуски\u001b[0m\n",
      "purchaseid             0\n",
      "item_ID                0\n",
      "Quantity               0\n",
      "purchasedate           0\n",
      "CustomerID         36210\n",
      "ShopID                 0\n",
      "loyalty_program        0\n",
      "dtype: int64\n",
      "\n",
      "<pandas.io.formats.style.Styler object at 0x0000024BAFE431F0>\n",
      "\u001b[1mДубликаты\u001b[0m\n",
      "1033\n"
     ]
    }
   ],
   "source": [
    "# Применяем функцию предобработки к файлу с продажами\n",
    "treatment(retail_dataset)"
   ]
  },
  {
   "cell_type": "markdown",
   "metadata": {},
   "source": [
    "В датасете с продажами 105335 строк. Из них найдено 1033 строки дубликатов. Пропуски есть в столбце с айди клиента. Столбец с датой покупки и программой лояльности не соответствует типу данных. Так же названия столбцов стоит привести к единому формату."
   ]
  },
  {
   "cell_type": "markdown",
   "metadata": {},
   "source": [
    "Смотрим общую информацию по данным с товарами"
   ]
  },
  {
   "cell_type": "code",
   "execution_count": 5,
   "metadata": {
    "scrolled": false
   },
   "outputs": [
    {
     "data": {
      "text/html": [
       "<div>\n",
       "<style scoped>\n",
       "    .dataframe tbody tr th:only-of-type {\n",
       "        vertical-align: middle;\n",
       "    }\n",
       "\n",
       "    .dataframe tbody tr th {\n",
       "        vertical-align: top;\n",
       "    }\n",
       "\n",
       "    .dataframe thead th {\n",
       "        text-align: right;\n",
       "    }\n",
       "</style>\n",
       "<table border=\"1\" class=\"dataframe\">\n",
       "  <thead>\n",
       "    <tr style=\"text-align: right;\">\n",
       "      <th></th>\n",
       "      <th>productID</th>\n",
       "      <th>price_per_one</th>\n",
       "    </tr>\n",
       "  </thead>\n",
       "  <tbody>\n",
       "    <tr>\n",
       "      <th>0</th>\n",
       "      <td>85123A</td>\n",
       "      <td>2.55</td>\n",
       "    </tr>\n",
       "    <tr>\n",
       "      <th>1</th>\n",
       "      <td>71053</td>\n",
       "      <td>3.39</td>\n",
       "    </tr>\n",
       "    <tr>\n",
       "      <th>2</th>\n",
       "      <td>84406B</td>\n",
       "      <td>2.75</td>\n",
       "    </tr>\n",
       "    <tr>\n",
       "      <th>3</th>\n",
       "      <td>84029G</td>\n",
       "      <td>3.39</td>\n",
       "    </tr>\n",
       "    <tr>\n",
       "      <th>4</th>\n",
       "      <td>84029E</td>\n",
       "      <td>3.39</td>\n",
       "    </tr>\n",
       "  </tbody>\n",
       "</table>\n",
       "</div>"
      ],
      "text/plain": [
       "  productID  price_per_one\n",
       "0    85123A           2.55\n",
       "1     71053           3.39\n",
       "2    84406B           2.75\n",
       "3    84029G           3.39\n",
       "4    84029E           3.39"
      ]
     },
     "metadata": {},
     "output_type": "display_data"
    },
    {
     "name": "stdout",
     "output_type": "stream",
     "text": [
      "\n",
      "\u001b[1mОбщая информация\u001b[0m\n",
      "<class 'pandas.core.frame.DataFrame'>\n",
      "RangeIndex: 9969 entries, 0 to 9968\n",
      "Data columns (total 2 columns):\n",
      " #   Column         Non-Null Count  Dtype  \n",
      "---  ------         --------------  -----  \n",
      " 0   productID      9969 non-null   object \n",
      " 1   price_per_one  9969 non-null   float64\n",
      "dtypes: float64(1), object(1)\n",
      "memory usage: 155.9+ KB\n",
      "None\n",
      "\n",
      "\u001b[1mПропуски\u001b[0m\n",
      "productID        0\n",
      "price_per_one    0\n",
      "dtype: int64\n",
      "\n",
      "<pandas.io.formats.style.Styler object at 0x0000024BAFE433A0>\n",
      "\u001b[1mЯвных дубликатов не обнаружено\u001b[0m\n"
     ]
    }
   ],
   "source": [
    "# Применяем функцию предобработки к файлу с товарами\n",
    "treatment(product_codes)"
   ]
  },
  {
   "cell_type": "markdown",
   "metadata": {},
   "source": [
    "В датасете с товарами 9969 строк. Явных дубликатов и пропусков не обнаружено. Но стоит проверить на неявные дубликаты. Названия столбцов стоит привести к единому формату."
   ]
  },
  {
   "cell_type": "markdown",
   "metadata": {},
   "source": [
    "### Переименуем столбцы"
   ]
  },
  {
   "cell_type": "code",
   "execution_count": 6,
   "metadata": {},
   "outputs": [
    {
     "data": {
      "text/html": [
       "<div>\n",
       "<style scoped>\n",
       "    .dataframe tbody tr th:only-of-type {\n",
       "        vertical-align: middle;\n",
       "    }\n",
       "\n",
       "    .dataframe tbody tr th {\n",
       "        vertical-align: top;\n",
       "    }\n",
       "\n",
       "    .dataframe thead th {\n",
       "        text-align: right;\n",
       "    }\n",
       "</style>\n",
       "<table border=\"1\" class=\"dataframe\">\n",
       "  <thead>\n",
       "    <tr style=\"text-align: right;\">\n",
       "      <th></th>\n",
       "      <th>purchase_id</th>\n",
       "      <th>item_id</th>\n",
       "      <th>quantity</th>\n",
       "      <th>purchase_date</th>\n",
       "      <th>customer_id</th>\n",
       "      <th>shop_id</th>\n",
       "      <th>loyalty_program</th>\n",
       "    </tr>\n",
       "  </thead>\n",
       "  <tbody>\n",
       "    <tr>\n",
       "      <th>0</th>\n",
       "      <td>538280</td>\n",
       "      <td>21873</td>\n",
       "      <td>11</td>\n",
       "      <td>2016-12-10 12:50:00</td>\n",
       "      <td>18427.0</td>\n",
       "      <td>Shop 0</td>\n",
       "      <td>0.0</td>\n",
       "    </tr>\n",
       "    <tr>\n",
       "      <th>1</th>\n",
       "      <td>538862</td>\n",
       "      <td>22195</td>\n",
       "      <td>0</td>\n",
       "      <td>2016-12-14 14:11:00</td>\n",
       "      <td>22389.0</td>\n",
       "      <td>Shop 0</td>\n",
       "      <td>1.0</td>\n",
       "    </tr>\n",
       "    <tr>\n",
       "      <th>2</th>\n",
       "      <td>538855</td>\n",
       "      <td>21239</td>\n",
       "      <td>7</td>\n",
       "      <td>2016-12-14 13:50:00</td>\n",
       "      <td>22182.0</td>\n",
       "      <td>Shop 0</td>\n",
       "      <td>1.0</td>\n",
       "    </tr>\n",
       "    <tr>\n",
       "      <th>3</th>\n",
       "      <td>543543</td>\n",
       "      <td>22271</td>\n",
       "      <td>0</td>\n",
       "      <td>2017-02-09 15:33:00</td>\n",
       "      <td>23522.0</td>\n",
       "      <td>Shop 0</td>\n",
       "      <td>1.0</td>\n",
       "    </tr>\n",
       "    <tr>\n",
       "      <th>4</th>\n",
       "      <td>543812</td>\n",
       "      <td>79321</td>\n",
       "      <td>0</td>\n",
       "      <td>2017-02-13 14:40:00</td>\n",
       "      <td>23151.0</td>\n",
       "      <td>Shop 0</td>\n",
       "      <td>1.0</td>\n",
       "    </tr>\n",
       "  </tbody>\n",
       "</table>\n",
       "</div>"
      ],
      "text/plain": [
       "  purchase_id item_id  quantity        purchase_date  customer_id shop_id  \\\n",
       "0      538280   21873        11  2016-12-10 12:50:00      18427.0  Shop 0   \n",
       "1      538862   22195         0  2016-12-14 14:11:00      22389.0  Shop 0   \n",
       "2      538855   21239         7  2016-12-14 13:50:00      22182.0  Shop 0   \n",
       "3      543543   22271         0  2017-02-09 15:33:00      23522.0  Shop 0   \n",
       "4      543812   79321         0  2017-02-13 14:40:00      23151.0  Shop 0   \n",
       "\n",
       "   loyalty_program  \n",
       "0              0.0  \n",
       "1              1.0  \n",
       "2              1.0  \n",
       "3              1.0  \n",
       "4              1.0  "
      ]
     },
     "execution_count": 6,
     "metadata": {},
     "output_type": "execute_result"
    }
   ],
   "source": [
    "# переименуем столбцы в файле с продажами\n",
    "retail_dataset.rename(columns = {'purchaseid':'purchase_id', 'item_ID':'item_id', 'Quantity':'quantity', 'purchasedate':'purchase_date', 'CustomerID':'customer_id', 'ShopID':'shop_id'}, inplace = True)\n",
    "retail_dataset.head()"
   ]
  },
  {
   "cell_type": "code",
   "execution_count": 7,
   "metadata": {
    "scrolled": true
   },
   "outputs": [
    {
     "data": {
      "text/html": [
       "<div>\n",
       "<style scoped>\n",
       "    .dataframe tbody tr th:only-of-type {\n",
       "        vertical-align: middle;\n",
       "    }\n",
       "\n",
       "    .dataframe tbody tr th {\n",
       "        vertical-align: top;\n",
       "    }\n",
       "\n",
       "    .dataframe thead th {\n",
       "        text-align: right;\n",
       "    }\n",
       "</style>\n",
       "<table border=\"1\" class=\"dataframe\">\n",
       "  <thead>\n",
       "    <tr style=\"text-align: right;\">\n",
       "      <th></th>\n",
       "      <th>product_id</th>\n",
       "      <th>price_per_one</th>\n",
       "    </tr>\n",
       "  </thead>\n",
       "  <tbody>\n",
       "    <tr>\n",
       "      <th>0</th>\n",
       "      <td>85123A</td>\n",
       "      <td>2.55</td>\n",
       "    </tr>\n",
       "    <tr>\n",
       "      <th>1</th>\n",
       "      <td>71053</td>\n",
       "      <td>3.39</td>\n",
       "    </tr>\n",
       "    <tr>\n",
       "      <th>2</th>\n",
       "      <td>84406B</td>\n",
       "      <td>2.75</td>\n",
       "    </tr>\n",
       "    <tr>\n",
       "      <th>3</th>\n",
       "      <td>84029G</td>\n",
       "      <td>3.39</td>\n",
       "    </tr>\n",
       "    <tr>\n",
       "      <th>4</th>\n",
       "      <td>84029E</td>\n",
       "      <td>3.39</td>\n",
       "    </tr>\n",
       "  </tbody>\n",
       "</table>\n",
       "</div>"
      ],
      "text/plain": [
       "  product_id  price_per_one\n",
       "0     85123A           2.55\n",
       "1      71053           3.39\n",
       "2     84406B           2.75\n",
       "3     84029G           3.39\n",
       "4     84029E           3.39"
      ]
     },
     "execution_count": 7,
     "metadata": {},
     "output_type": "execute_result"
    }
   ],
   "source": [
    "# переименуем столбцы в файле с товарами\n",
    "product_codes.rename(columns = {'productID':'product_id'}, inplace = True)\n",
    "product_codes.head()"
   ]
  },
  {
   "cell_type": "markdown",
   "metadata": {},
   "source": [
    "### Исследуем пропуски"
   ]
  },
  {
   "cell_type": "markdown",
   "metadata": {},
   "source": [
    "Судя по предварительной информации на предыдущем этапе, пропуски есть только в файле с продажами. Посмотрим, какую долю они составляют от общего количества."
   ]
  },
  {
   "cell_type": "code",
   "execution_count": 8,
   "metadata": {},
   "outputs": [
    {
     "data": {
      "text/html": [
       "<style type=\"text/css\">\n",
       "#T_0efb8_row0_col0, #T_0efb8_row1_col0, #T_0efb8_row2_col0, #T_0efb8_row3_col0, #T_0efb8_row5_col0, #T_0efb8_row6_col0 {\n",
       "  background-color: #3b4cc0;\n",
       "  color: #f1f1f1;\n",
       "}\n",
       "#T_0efb8_row4_col0 {\n",
       "  background-color: #b40426;\n",
       "  color: #f1f1f1;\n",
       "}\n",
       "</style>\n",
       "<table id=\"T_0efb8\">\n",
       "  <thead>\n",
       "    <tr>\n",
       "      <th class=\"blank level0\" >&nbsp;</th>\n",
       "      <th id=\"T_0efb8_level0_col0\" class=\"col_heading level0 col0\" >0</th>\n",
       "    </tr>\n",
       "  </thead>\n",
       "  <tbody>\n",
       "    <tr>\n",
       "      <th id=\"T_0efb8_level0_row0\" class=\"row_heading level0 row0\" >purchase_id</th>\n",
       "      <td id=\"T_0efb8_row0_col0\" class=\"data row0 col0\" >0.000000</td>\n",
       "    </tr>\n",
       "    <tr>\n",
       "      <th id=\"T_0efb8_level0_row1\" class=\"row_heading level0 row1\" >item_id</th>\n",
       "      <td id=\"T_0efb8_row1_col0\" class=\"data row1 col0\" >0.000000</td>\n",
       "    </tr>\n",
       "    <tr>\n",
       "      <th id=\"T_0efb8_level0_row2\" class=\"row_heading level0 row2\" >quantity</th>\n",
       "      <td id=\"T_0efb8_row2_col0\" class=\"data row2 col0\" >0.000000</td>\n",
       "    </tr>\n",
       "    <tr>\n",
       "      <th id=\"T_0efb8_level0_row3\" class=\"row_heading level0 row3\" >purchase_date</th>\n",
       "      <td id=\"T_0efb8_row3_col0\" class=\"data row3 col0\" >0.000000</td>\n",
       "    </tr>\n",
       "    <tr>\n",
       "      <th id=\"T_0efb8_level0_row4\" class=\"row_heading level0 row4\" >customer_id</th>\n",
       "      <td id=\"T_0efb8_row4_col0\" class=\"data row4 col0\" >34.400000</td>\n",
       "    </tr>\n",
       "    <tr>\n",
       "      <th id=\"T_0efb8_level0_row5\" class=\"row_heading level0 row5\" >shop_id</th>\n",
       "      <td id=\"T_0efb8_row5_col0\" class=\"data row5 col0\" >0.000000</td>\n",
       "    </tr>\n",
       "    <tr>\n",
       "      <th id=\"T_0efb8_level0_row6\" class=\"row_heading level0 row6\" >loyalty_program</th>\n",
       "      <td id=\"T_0efb8_row6_col0\" class=\"data row6 col0\" >0.000000</td>\n",
       "    </tr>\n",
       "  </tbody>\n",
       "</table>\n"
      ],
      "text/plain": [
       "<pandas.io.formats.style.Styler at 0x24bafe4a130>"
      ]
     },
     "execution_count": 8,
     "metadata": {},
     "output_type": "execute_result"
    }
   ],
   "source": [
    "# выведем доли пропусков по каждому столбцу файла с продажами\n",
    "pd.DataFrame(round(retail_dataset.isna().mean()*100,1)).style.background_gradient('coolwarm')"
   ]
  },
  {
   "cell_type": "markdown",
   "metadata": {},
   "source": [
    "Проверим, есть ли среди пропусков участники программы лояльности."
   ]
  },
  {
   "cell_type": "code",
   "execution_count": 9,
   "metadata": {},
   "outputs": [
    {
     "data": {
      "text/plain": [
       "0.0    36210\n",
       "Name: loyalty_program, dtype: int64"
      ]
     },
     "execution_count": 9,
     "metadata": {},
     "output_type": "execute_result"
    }
   ],
   "source": [
    "# проверим, есть ли участники программы лояльности без id покупателя\n",
    "retail_dataset[retail_dataset['customer_id'].isnull()]['loyalty_program'].value_counts()"
   ]
  },
  {
   "cell_type": "markdown",
   "metadata": {},
   "source": [
    "Пропуски в столбце customer_id составляют больше 34% от общего количества данных. Это слишком много, чтобы удалять. К тому же, отсутствие этих данных может исказить относительные показатели при дальнейшем исследовании. Среди этих данных нет участников программы лояльности, а значит это просто покупатели, которые не пожелали быть идентифицированными. Для анализа количества пользователей можем считать каждую покупку  без идентификатора как отдельного пользователя. Для этого заполним айди клиента номером чека."
   ]
  },
  {
   "cell_type": "code",
   "execution_count": 10,
   "metadata": {},
   "outputs": [
    {
     "data": {
      "text/plain": [
       "purchase_id        0\n",
       "item_id            0\n",
       "quantity           0\n",
       "purchase_date      0\n",
       "customer_id        0\n",
       "shop_id            0\n",
       "loyalty_program    0\n",
       "dtype: int64"
      ]
     },
     "execution_count": 10,
     "metadata": {},
     "output_type": "execute_result"
    }
   ],
   "source": [
    "# сохраним копию данных без заполнения пропусков на случай дальнейшей проверки по идентифицированным пользователям без карты лояльности\n",
    "empty_retail = retail_dataset.copy()\n",
    "# заполняем пропущенные значения номером чека\n",
    "retail_dataset['customer_id'] = retail_dataset['customer_id'].fillna(retail_dataset['purchase_id'])\n",
    "# проверяем, не осталось ли пропусков\n",
    "retail_dataset.isna().sum()"
   ]
  },
  {
   "cell_type": "markdown",
   "metadata": {},
   "source": [
    "### Меняем тип столбцов"
   ]
  },
  {
   "cell_type": "markdown",
   "metadata": {},
   "source": [
    "Приведем столбец с датой к типу datetime"
   ]
  },
  {
   "cell_type": "code",
   "execution_count": 11,
   "metadata": {},
   "outputs": [
    {
     "name": "stdout",
     "output_type": "stream",
     "text": [
      "<class 'pandas.core.frame.DataFrame'>\n",
      "RangeIndex: 105335 entries, 0 to 105334\n",
      "Data columns (total 7 columns):\n",
      " #   Column           Non-Null Count   Dtype         \n",
      "---  ------           --------------   -----         \n",
      " 0   purchase_id      105335 non-null  object        \n",
      " 1   item_id          105335 non-null  object        \n",
      " 2   quantity         105335 non-null  int64         \n",
      " 3   purchase_date    105335 non-null  datetime64[ns]\n",
      " 4   customer_id      105335 non-null  object        \n",
      " 5   shop_id          105335 non-null  object        \n",
      " 6   loyalty_program  105335 non-null  float64       \n",
      "dtypes: datetime64[ns](1), float64(1), int64(1), object(4)\n",
      "memory usage: 5.6+ MB\n"
     ]
    }
   ],
   "source": [
    "# переведем столбец с датой и временем в нужный формат\n",
    "retail_dataset['purchase_date'] = pd.to_datetime(retail_dataset['purchase_date'], format='%Y-%m-%d %H:%M:%S')\n",
    "\n",
    "# проверим\n",
    "retail_dataset.info()"
   ]
  },
  {
   "cell_type": "markdown",
   "metadata": {},
   "source": [
    "Приведем столбец с информацией о программе лояльности в булевый тип"
   ]
  },
  {
   "cell_type": "code",
   "execution_count": 12,
   "metadata": {},
   "outputs": [
    {
     "name": "stdout",
     "output_type": "stream",
     "text": [
      "<class 'pandas.core.frame.DataFrame'>\n",
      "RangeIndex: 105335 entries, 0 to 105334\n",
      "Data columns (total 7 columns):\n",
      " #   Column           Non-Null Count   Dtype         \n",
      "---  ------           --------------   -----         \n",
      " 0   purchase_id      105335 non-null  object        \n",
      " 1   item_id          105335 non-null  object        \n",
      " 2   quantity         105335 non-null  int64         \n",
      " 3   purchase_date    105335 non-null  datetime64[ns]\n",
      " 4   customer_id      105335 non-null  object        \n",
      " 5   shop_id          105335 non-null  object        \n",
      " 6   loyalty_program  105335 non-null  bool          \n",
      "dtypes: bool(1), datetime64[ns](1), int64(1), object(4)\n",
      "memory usage: 4.9+ MB\n"
     ]
    }
   ],
   "source": [
    "# переведем формат столбца о программе лояльности в булевый тип\n",
    "retail_dataset['loyalty_program'] = retail_dataset['loyalty_program'].astype('bool')\n",
    "# проверим\n",
    "retail_dataset.info()"
   ]
  },
  {
   "cell_type": "markdown",
   "metadata": {},
   "source": [
    "### Устраняем явные дубликаты"
   ]
  },
  {
   "cell_type": "markdown",
   "metadata": {},
   "source": [
    "При знакомстве с данными мы заметили, что в файле с продажами присутствует 1033 строчки явных дубликатов. Возможно это какой-то сбой системы. Нужно посчитать, сколько это в процентном отношении к общему количеству строк, чтобы принять по ним решение."
   ]
  },
  {
   "cell_type": "code",
   "execution_count": 13,
   "metadata": {},
   "outputs": [
    {
     "name": "stdout",
     "output_type": "stream",
     "text": [
      "Доля дубликатов в общем количестве строк: 0.98%\n"
     ]
    }
   ],
   "source": [
    "# выведем долю пропусков от общего количества строк\n",
    "print('Доля дубликатов в общем количестве строк:', \"{:.2%}\".format(retail_dataset.duplicated().sum() / len(retail_dataset)))"
   ]
  },
  {
   "cell_type": "markdown",
   "metadata": {},
   "source": [
    "Дубликаты занимают меньше 1% данных, значит можно их спокойно удалить. На всякий случай лучше сохраним очищенный от дубликатов датасет в новую переменную retail"
   ]
  },
  {
   "cell_type": "code",
   "execution_count": 14,
   "metadata": {},
   "outputs": [
    {
     "data": {
      "text/plain": [
       "0"
      ]
     },
     "execution_count": 14,
     "metadata": {},
     "output_type": "execute_result"
    }
   ],
   "source": [
    "# удаляем дубликаты\n",
    "retail = retail_dataset.drop_duplicates()\n",
    "# проверяем\n",
    "retail.duplicated().sum()"
   ]
  },
  {
   "cell_type": "markdown",
   "metadata": {},
   "source": [
    "### Проверяем на неявные дубликаты"
   ]
  },
  {
   "cell_type": "markdown",
   "metadata": {},
   "source": [
    "Неявные дубликаты в наших данных могут скрываться только там, где в строковых данных есть заглавные и строчные буквы. Попробуем привести такие столбцы к нижнему регистру и еще раз проверить на дубликаты.\n",
    "\n",
    "Сначала файл о продуктах"
   ]
  },
  {
   "cell_type": "code",
   "execution_count": 15,
   "metadata": {},
   "outputs": [
    {
     "data": {
      "text/plain": [
       "76"
      ]
     },
     "execution_count": 15,
     "metadata": {},
     "output_type": "execute_result"
    }
   ],
   "source": [
    "# приведем столбец с айди в данных о продуктах к нижнему регистру\n",
    "product_codes['product_id'] = product_codes['product_id'].str.lower()\n",
    "# проверим данные о продуктах на дубликаты\n",
    "product_codes.duplicated().sum()"
   ]
  },
  {
   "cell_type": "markdown",
   "metadata": {},
   "source": [
    "Обнаружилось 76 задублированных строк. Проверим, какую долю они занимают от общего количества данных."
   ]
  },
  {
   "cell_type": "code",
   "execution_count": 16,
   "metadata": {},
   "outputs": [
    {
     "name": "stdout",
     "output_type": "stream",
     "text": [
      "Доля дубликатов в общем количестве строк: 0.76%\n"
     ]
    }
   ],
   "source": [
    "# выведем долю пропусков от общего количества строк\n",
    "print('Доля дубликатов в общем количестве строк:', \"{:.2%}\".format(product_codes.duplicated().sum() / len(product_codes)))"
   ]
  },
  {
   "cell_type": "markdown",
   "metadata": {},
   "source": [
    "После удаления дубликатов останется больше 99% данных, так что можно удалять. Так же как и с данными о продажах, сохраним обновленные данные в отдельную переменную products"
   ]
  },
  {
   "cell_type": "code",
   "execution_count": 17,
   "metadata": {},
   "outputs": [
    {
     "data": {
      "text/plain": [
       "0"
      ]
     },
     "execution_count": 17,
     "metadata": {},
     "output_type": "execute_result"
    }
   ],
   "source": [
    "products = product_codes.drop_duplicates()\n",
    "# проверяем\n",
    "products.duplicated().sum()"
   ]
  },
  {
   "cell_type": "markdown",
   "metadata": {},
   "source": [
    "Теперь переходим к файлу с продажами"
   ]
  },
  {
   "cell_type": "code",
   "execution_count": 18,
   "metadata": {},
   "outputs": [
    {
     "data": {
      "text/plain": [
       "0"
      ]
     },
     "execution_count": 18,
     "metadata": {},
     "output_type": "execute_result"
    }
   ],
   "source": [
    "# приведем все строковые столбцы в файле с продажами к нижнему регистру\n",
    "retail['purchase_id'] = retail['purchase_id'].str.lower()\n",
    "retail['item_id'] = retail['item_id'].str.lower()\n",
    "retail['shop_id'] = retail['shop_id'].str.lower()\n",
    "\n",
    "# и еще раз проверяем на дубликаты\n",
    "retail.duplicated().sum()"
   ]
  },
  {
   "cell_type": "markdown",
   "metadata": {},
   "source": [
    "В файле с продажами неявные дубликаты отсутствовали."
   ]
  },
  {
   "cell_type": "markdown",
   "metadata": {},
   "source": [
    "### Проверка на аномалии и выбросы"
   ]
  },
  {
   "cell_type": "markdown",
   "metadata": {},
   "source": [
    "Для начала посмотрим описание числовых столбцов на предмет аномалий. Сначала данные о продажах."
   ]
  },
  {
   "cell_type": "code",
   "execution_count": 19,
   "metadata": {},
   "outputs": [
    {
     "data": {
      "text/plain": [
       "count    104302.000000\n",
       "mean          7.883003\n",
       "std         329.565540\n",
       "min      -74216.000000\n",
       "25%           0.000000\n",
       "50%           2.000000\n",
       "75%           7.000000\n",
       "max       74214.000000\n",
       "Name: quantity, dtype: float64"
      ]
     },
     "execution_count": 19,
     "metadata": {},
     "output_type": "execute_result"
    }
   ],
   "source": [
    "# посмотрим числовое описание столбца с количеством датасета о продажах\n",
    "retail['quantity'].describe()"
   ]
  },
  {
   "cell_type": "markdown",
   "metadata": {},
   "source": [
    "Есть явные выбросы как в большую, так и в меньшую сторону. Посмотрим на графике с усами."
   ]
  },
  {
   "cell_type": "code",
   "execution_count": 20,
   "metadata": {
    "scrolled": false
   },
   "outputs": [
    {
     "data": {
      "image/png": "[encoded data removed]",
      "text/plain": [
       "<Figure size 640x480 with 1 Axes>"
      ]
     },
     "metadata": {},
     "output_type": "display_data"
    }
   ],
   "source": [
    "# смотрим диаграму размаха по количеству товаров\n",
    "retail.boxplot(column='quantity')\n",
    "plt.show()"
   ]
  },
  {
   "cell_type": "markdown",
   "metadata": {},
   "source": [
    "Однозначно есть выброс в количестве больше 6тысяч с плюсом и минусом. Это явная ошибка. Но посмотрим диаграмму размаха в большем масштабе."
   ]
  },
  {
   "cell_type": "code",
   "execution_count": 21,
   "metadata": {},
   "outputs": [
    {
     "data": {
      "image/png": "[encoded data removed]",
      "text/plain": [
       "<Figure size 640x480 with 1 Axes>"
      ]
     },
     "metadata": {},
     "output_type": "display_data"
    }
   ],
   "source": [
    "# увеличим масштаб графика\n",
    "retail.boxplot(column='quantity')\n",
    "plt.ylim(-1000, 1000)\n",
    "plt.show()"
   ]
  },
  {
   "cell_type": "markdown",
   "metadata": {},
   "source": [
    "Похоже что разброс по количеству очень большой. Возможно мелкие детали продают не упаковками, а поштучно. Удалять все данные больше \"усов\" в данной ситуации считаю нецелесообразным, это исказит картину. К тому же в нашем исследовании количество товара не является ключевым показателем. Можно обрезать только явно выбивающиеся данные больше 1 тысячи и проверить, не потеряли ли мы слишком много данных."
   ]
  },
  {
   "cell_type": "code",
   "execution_count": 22,
   "metadata": {},
   "outputs": [
    {
     "name": "stdout",
     "output_type": "stream",
     "text": [
      "105335\n",
      "104263\n",
      "Потеря данных от первоначального количества составила: 1.02%\n"
     ]
    }
   ],
   "source": [
    "# обрезаем количество меньше -1000 и больше 1000\n",
    "retail = retail[(retail['quantity'] > -1000) & (retail['quantity'] < 1000)]\n",
    "\n",
    "# проверяем, не сильно ли изменилось количество строк\n",
    "print(len(retail_dataset))\n",
    "print(len(retail))\n",
    "print('Потеря данных от первоначального количества составила:', \"{:.2%}\".format(1 - (len(retail) / len(retail_dataset))))"
   ]
  },
  {
   "cell_type": "markdown",
   "metadata": {},
   "source": [
    "Потеря составила 1%, что считается допустимым."
   ]
  },
  {
   "cell_type": "markdown",
   "metadata": {},
   "source": [
    "Теперь проверим описание столбца с ценами в данных о товарах."
   ]
  },
  {
   "cell_type": "code",
   "execution_count": 23,
   "metadata": {},
   "outputs": [
    {
     "data": {
      "text/plain": [
       "count     9893.000000\n",
       "mean        19.601814\n",
       "std        332.147103\n",
       "min          0.000000\n",
       "25%          1.250000\n",
       "50%          2.550000\n",
       "75%          5.450000\n",
       "max      16888.020000\n",
       "Name: price_per_one, dtype: float64"
      ]
     },
     "execution_count": 23,
     "metadata": {},
     "output_type": "execute_result"
    }
   ],
   "source": [
    "# посмотрим числовое описание столбца с ценами датасета о товарах\n",
    "products['price_per_one'].describe()"
   ]
  },
  {
   "cell_type": "markdown",
   "metadata": {},
   "source": [
    "Здесь тоже присутствуют выбросы: максимальная цена слишком большая и стандартное отклонение значительно превышает среднее. Посмотрим диаграмму размаха."
   ]
  },
  {
   "cell_type": "code",
   "execution_count": 24,
   "metadata": {},
   "outputs": [
    {
     "data": {
      "image/png": "[encoded data removed]",
      "text/plain": [
       "<Figure size 640x480 with 1 Axes>"
      ]
     },
     "metadata": {},
     "output_type": "display_data"
    }
   ],
   "source": [
    "# смотрим диаграму размаха по цене\n",
    "products.boxplot(column='price_per_one')\n",
    "plt.show()"
   ]
  },
  {
   "cell_type": "markdown",
   "metadata": {},
   "source": [
    "Тут замечено несколько выбросов с ценой больше 5 тысяч. Посмотрим поближе"
   ]
  },
  {
   "cell_type": "code",
   "execution_count": 25,
   "metadata": {},
   "outputs": [
    {
     "data": {
      "image/png": "[encoded data removed]",
      "text/plain": [
       "<Figure size 640x480 with 1 Axes>"
      ]
     },
     "metadata": {},
     "output_type": "display_data"
    }
   ],
   "source": [
    "# увеличим масштаб графика\n",
    "products.boxplot(column='price_per_one')\n",
    "plt.ylim(0, 1000)\n",
    "plt.show()"
   ]
  },
  {
   "cell_type": "markdown",
   "metadata": {},
   "source": [
    "Разброс цен тоже очень большой, но это тоже легко объяснить тем, что в строительном магазине могут быть как очень мелкие детали с низкой стоимостью за единицу товара, так и достаточно крупные и дорогие. Попробуем как и с данными о продажах, обрезать явные выбросы больше 1 тысячи и проверить, не слишком ли много мы потеряли."
   ]
  },
  {
   "cell_type": "code",
   "execution_count": 26,
   "metadata": {
    "scrolled": true
   },
   "outputs": [
    {
     "name": "stdout",
     "output_type": "stream",
     "text": [
      "9969\n",
      "9878\n",
      "Потеря данных от первоначального количества составила: 0.91%\n"
     ]
    }
   ],
   "source": [
    "# обрезаем стоимость больше 1000\n",
    "products = products[(products['price_per_one'] < 1000)]\n",
    "\n",
    "# проверяем, не сильно ли изменилось количество строк\n",
    "print(len(product_codes))\n",
    "print(len(products))\n",
    "print('Потеря данных от первоначального количества составила:', \"{:.2%}\".format(1 - (len(products) / len(product_codes))))"
   ]
  },
  {
   "cell_type": "markdown",
   "metadata": {},
   "source": [
    "Потеря составила меньше 1%, что является допустимым."
   ]
  },
  {
   "cell_type": "markdown",
   "metadata": {},
   "source": [
    "<a id='#3'></a>\n",
    "\n",
    "## Исследовательский анализ данных"
   ]
  },
  {
   "cell_type": "markdown",
   "metadata": {},
   "source": [
    "### Распределение по датам\n",
    "\n",
    "Посмотрим, за какой период у нас имеются данные. Для этого сначала добавим столбец без времени, только с датами."
   ]
  },
  {
   "cell_type": "code",
   "execution_count": 27,
   "metadata": {},
   "outputs": [
    {
     "data": {
      "text/html": [
       "<div>\n",
       "<style scoped>\n",
       "    .dataframe tbody tr th:only-of-type {\n",
       "        vertical-align: middle;\n",
       "    }\n",
       "\n",
       "    .dataframe tbody tr th {\n",
       "        vertical-align: top;\n",
       "    }\n",
       "\n",
       "    .dataframe thead th {\n",
       "        text-align: right;\n",
       "    }\n",
       "</style>\n",
       "<table border=\"1\" class=\"dataframe\">\n",
       "  <thead>\n",
       "    <tr style=\"text-align: right;\">\n",
       "      <th></th>\n",
       "      <th>purchase_id</th>\n",
       "      <th>item_id</th>\n",
       "      <th>quantity</th>\n",
       "      <th>purchase_date</th>\n",
       "      <th>customer_id</th>\n",
       "      <th>shop_id</th>\n",
       "      <th>loyalty_program</th>\n",
       "      <th>date</th>\n",
       "    </tr>\n",
       "  </thead>\n",
       "  <tbody>\n",
       "    <tr>\n",
       "      <th>0</th>\n",
       "      <td>538280</td>\n",
       "      <td>21873</td>\n",
       "      <td>11</td>\n",
       "      <td>2016-12-10 12:50:00</td>\n",
       "      <td>18427.0</td>\n",
       "      <td>shop 0</td>\n",
       "      <td>False</td>\n",
       "      <td>2016-12-10</td>\n",
       "    </tr>\n",
       "    <tr>\n",
       "      <th>1</th>\n",
       "      <td>538862</td>\n",
       "      <td>22195</td>\n",
       "      <td>0</td>\n",
       "      <td>2016-12-14 14:11:00</td>\n",
       "      <td>22389.0</td>\n",
       "      <td>shop 0</td>\n",
       "      <td>True</td>\n",
       "      <td>2016-12-14</td>\n",
       "    </tr>\n",
       "    <tr>\n",
       "      <th>2</th>\n",
       "      <td>538855</td>\n",
       "      <td>21239</td>\n",
       "      <td>7</td>\n",
       "      <td>2016-12-14 13:50:00</td>\n",
       "      <td>22182.0</td>\n",
       "      <td>shop 0</td>\n",
       "      <td>True</td>\n",
       "      <td>2016-12-14</td>\n",
       "    </tr>\n",
       "    <tr>\n",
       "      <th>3</th>\n",
       "      <td>543543</td>\n",
       "      <td>22271</td>\n",
       "      <td>0</td>\n",
       "      <td>2017-02-09 15:33:00</td>\n",
       "      <td>23522.0</td>\n",
       "      <td>shop 0</td>\n",
       "      <td>True</td>\n",
       "      <td>2017-02-09</td>\n",
       "    </tr>\n",
       "    <tr>\n",
       "      <th>4</th>\n",
       "      <td>543812</td>\n",
       "      <td>79321</td>\n",
       "      <td>0</td>\n",
       "      <td>2017-02-13 14:40:00</td>\n",
       "      <td>23151.0</td>\n",
       "      <td>shop 0</td>\n",
       "      <td>True</td>\n",
       "      <td>2017-02-13</td>\n",
       "    </tr>\n",
       "  </tbody>\n",
       "</table>\n",
       "</div>"
      ],
      "text/plain": [
       "  purchase_id item_id  quantity       purchase_date customer_id shop_id  \\\n",
       "0      538280   21873        11 2016-12-10 12:50:00     18427.0  shop 0   \n",
       "1      538862   22195         0 2016-12-14 14:11:00     22389.0  shop 0   \n",
       "2      538855   21239         7 2016-12-14 13:50:00     22182.0  shop 0   \n",
       "3      543543   22271         0 2017-02-09 15:33:00     23522.0  shop 0   \n",
       "4      543812   79321         0 2017-02-13 14:40:00     23151.0  shop 0   \n",
       "\n",
       "   loyalty_program        date  \n",
       "0            False  2016-12-10  \n",
       "1             True  2016-12-14  \n",
       "2             True  2016-12-14  \n",
       "3             True  2017-02-09  \n",
       "4             True  2017-02-13  "
      ]
     },
     "execution_count": 27,
     "metadata": {},
     "output_type": "execute_result"
    }
   ],
   "source": [
    "# добавим в данные о продажах столбец с датой\n",
    "retail['date'] = retail['purchase_date'].dt.date\n",
    "retail.head()"
   ]
  },
  {
   "cell_type": "code",
   "execution_count": 28,
   "metadata": {
    "scrolled": true
   },
   "outputs": [
    {
     "name": "stdout",
     "output_type": "stream",
     "text": [
      "Минимальная дата: 2016-12-01\n",
      "Максимальная дата: 2017-02-28\n"
     ]
    }
   ],
   "source": [
    "# найдем минимальную имаксимальную дату\n",
    "print('Минимальная дата:', retail['date'].min())\n",
    "print('Максимальная дата:', retail['date'].max())"
   ]
  },
  {
   "cell_type": "markdown",
   "metadata": {},
   "source": [
    "У нас есть данные с 1 декабря 2016 года по 28 февраля 2017 года, всего 3 зимних месяца. Посмотрим на гистограмме, как распределены данные внутри этого периода."
   ]
  },
  {
   "cell_type": "code",
   "execution_count": 29,
   "metadata": {
    "scrolled": false
   },
   "outputs": [
    {
     "data": {
      "image/png": "[encoded data removed]",
      "text/plain": [
       "<Figure size 640x480 with 1 Axes>"
      ]
     },
     "metadata": {},
     "output_type": "display_data"
    },
    {
     "data": {
      "text/plain": [
       "<Figure size 2000x800 with 0 Axes>"
      ]
     },
     "metadata": {},
     "output_type": "display_data"
    }
   ],
   "source": [
    "# Построим гистограмму распределения количества событий по датам\n",
    "retail['purchase_date'].hist(bins=92)\n",
    "plt.xticks(rotation=45)\n",
    "plt.title('Распределение количества продаж по датам')\n",
    "plt.figure(figsize=(20, 8))\n",
    "plt.show();"
   ]
  },
  {
   "cell_type": "markdown",
   "metadata": {},
   "source": [
    "Распределение выглядит вполне закономерным: есть всплеск покупок перед Новым годом, потом в канун и сам период Нового года провал, что говорит о том, что накануне Нового года мало кто занимается ремонтом. И потом более-менее равномерные продажи с некоторыми пиками и спадами (похоже в зависимости от дней недели) в дальнейший период."
   ]
  },
  {
   "cell_type": "markdown",
   "metadata": {},
   "source": [
    "### Распределение количества продаж по магазинам"
   ]
  },
  {
   "cell_type": "markdown",
   "metadata": {},
   "source": [
    "Посмотрим, как распределены продажи в разных магазинах."
   ]
  },
  {
   "cell_type": "code",
   "execution_count": 30,
   "metadata": {
    "scrolled": false
   },
   "outputs": [
    {
     "data": {
      "image/png": "[encoded data removed]"
     },
     "metadata": {},
     "output_type": "display_data"
    }
   ],
   "source": [
    "# Построим распределение количества продаж по магазинам\n",
    "purchases = retail.groupby('shop_id').agg({'purchase_id':'nunique'}).reset_index()\n",
    "\n",
    "fig = px.bar(purchases, x='shop_id', y='purchase_id')\n",
    "fig.update_layout(\n",
    "    title='Распределение количества продаж по магазинам',\n",
    "    xaxis_title='магазины',\n",
    "    yaxis_title='количество чеков',\n",
    "    margin=dict(l=0, r=0, t=50, b=0),\n",
    "    template = 'ggplot2'\n",
    ")\n",
    "fig.show();"
   ]
  },
  {
   "cell_type": "markdown",
   "metadata": {},
   "source": [
    "Нулевой магазин явно выбивается из общего количества. Либо это какой-то центральный магазин, либо распределительный центр или оптовый склад. Увеличим масштаб, чтобы рассмотреть продажи в остальных магазинах."
   ]
  },
  {
   "cell_type": "code",
   "execution_count": 31,
   "metadata": {},
   "outputs": [
    {
     "data": {
      "image/png": "[encoded data removed]"
     },
     "metadata": {},
     "output_type": "display_data"
    }
   ],
   "source": [
    "small_purchases = retail.query('shop_id != \"shop 0\"').groupby('shop_id').agg({'purchase_id':'nunique'}).reset_index()\n",
    "\n",
    "fig = px.bar(small_purchases, x='shop_id', y='purchase_id')\n",
    "fig.update_layout(\n",
    "    title='Распределение количества продаж по магазинам',\n",
    "    xaxis_title='магазины',\n",
    "    yaxis_title='количество чеков',\n",
    "    margin=dict(l=0, r=0, t=50, b=0),\n",
    "    template = 'ggplot2'\n",
    ")\n",
    "fig.show();"
   ]
  },
  {
   "cell_type": "markdown",
   "metadata": {},
   "source": [
    "В остальных магазинах продажи есть, но в некоторых они совсем незначительные."
   ]
  },
  {
   "cell_type": "markdown",
   "metadata": {},
   "source": [
    "### Количество покупок по пользователям"
   ]
  },
  {
   "cell_type": "markdown",
   "metadata": {},
   "source": [
    "Посмотрим, сколько у нас всего имеется уникальных пользователей"
   ]
  },
  {
   "cell_type": "code",
   "execution_count": 32,
   "metadata": {},
   "outputs": [
    {
     "name": "stdout",
     "output_type": "stream",
     "text": [
      "Количество уникальных пользователей: 2486\n"
     ]
    }
   ],
   "source": [
    "# посчитаем количество пользователей\n",
    "print('Количество уникальных пользователей:', retail['customer_id'].nunique())"
   ]
  },
  {
   "cell_type": "markdown",
   "metadata": {},
   "source": [
    "Помним, что в данных о пользователях у нас было много пропусков, которые мы заполнили исходя из логики, что каждый новый чек воспринимается как новый покупатель. Попробуем посмотреть по количеству чеков на человека."
   ]
  },
  {
   "cell_type": "code",
   "execution_count": 33,
   "metadata": {},
   "outputs": [
    {
     "name": "stdout",
     "output_type": "stream",
     "text": [
      "Количество чеков: 4874\n",
      "Среднее количество чеков на одного пользователя: 2\n"
     ]
    }
   ],
   "source": [
    "# посчитаем количество пользователей\n",
    "print('Количество чеков:', retail['purchase_id'].nunique())\n",
    "# сколько в среднем приходится чеков на одного пользователя с номером айди\n",
    "print('Среднее количество чеков на одного пользователя:', round(retail['purchase_id'].nunique() / retail['customer_id'].nunique()))"
   ]
  },
  {
   "cell_type": "markdown",
   "metadata": {},
   "source": [
    "У нас в данных есть большое количество товаров с отрицательным количеством. Думаю это возвраты. Попробуем посмотреть внимательнее на отрицательные данные."
   ]
  },
  {
   "cell_type": "code",
   "execution_count": 34,
   "metadata": {},
   "outputs": [
    {
     "data": {
      "text/html": [
       "<div>\n",
       "<style scoped>\n",
       "    .dataframe tbody tr th:only-of-type {\n",
       "        vertical-align: middle;\n",
       "    }\n",
       "\n",
       "    .dataframe tbody tr th {\n",
       "        vertical-align: top;\n",
       "    }\n",
       "\n",
       "    .dataframe thead th {\n",
       "        text-align: right;\n",
       "    }\n",
       "</style>\n",
       "<table border=\"1\" class=\"dataframe\">\n",
       "  <thead>\n",
       "    <tr style=\"text-align: right;\">\n",
       "      <th></th>\n",
       "      <th>purchase_id</th>\n",
       "      <th>item_id</th>\n",
       "      <th>quantity</th>\n",
       "      <th>purchase_date</th>\n",
       "      <th>customer_id</th>\n",
       "      <th>shop_id</th>\n",
       "      <th>loyalty_program</th>\n",
       "      <th>date</th>\n",
       "    </tr>\n",
       "  </thead>\n",
       "  <tbody>\n",
       "    <tr>\n",
       "      <th>79838</th>\n",
       "      <td>540638</td>\n",
       "      <td>72038p</td>\n",
       "      <td>-991</td>\n",
       "      <td>2017-01-10 12:14:00</td>\n",
       "      <td>540638</td>\n",
       "      <td>shop 0</td>\n",
       "      <td>False</td>\n",
       "      <td>2017-01-10</td>\n",
       "    </tr>\n",
       "    <tr>\n",
       "      <th>910</th>\n",
       "      <td>540241</td>\n",
       "      <td>35957</td>\n",
       "      <td>-940</td>\n",
       "      <td>2017-01-05 15:17:00</td>\n",
       "      <td>540241</td>\n",
       "      <td>shop 0</td>\n",
       "      <td>False</td>\n",
       "      <td>2017-01-05</td>\n",
       "    </tr>\n",
       "    <tr>\n",
       "      <th>21912</th>\n",
       "      <td>544410</td>\n",
       "      <td>84997c</td>\n",
       "      <td>-742</td>\n",
       "      <td>2017-02-18 13:54:00</td>\n",
       "      <td>544410</td>\n",
       "      <td>shop 0</td>\n",
       "      <td>False</td>\n",
       "      <td>2017-02-18</td>\n",
       "    </tr>\n",
       "    <tr>\n",
       "      <th>2583</th>\n",
       "      <td>538090</td>\n",
       "      <td>20956</td>\n",
       "      <td>-724</td>\n",
       "      <td>2016-12-09 14:48:00</td>\n",
       "      <td>538090</td>\n",
       "      <td>shop 0</td>\n",
       "      <td>False</td>\n",
       "      <td>2016-12-09</td>\n",
       "    </tr>\n",
       "    <tr>\n",
       "      <th>28821</th>\n",
       "      <td>c542693</td>\n",
       "      <td>15036</td>\n",
       "      <td>-601</td>\n",
       "      <td>2017-01-31 12:36:00</td>\n",
       "      <td>18587.0</td>\n",
       "      <td>shop 0</td>\n",
       "      <td>False</td>\n",
       "      <td>2017-01-31</td>\n",
       "    </tr>\n",
       "    <tr>\n",
       "      <th>57652</th>\n",
       "      <td>c539329</td>\n",
       "      <td>85123a</td>\n",
       "      <td>-501</td>\n",
       "      <td>2016-12-17 09:37:00</td>\n",
       "      <td>21692.0</td>\n",
       "      <td>shop 0</td>\n",
       "      <td>False</td>\n",
       "      <td>2016-12-17</td>\n",
       "    </tr>\n",
       "    <tr>\n",
       "      <th>50809</th>\n",
       "      <td>544649</td>\n",
       "      <td>21621</td>\n",
       "      <td>-401</td>\n",
       "      <td>2017-02-22 12:37:00</td>\n",
       "      <td>544649</td>\n",
       "      <td>shop 0</td>\n",
       "      <td>False</td>\n",
       "      <td>2017-02-22</td>\n",
       "    </tr>\n",
       "    <tr>\n",
       "      <th>63947</th>\n",
       "      <td>543262</td>\n",
       "      <td>84614a</td>\n",
       "      <td>-391</td>\n",
       "      <td>2017-02-04 16:08:00</td>\n",
       "      <td>543262</td>\n",
       "      <td>shop 0</td>\n",
       "      <td>False</td>\n",
       "      <td>2017-02-04</td>\n",
       "    </tr>\n",
       "    <tr>\n",
       "      <th>97842</th>\n",
       "      <td>537028</td>\n",
       "      <td>21696</td>\n",
       "      <td>-321</td>\n",
       "      <td>2016-12-03 16:36:00</td>\n",
       "      <td>537028</td>\n",
       "      <td>shop 0</td>\n",
       "      <td>False</td>\n",
       "      <td>2016-12-03</td>\n",
       "    </tr>\n",
       "    <tr>\n",
       "      <th>91455</th>\n",
       "      <td>540978</td>\n",
       "      <td>84050</td>\n",
       "      <td>-311</td>\n",
       "      <td>2017-01-12 15:04:00</td>\n",
       "      <td>540978</td>\n",
       "      <td>shop 0</td>\n",
       "      <td>False</td>\n",
       "      <td>2017-01-12</td>\n",
       "    </tr>\n",
       "  </tbody>\n",
       "</table>\n",
       "</div>"
      ],
      "text/plain": [
       "      purchase_id item_id  quantity       purchase_date customer_id shop_id  \\\n",
       "79838      540638  72038p      -991 2017-01-10 12:14:00      540638  shop 0   \n",
       "910        540241   35957      -940 2017-01-05 15:17:00      540241  shop 0   \n",
       "21912      544410  84997c      -742 2017-02-18 13:54:00      544410  shop 0   \n",
       "2583       538090   20956      -724 2016-12-09 14:48:00      538090  shop 0   \n",
       "28821     c542693   15036      -601 2017-01-31 12:36:00     18587.0  shop 0   \n",
       "57652     c539329  85123a      -501 2016-12-17 09:37:00     21692.0  shop 0   \n",
       "50809      544649   21621      -401 2017-02-22 12:37:00      544649  shop 0   \n",
       "63947      543262  84614a      -391 2017-02-04 16:08:00      543262  shop 0   \n",
       "97842      537028   21696      -321 2016-12-03 16:36:00      537028  shop 0   \n",
       "91455      540978   84050      -311 2017-01-12 15:04:00      540978  shop 0   \n",
       "\n",
       "       loyalty_program        date  \n",
       "79838            False  2017-01-10  \n",
       "910              False  2017-01-05  \n",
       "21912            False  2017-02-18  \n",
       "2583             False  2016-12-09  \n",
       "28821            False  2017-01-31  \n",
       "57652            False  2016-12-17  \n",
       "50809            False  2017-02-22  \n",
       "63947            False  2017-02-04  \n",
       "97842            False  2016-12-03  \n",
       "91455            False  2017-01-12  "
      ]
     },
     "execution_count": 34,
     "metadata": {},
     "output_type": "execute_result"
    }
   ],
   "source": [
    "# смотрим минимум в столбце с количеством\n",
    "retail.sort_values(by='quantity').head(10)"
   ]
  },
  {
   "cell_type": "markdown",
   "metadata": {},
   "source": [
    "Посмотрим теперь по покупателям, чей номер айди среди этих возвратов нам известен."
   ]
  },
  {
   "cell_type": "code",
   "execution_count": 35,
   "metadata": {},
   "outputs": [
    {
     "data": {
      "text/html": [
       "<div>\n",
       "<style scoped>\n",
       "    .dataframe tbody tr th:only-of-type {\n",
       "        vertical-align: middle;\n",
       "    }\n",
       "\n",
       "    .dataframe tbody tr th {\n",
       "        vertical-align: top;\n",
       "    }\n",
       "\n",
       "    .dataframe thead th {\n",
       "        text-align: right;\n",
       "    }\n",
       "</style>\n",
       "<table border=\"1\" class=\"dataframe\">\n",
       "  <thead>\n",
       "    <tr style=\"text-align: right;\">\n",
       "      <th></th>\n",
       "      <th>purchase_id</th>\n",
       "      <th>item_id</th>\n",
       "      <th>quantity</th>\n",
       "      <th>purchase_date</th>\n",
       "      <th>customer_id</th>\n",
       "      <th>shop_id</th>\n",
       "      <th>loyalty_program</th>\n",
       "      <th>date</th>\n",
       "    </tr>\n",
       "  </thead>\n",
       "  <tbody>\n",
       "    <tr>\n",
       "      <th>28821</th>\n",
       "      <td>c542693</td>\n",
       "      <td>15036</td>\n",
       "      <td>-601</td>\n",
       "      <td>2017-01-31 12:36:00</td>\n",
       "      <td>18587.0</td>\n",
       "      <td>shop 0</td>\n",
       "      <td>False</td>\n",
       "      <td>2017-01-31</td>\n",
       "    </tr>\n",
       "    <tr>\n",
       "      <th>99360</th>\n",
       "      <td>542694</td>\n",
       "      <td>15036</td>\n",
       "      <td>599</td>\n",
       "      <td>2017-01-31 12:37:00</td>\n",
       "      <td>18587.0</td>\n",
       "      <td>shop 0</td>\n",
       "      <td>False</td>\n",
       "      <td>2017-01-31</td>\n",
       "    </tr>\n",
       "  </tbody>\n",
       "</table>\n",
       "</div>"
      ],
      "text/plain": [
       "      purchase_id item_id  quantity       purchase_date customer_id shop_id  \\\n",
       "28821     c542693   15036      -601 2017-01-31 12:36:00     18587.0  shop 0   \n",
       "99360      542694   15036       599 2017-01-31 12:37:00     18587.0  shop 0   \n",
       "\n",
       "       loyalty_program        date  \n",
       "28821            False  2017-01-31  \n",
       "99360            False  2017-01-31  "
      ]
     },
     "execution_count": 35,
     "metadata": {},
     "output_type": "execute_result"
    }
   ],
   "source": [
    "# пробуем посмотреть покупателя с самым большим отрицательным числом в количестве\n",
    "retail.query('customer_id == 18587.0')"
   ]
  },
  {
   "cell_type": "code",
   "execution_count": 36,
   "metadata": {
    "scrolled": false
   },
   "outputs": [
    {
     "data": {
      "text/html": [
       "<div>\n",
       "<style scoped>\n",
       "    .dataframe tbody tr th:only-of-type {\n",
       "        vertical-align: middle;\n",
       "    }\n",
       "\n",
       "    .dataframe tbody tr th {\n",
       "        vertical-align: top;\n",
       "    }\n",
       "\n",
       "    .dataframe thead th {\n",
       "        text-align: right;\n",
       "    }\n",
       "</style>\n",
       "<table border=\"1\" class=\"dataframe\">\n",
       "  <thead>\n",
       "    <tr style=\"text-align: right;\">\n",
       "      <th></th>\n",
       "      <th>purchase_id</th>\n",
       "      <th>item_id</th>\n",
       "      <th>quantity</th>\n",
       "      <th>purchase_date</th>\n",
       "      <th>customer_id</th>\n",
       "      <th>shop_id</th>\n",
       "      <th>loyalty_program</th>\n",
       "      <th>date</th>\n",
       "    </tr>\n",
       "  </thead>\n",
       "  <tbody>\n",
       "    <tr>\n",
       "      <th>17080</th>\n",
       "      <td>543674</td>\n",
       "      <td>15056n</td>\n",
       "      <td>119</td>\n",
       "      <td>2017-02-11 11:28:00</td>\n",
       "      <td>21692.0</td>\n",
       "      <td>shop 0</td>\n",
       "      <td>False</td>\n",
       "      <td>2017-02-11</td>\n",
       "    </tr>\n",
       "    <tr>\n",
       "      <th>94797</th>\n",
       "      <td>c539329</td>\n",
       "      <td>20733</td>\n",
       "      <td>-301</td>\n",
       "      <td>2016-12-17 09:37:00</td>\n",
       "      <td>21692.0</td>\n",
       "      <td>shop 0</td>\n",
       "      <td>False</td>\n",
       "      <td>2016-12-17</td>\n",
       "    </tr>\n",
       "    <tr>\n",
       "      <th>88538</th>\n",
       "      <td>539331</td>\n",
       "      <td>20733</td>\n",
       "      <td>299</td>\n",
       "      <td>2016-12-17 09:39:00</td>\n",
       "      <td>21692.0</td>\n",
       "      <td>shop 0</td>\n",
       "      <td>False</td>\n",
       "      <td>2016-12-17</td>\n",
       "    </tr>\n",
       "    <tr>\n",
       "      <th>93865</th>\n",
       "      <td>539109</td>\n",
       "      <td>20733</td>\n",
       "      <td>299</td>\n",
       "      <td>2016-12-16 11:07:00</td>\n",
       "      <td>21692.0</td>\n",
       "      <td>shop 0</td>\n",
       "      <td>False</td>\n",
       "      <td>2016-12-16</td>\n",
       "    </tr>\n",
       "    <tr>\n",
       "      <th>43476</th>\n",
       "      <td>543674</td>\n",
       "      <td>21471</td>\n",
       "      <td>95</td>\n",
       "      <td>2017-02-11 11:28:00</td>\n",
       "      <td>21692.0</td>\n",
       "      <td>shop 0</td>\n",
       "      <td>False</td>\n",
       "      <td>2017-02-11</td>\n",
       "    </tr>\n",
       "    <tr>\n",
       "      <th>67230</th>\n",
       "      <td>543673</td>\n",
       "      <td>22423</td>\n",
       "      <td>31</td>\n",
       "      <td>2017-02-11 11:28:00</td>\n",
       "      <td>21692.0</td>\n",
       "      <td>shop 0</td>\n",
       "      <td>False</td>\n",
       "      <td>2017-02-11</td>\n",
       "    </tr>\n",
       "    <tr>\n",
       "      <th>66023</th>\n",
       "      <td>540401</td>\n",
       "      <td>22423</td>\n",
       "      <td>47</td>\n",
       "      <td>2017-01-07 09:31:00</td>\n",
       "      <td>21692.0</td>\n",
       "      <td>shop 0</td>\n",
       "      <td>False</td>\n",
       "      <td>2017-01-07</td>\n",
       "    </tr>\n",
       "    <tr>\n",
       "      <th>54064</th>\n",
       "      <td>540401</td>\n",
       "      <td>22507</td>\n",
       "      <td>63</td>\n",
       "      <td>2017-01-07 09:31:00</td>\n",
       "      <td>21692.0</td>\n",
       "      <td>shop 0</td>\n",
       "      <td>False</td>\n",
       "      <td>2017-01-07</td>\n",
       "    </tr>\n",
       "    <tr>\n",
       "      <th>16113</th>\n",
       "      <td>543673</td>\n",
       "      <td>22507</td>\n",
       "      <td>47</td>\n",
       "      <td>2017-02-11 11:28:00</td>\n",
       "      <td>21692.0</td>\n",
       "      <td>shop 0</td>\n",
       "      <td>False</td>\n",
       "      <td>2017-02-11</td>\n",
       "    </tr>\n",
       "    <tr>\n",
       "      <th>48464</th>\n",
       "      <td>543674</td>\n",
       "      <td>47566</td>\n",
       "      <td>99</td>\n",
       "      <td>2017-02-11 11:28:00</td>\n",
       "      <td>21692.0</td>\n",
       "      <td>shop 0</td>\n",
       "      <td>False</td>\n",
       "      <td>2017-02-11</td>\n",
       "    </tr>\n",
       "    <tr>\n",
       "      <th>62065</th>\n",
       "      <td>536968</td>\n",
       "      <td>71477</td>\n",
       "      <td>119</td>\n",
       "      <td>2016-12-03 13:09:00</td>\n",
       "      <td>21692.0</td>\n",
       "      <td>shop 0</td>\n",
       "      <td>False</td>\n",
       "      <td>2016-12-03</td>\n",
       "    </tr>\n",
       "    <tr>\n",
       "      <th>80028</th>\n",
       "      <td>536969</td>\n",
       "      <td>71477</td>\n",
       "      <td>191</td>\n",
       "      <td>2016-12-03 13:10:00</td>\n",
       "      <td>21692.0</td>\n",
       "      <td>shop 0</td>\n",
       "      <td>False</td>\n",
       "      <td>2016-12-03</td>\n",
       "    </tr>\n",
       "    <tr>\n",
       "      <th>5022</th>\n",
       "      <td>543670</td>\n",
       "      <td>71477</td>\n",
       "      <td>95</td>\n",
       "      <td>2017-02-11 11:23:00</td>\n",
       "      <td>21692.0</td>\n",
       "      <td>shop 0</td>\n",
       "      <td>False</td>\n",
       "      <td>2017-02-11</td>\n",
       "    </tr>\n",
       "    <tr>\n",
       "      <th>53984</th>\n",
       "      <td>543670</td>\n",
       "      <td>79321</td>\n",
       "      <td>47</td>\n",
       "      <td>2017-02-11 11:23:00</td>\n",
       "      <td>21692.0</td>\n",
       "      <td>shop 0</td>\n",
       "      <td>False</td>\n",
       "      <td>2017-02-11</td>\n",
       "    </tr>\n",
       "    <tr>\n",
       "      <th>91513</th>\n",
       "      <td>543672</td>\n",
       "      <td>79321</td>\n",
       "      <td>71</td>\n",
       "      <td>2017-02-11 11:25:00</td>\n",
       "      <td>21692.0</td>\n",
       "      <td>shop 0</td>\n",
       "      <td>False</td>\n",
       "      <td>2017-02-11</td>\n",
       "    </tr>\n",
       "    <tr>\n",
       "      <th>44041</th>\n",
       "      <td>536968</td>\n",
       "      <td>79321</td>\n",
       "      <td>47</td>\n",
       "      <td>2016-12-03 13:09:00</td>\n",
       "      <td>21692.0</td>\n",
       "      <td>shop 0</td>\n",
       "      <td>False</td>\n",
       "      <td>2016-12-03</td>\n",
       "    </tr>\n",
       "    <tr>\n",
       "      <th>645</th>\n",
       "      <td>539108</td>\n",
       "      <td>79321</td>\n",
       "      <td>47</td>\n",
       "      <td>2016-12-16 11:03:00</td>\n",
       "      <td>21692.0</td>\n",
       "      <td>shop 0</td>\n",
       "      <td>False</td>\n",
       "      <td>2016-12-16</td>\n",
       "    </tr>\n",
       "    <tr>\n",
       "      <th>36107</th>\n",
       "      <td>540408</td>\n",
       "      <td>85123a</td>\n",
       "      <td>249</td>\n",
       "      <td>2017-01-07 09:55:00</td>\n",
       "      <td>21692.0</td>\n",
       "      <td>shop 0</td>\n",
       "      <td>False</td>\n",
       "      <td>2017-01-07</td>\n",
       "    </tr>\n",
       "    <tr>\n",
       "      <th>57652</th>\n",
       "      <td>c539329</td>\n",
       "      <td>85123a</td>\n",
       "      <td>-501</td>\n",
       "      <td>2016-12-17 09:37:00</td>\n",
       "      <td>21692.0</td>\n",
       "      <td>shop 0</td>\n",
       "      <td>False</td>\n",
       "      <td>2016-12-17</td>\n",
       "    </tr>\n",
       "    <tr>\n",
       "      <th>63439</th>\n",
       "      <td>539109</td>\n",
       "      <td>85123a</td>\n",
       "      <td>499</td>\n",
       "      <td>2016-12-16 11:07:00</td>\n",
       "      <td>21692.0</td>\n",
       "      <td>shop 0</td>\n",
       "      <td>False</td>\n",
       "      <td>2016-12-16</td>\n",
       "    </tr>\n",
       "    <tr>\n",
       "      <th>21042</th>\n",
       "      <td>543675</td>\n",
       "      <td>85123a</td>\n",
       "      <td>149</td>\n",
       "      <td>2017-02-11 11:31:00</td>\n",
       "      <td>21692.0</td>\n",
       "      <td>shop 0</td>\n",
       "      <td>False</td>\n",
       "      <td>2017-02-11</td>\n",
       "    </tr>\n",
       "  </tbody>\n",
       "</table>\n",
       "</div>"
      ],
      "text/plain": [
       "      purchase_id item_id  quantity       purchase_date customer_id shop_id  \\\n",
       "17080      543674  15056n       119 2017-02-11 11:28:00     21692.0  shop 0   \n",
       "94797     c539329   20733      -301 2016-12-17 09:37:00     21692.0  shop 0   \n",
       "88538      539331   20733       299 2016-12-17 09:39:00     21692.0  shop 0   \n",
       "93865      539109   20733       299 2016-12-16 11:07:00     21692.0  shop 0   \n",
       "43476      543674   21471        95 2017-02-11 11:28:00     21692.0  shop 0   \n",
       "67230      543673   22423        31 2017-02-11 11:28:00     21692.0  shop 0   \n",
       "66023      540401   22423        47 2017-01-07 09:31:00     21692.0  shop 0   \n",
       "54064      540401   22507        63 2017-01-07 09:31:00     21692.0  shop 0   \n",
       "16113      543673   22507        47 2017-02-11 11:28:00     21692.0  shop 0   \n",
       "48464      543674   47566        99 2017-02-11 11:28:00     21692.0  shop 0   \n",
       "62065      536968   71477       119 2016-12-03 13:09:00     21692.0  shop 0   \n",
       "80028      536969   71477       191 2016-12-03 13:10:00     21692.0  shop 0   \n",
       "5022       543670   71477        95 2017-02-11 11:23:00     21692.0  shop 0   \n",
       "53984      543670   79321        47 2017-02-11 11:23:00     21692.0  shop 0   \n",
       "91513      543672   79321        71 2017-02-11 11:25:00     21692.0  shop 0   \n",
       "44041      536968   79321        47 2016-12-03 13:09:00     21692.0  shop 0   \n",
       "645        539108   79321        47 2016-12-16 11:03:00     21692.0  shop 0   \n",
       "36107      540408  85123a       249 2017-01-07 09:55:00     21692.0  shop 0   \n",
       "57652     c539329  85123a      -501 2016-12-17 09:37:00     21692.0  shop 0   \n",
       "63439      539109  85123a       499 2016-12-16 11:07:00     21692.0  shop 0   \n",
       "21042      543675  85123a       149 2017-02-11 11:31:00     21692.0  shop 0   \n",
       "\n",
       "       loyalty_program        date  \n",
       "17080            False  2017-02-11  \n",
       "94797            False  2016-12-17  \n",
       "88538            False  2016-12-17  \n",
       "93865            False  2016-12-16  \n",
       "43476            False  2017-02-11  \n",
       "67230            False  2017-02-11  \n",
       "66023            False  2017-01-07  \n",
       "54064            False  2017-01-07  \n",
       "16113            False  2017-02-11  \n",
       "48464            False  2017-02-11  \n",
       "62065            False  2016-12-03  \n",
       "80028            False  2016-12-03  \n",
       "5022             False  2017-02-11  \n",
       "53984            False  2017-02-11  \n",
       "91513            False  2017-02-11  \n",
       "44041            False  2016-12-03  \n",
       "645              False  2016-12-16  \n",
       "36107            False  2017-01-07  \n",
       "57652            False  2016-12-17  \n",
       "63439            False  2016-12-16  \n",
       "21042            False  2017-02-11  "
      ]
     },
     "execution_count": 36,
     "metadata": {},
     "output_type": "execute_result"
    }
   ],
   "source": [
    "# и еще один\n",
    "retail.query('customer_id == 21692.0').sort_values(by='item_id')"
   ]
  },
  {
   "cell_type": "markdown",
   "metadata": {},
   "source": [
    "Не вполне понятная история: во-первых, отрицательное количество не совпадает с положительным того же товара. Но это может объясняться покупкой на предыдущем этапе, который не попал в наш исследуемый период. Во-вторых, отрицательное может быть по времени на минуту раньше проведено, чем положительное. Возможно это какие-то особенности проведения через систему/склад. Так же это могут быть комиссии при продаже товаров через маркетплейсы или какие-то кэшбеки по карте. По возможности стоит уточнить у клиента. Мы пока можем оставить как есть."
   ]
  },
  {
   "cell_type": "markdown",
   "metadata": {},
   "source": [
    "### Стоимость одного товара"
   ]
  },
  {
   "cell_type": "markdown",
   "metadata": {},
   "source": [
    "Посмотрим, какое количество цен указано на один товар"
   ]
  },
  {
   "cell_type": "code",
   "execution_count": 37,
   "metadata": {},
   "outputs": [
    {
     "data": {
      "text/html": [
       "<div>\n",
       "<style scoped>\n",
       "    .dataframe tbody tr th:only-of-type {\n",
       "        vertical-align: middle;\n",
       "    }\n",
       "\n",
       "    .dataframe tbody tr th {\n",
       "        vertical-align: top;\n",
       "    }\n",
       "\n",
       "    .dataframe thead th {\n",
       "        text-align: right;\n",
       "    }\n",
       "</style>\n",
       "<table border=\"1\" class=\"dataframe\">\n",
       "  <thead>\n",
       "    <tr style=\"text-align: right;\">\n",
       "      <th></th>\n",
       "      <th>price_per_one</th>\n",
       "    </tr>\n",
       "    <tr>\n",
       "      <th>product_id</th>\n",
       "      <th></th>\n",
       "    </tr>\n",
       "  </thead>\n",
       "  <tbody>\n",
       "    <tr>\n",
       "      <th>dot</th>\n",
       "      <td>174</td>\n",
       "    </tr>\n",
       "    <tr>\n",
       "      <th>m</th>\n",
       "      <td>53</td>\n",
       "    </tr>\n",
       "    <tr>\n",
       "      <th>s</th>\n",
       "      <td>29</td>\n",
       "    </tr>\n",
       "    <tr>\n",
       "      <th>post</th>\n",
       "      <td>15</td>\n",
       "    </tr>\n",
       "    <tr>\n",
       "      <th>d</th>\n",
       "      <td>13</td>\n",
       "    </tr>\n",
       "    <tr>\n",
       "      <th>79321</th>\n",
       "      <td>11</td>\n",
       "    </tr>\n",
       "    <tr>\n",
       "      <th>47566</th>\n",
       "      <td>10</td>\n",
       "    </tr>\n",
       "    <tr>\n",
       "      <th>84406b</th>\n",
       "      <td>10</td>\n",
       "    </tr>\n",
       "    <tr>\n",
       "      <th>22112</th>\n",
       "      <td>9</td>\n",
       "    </tr>\n",
       "    <tr>\n",
       "      <th>82484</th>\n",
       "      <td>9</td>\n",
       "    </tr>\n",
       "    <tr>\n",
       "      <th>21670</th>\n",
       "      <td>9</td>\n",
       "    </tr>\n",
       "    <tr>\n",
       "      <th>21673</th>\n",
       "      <td>9</td>\n",
       "    </tr>\n",
       "    <tr>\n",
       "      <th>22378</th>\n",
       "      <td>9</td>\n",
       "    </tr>\n",
       "    <tr>\n",
       "      <th>22834</th>\n",
       "      <td>9</td>\n",
       "    </tr>\n",
       "    <tr>\n",
       "      <th>21671</th>\n",
       "      <td>9</td>\n",
       "    </tr>\n",
       "  </tbody>\n",
       "</table>\n",
       "</div>"
      ],
      "text/plain": [
       "            price_per_one\n",
       "product_id               \n",
       "dot                   174\n",
       "m                      53\n",
       "s                      29\n",
       "post                   15\n",
       "d                      13\n",
       "79321                  11\n",
       "47566                  10\n",
       "84406b                 10\n",
       "22112                   9\n",
       "82484                   9\n",
       "21670                   9\n",
       "21673                   9\n",
       "22378                   9\n",
       "22834                   9\n",
       "21671                   9"
      ]
     },
     "execution_count": 37,
     "metadata": {},
     "output_type": "execute_result"
    }
   ],
   "source": [
    "# смотрим количество вариантов стоимости для каждого из товаров\n",
    "products.groupby('product_id').agg({'price_per_one' : 'nunique'}).sort_values(by='price_per_one', ascending=False).head(15)"
   ]
  },
  {
   "cell_type": "markdown",
   "metadata": {},
   "source": [
    "На один и тот же товар довольно большое количество цен. Сделаем отдельный столбец с медианной стоимостью на каждый товар, чтобы потом по нему можно было добавить цену в столбец с продажами для рассчета столбца с суммой покупок."
   ]
  },
  {
   "cell_type": "code",
   "execution_count": 38,
   "metadata": {},
   "outputs": [
    {
     "data": {
      "text/html": [
       "<div>\n",
       "<style scoped>\n",
       "    .dataframe tbody tr th:only-of-type {\n",
       "        vertical-align: middle;\n",
       "    }\n",
       "\n",
       "    .dataframe tbody tr th {\n",
       "        vertical-align: top;\n",
       "    }\n",
       "\n",
       "    .dataframe thead th {\n",
       "        text-align: right;\n",
       "    }\n",
       "</style>\n",
       "<table border=\"1\" class=\"dataframe\">\n",
       "  <thead>\n",
       "    <tr style=\"text-align: right;\">\n",
       "      <th></th>\n",
       "      <th>product_id</th>\n",
       "      <th>price_per_one</th>\n",
       "    </tr>\n",
       "  </thead>\n",
       "  <tbody>\n",
       "    <tr>\n",
       "      <th>0</th>\n",
       "      <td>10002</td>\n",
       "      <td>1.63</td>\n",
       "    </tr>\n",
       "    <tr>\n",
       "      <th>1</th>\n",
       "      <td>10080</td>\n",
       "      <td>0.85</td>\n",
       "    </tr>\n",
       "    <tr>\n",
       "      <th>2</th>\n",
       "      <td>10120</td>\n",
       "      <td>0.21</td>\n",
       "    </tr>\n",
       "    <tr>\n",
       "      <th>3</th>\n",
       "      <td>10123c</td>\n",
       "      <td>0.65</td>\n",
       "    </tr>\n",
       "    <tr>\n",
       "      <th>4</th>\n",
       "      <td>10124a</td>\n",
       "      <td>0.42</td>\n",
       "    </tr>\n",
       "  </tbody>\n",
       "</table>\n",
       "</div>"
      ],
      "text/plain": [
       "  product_id  price_per_one\n",
       "0      10002           1.63\n",
       "1      10080           0.85\n",
       "2      10120           0.21\n",
       "3     10123c           0.65\n",
       "4     10124a           0.42"
      ]
     },
     "execution_count": 38,
     "metadata": {},
     "output_type": "execute_result"
    }
   ],
   "source": [
    "# создадим отдельный список с медианной стоимостью каждого товара\n",
    "median_prices = products.groupby('product_id').agg({'price_per_one' : 'median'}).reset_index()\n",
    "median_prices.head()"
   ]
  },
  {
   "cell_type": "markdown",
   "metadata": {},
   "source": [
    "Добавим в данные о продажах столбец со стоимостью товара"
   ]
  },
  {
   "cell_type": "code",
   "execution_count": 39,
   "metadata": {},
   "outputs": [
    {
     "data": {
      "text/html": [
       "<div>\n",
       "<style scoped>\n",
       "    .dataframe tbody tr th:only-of-type {\n",
       "        vertical-align: middle;\n",
       "    }\n",
       "\n",
       "    .dataframe tbody tr th {\n",
       "        vertical-align: top;\n",
       "    }\n",
       "\n",
       "    .dataframe thead th {\n",
       "        text-align: right;\n",
       "    }\n",
       "</style>\n",
       "<table border=\"1\" class=\"dataframe\">\n",
       "  <thead>\n",
       "    <tr style=\"text-align: right;\">\n",
       "      <th></th>\n",
       "      <th>purchase_id</th>\n",
       "      <th>item_id</th>\n",
       "      <th>quantity</th>\n",
       "      <th>purchase_date</th>\n",
       "      <th>customer_id</th>\n",
       "      <th>shop_id</th>\n",
       "      <th>loyalty_program</th>\n",
       "      <th>date</th>\n",
       "      <th>price_per_one</th>\n",
       "    </tr>\n",
       "  </thead>\n",
       "  <tbody>\n",
       "    <tr>\n",
       "      <th>0</th>\n",
       "      <td>538280</td>\n",
       "      <td>21873</td>\n",
       "      <td>11</td>\n",
       "      <td>2016-12-10 12:50:00</td>\n",
       "      <td>18427.0</td>\n",
       "      <td>shop 0</td>\n",
       "      <td>False</td>\n",
       "      <td>2016-12-10</td>\n",
       "      <td>1.63</td>\n",
       "    </tr>\n",
       "    <tr>\n",
       "      <th>1</th>\n",
       "      <td>541104</td>\n",
       "      <td>21873</td>\n",
       "      <td>0</td>\n",
       "      <td>2017-01-13 14:29:00</td>\n",
       "      <td>541104</td>\n",
       "      <td>shop 0</td>\n",
       "      <td>False</td>\n",
       "      <td>2017-01-13</td>\n",
       "      <td>1.63</td>\n",
       "    </tr>\n",
       "    <tr>\n",
       "      <th>2</th>\n",
       "      <td>540418</td>\n",
       "      <td>21873</td>\n",
       "      <td>1</td>\n",
       "      <td>2017-01-07 11:04:00</td>\n",
       "      <td>540418</td>\n",
       "      <td>shop 0</td>\n",
       "      <td>False</td>\n",
       "      <td>2017-01-07</td>\n",
       "      <td>1.63</td>\n",
       "    </tr>\n",
       "    <tr>\n",
       "      <th>3</th>\n",
       "      <td>541516</td>\n",
       "      <td>21873</td>\n",
       "      <td>2</td>\n",
       "      <td>2017-01-18 17:34:00</td>\n",
       "      <td>541516</td>\n",
       "      <td>shop 0</td>\n",
       "      <td>False</td>\n",
       "      <td>2017-01-18</td>\n",
       "      <td>1.63</td>\n",
       "    </tr>\n",
       "    <tr>\n",
       "      <th>4</th>\n",
       "      <td>541566</td>\n",
       "      <td>21873</td>\n",
       "      <td>35</td>\n",
       "      <td>2017-01-19 11:50:00</td>\n",
       "      <td>23401.0</td>\n",
       "      <td>shop 0</td>\n",
       "      <td>True</td>\n",
       "      <td>2017-01-19</td>\n",
       "      <td>1.63</td>\n",
       "    </tr>\n",
       "  </tbody>\n",
       "</table>\n",
       "</div>"
      ],
      "text/plain": [
       "  purchase_id item_id  quantity       purchase_date customer_id shop_id  \\\n",
       "0      538280   21873        11 2016-12-10 12:50:00     18427.0  shop 0   \n",
       "1      541104   21873         0 2017-01-13 14:29:00      541104  shop 0   \n",
       "2      540418   21873         1 2017-01-07 11:04:00      540418  shop 0   \n",
       "3      541516   21873         2 2017-01-18 17:34:00      541516  shop 0   \n",
       "4      541566   21873        35 2017-01-19 11:50:00     23401.0  shop 0   \n",
       "\n",
       "   loyalty_program        date  price_per_one  \n",
       "0            False  2016-12-10           1.63  \n",
       "1            False  2017-01-13           1.63  \n",
       "2            False  2017-01-07           1.63  \n",
       "3            False  2017-01-18           1.63  \n",
       "4             True  2017-01-19           1.63  "
      ]
     },
     "execution_count": 39,
     "metadata": {},
     "output_type": "execute_result"
    }
   ],
   "source": [
    "# объединим таблицу о продажах с таблицей медианных цен по айди товара\n",
    "retail = retail.merge(median_prices, left_on ='item_id', right_on ='product_id')\n",
    "# удалим задублированный столбец с айди товара\n",
    "retail =  retail.drop(columns='product_id')\n",
    "# проверим\n",
    "retail.head()"
   ]
  },
  {
   "cell_type": "markdown",
   "metadata": {},
   "source": [
    "Теперь можно будет считать и сравнивать стоимость чека."
   ]
  },
  {
   "cell_type": "markdown",
   "metadata": {},
   "source": [
    "<a id='#4'></a>\n",
    "\n",
    "## Анализ программы лояльности"
   ]
  },
  {
   "cell_type": "markdown",
   "metadata": {},
   "source": [
    "### Количество участников программы лояльности в разрезе магазинов"
   ]
  },
  {
   "cell_type": "markdown",
   "metadata": {},
   "source": [
    "Проверим, в каких магазинах больше всего участников программы лояльности"
   ]
  },
  {
   "cell_type": "code",
   "execution_count": 40,
   "metadata": {},
   "outputs": [
    {
     "data": {
      "text/html": [
       "<div>\n",
       "<style scoped>\n",
       "    .dataframe tbody tr th:only-of-type {\n",
       "        vertical-align: middle;\n",
       "    }\n",
       "\n",
       "    .dataframe tbody tr th {\n",
       "        vertical-align: top;\n",
       "    }\n",
       "\n",
       "    .dataframe thead th {\n",
       "        text-align: right;\n",
       "    }\n",
       "</style>\n",
       "<table border=\"1\" class=\"dataframe\">\n",
       "  <thead>\n",
       "    <tr style=\"text-align: right;\">\n",
       "      <th></th>\n",
       "      <th>purchase_id</th>\n",
       "      <th>item_id</th>\n",
       "      <th>quantity</th>\n",
       "      <th>purchase_date</th>\n",
       "      <th>customer_id</th>\n",
       "      <th>shop_id</th>\n",
       "      <th>loyalty_program</th>\n",
       "      <th>date</th>\n",
       "      <th>price_per_one</th>\n",
       "    </tr>\n",
       "  </thead>\n",
       "  <tbody>\n",
       "    <tr>\n",
       "      <th>4</th>\n",
       "      <td>541566</td>\n",
       "      <td>21873</td>\n",
       "      <td>35</td>\n",
       "      <td>2017-01-19 11:50:00</td>\n",
       "      <td>23401.0</td>\n",
       "      <td>shop 0</td>\n",
       "      <td>True</td>\n",
       "      <td>2017-01-19</td>\n",
       "      <td>1.63</td>\n",
       "    </tr>\n",
       "    <tr>\n",
       "      <th>7</th>\n",
       "      <td>543592</td>\n",
       "      <td>21873</td>\n",
       "      <td>5</td>\n",
       "      <td>2017-02-10 11:57:00</td>\n",
       "      <td>22922.0</td>\n",
       "      <td>shop 0</td>\n",
       "      <td>True</td>\n",
       "      <td>2017-02-10</td>\n",
       "      <td>1.63</td>\n",
       "    </tr>\n",
       "    <tr>\n",
       "      <th>11</th>\n",
       "      <td>542608</td>\n",
       "      <td>21873</td>\n",
       "      <td>0</td>\n",
       "      <td>2017-01-30 13:51:00</td>\n",
       "      <td>22449.0</td>\n",
       "      <td>shop 0</td>\n",
       "      <td>True</td>\n",
       "      <td>2017-01-30</td>\n",
       "      <td>1.63</td>\n",
       "    </tr>\n",
       "    <tr>\n",
       "      <th>17</th>\n",
       "      <td>539252</td>\n",
       "      <td>21873</td>\n",
       "      <td>35</td>\n",
       "      <td>2016-12-16 14:17:00</td>\n",
       "      <td>23423.0</td>\n",
       "      <td>shop 0</td>\n",
       "      <td>True</td>\n",
       "      <td>2016-12-16</td>\n",
       "      <td>1.63</td>\n",
       "    </tr>\n",
       "    <tr>\n",
       "      <th>20</th>\n",
       "      <td>544930</td>\n",
       "      <td>21873</td>\n",
       "      <td>0</td>\n",
       "      <td>2017-02-24 18:26:00</td>\n",
       "      <td>23151.0</td>\n",
       "      <td>shop 0</td>\n",
       "      <td>True</td>\n",
       "      <td>2017-02-24</td>\n",
       "      <td>1.63</td>\n",
       "    </tr>\n",
       "  </tbody>\n",
       "</table>\n",
       "</div>"
      ],
      "text/plain": [
       "   purchase_id item_id  quantity       purchase_date customer_id shop_id  \\\n",
       "4       541566   21873        35 2017-01-19 11:50:00     23401.0  shop 0   \n",
       "7       543592   21873         5 2017-02-10 11:57:00     22922.0  shop 0   \n",
       "11      542608   21873         0 2017-01-30 13:51:00     22449.0  shop 0   \n",
       "17      539252   21873        35 2016-12-16 14:17:00     23423.0  shop 0   \n",
       "20      544930   21873         0 2017-02-24 18:26:00     23151.0  shop 0   \n",
       "\n",
       "    loyalty_program        date  price_per_one  \n",
       "4              True  2017-01-19           1.63  \n",
       "7              True  2017-02-10           1.63  \n",
       "11             True  2017-01-30           1.63  \n",
       "17             True  2016-12-16           1.63  \n",
       "20             True  2017-02-24           1.63  "
      ]
     },
     "execution_count": 40,
     "metadata": {},
     "output_type": "execute_result"
    }
   ],
   "source": [
    "# сохраним в отдельный список только данные с программой лояльности\n",
    "loyalty = retail.query('loyalty_program == True')\n",
    "loyalty.head()"
   ]
  },
  {
   "cell_type": "code",
   "execution_count": 41,
   "metadata": {
    "scrolled": true
   },
   "outputs": [
    {
     "data": {
      "text/html": [
       "<div>\n",
       "<style scoped>\n",
       "    .dataframe tbody tr th:only-of-type {\n",
       "        vertical-align: middle;\n",
       "    }\n",
       "\n",
       "    .dataframe tbody tr th {\n",
       "        vertical-align: top;\n",
       "    }\n",
       "\n",
       "    .dataframe thead th {\n",
       "        text-align: right;\n",
       "    }\n",
       "</style>\n",
       "<table border=\"1\" class=\"dataframe\">\n",
       "  <thead>\n",
       "    <tr style=\"text-align: right;\">\n",
       "      <th></th>\n",
       "      <th>shop_id</th>\n",
       "      <th>customer_id</th>\n",
       "    </tr>\n",
       "  </thead>\n",
       "  <tbody>\n",
       "    <tr>\n",
       "      <th>0</th>\n",
       "      <td>shop 0</td>\n",
       "      <td>583</td>\n",
       "    </tr>\n",
       "    <tr>\n",
       "      <th>1</th>\n",
       "      <td>shop 19</td>\n",
       "      <td>1</td>\n",
       "    </tr>\n",
       "    <tr>\n",
       "      <th>2</th>\n",
       "      <td>shop 28</td>\n",
       "      <td>1</td>\n",
       "    </tr>\n",
       "    <tr>\n",
       "      <th>3</th>\n",
       "      <td>shop 8</td>\n",
       "      <td>1</td>\n",
       "    </tr>\n",
       "  </tbody>\n",
       "</table>\n",
       "</div>"
      ],
      "text/plain": [
       "   shop_id  customer_id\n",
       "0   shop 0          583\n",
       "1  shop 19            1\n",
       "2  shop 28            1\n",
       "3   shop 8            1"
      ]
     },
     "execution_count": 41,
     "metadata": {},
     "output_type": "execute_result"
    }
   ],
   "source": [
    "# выведем количество уникальных пользователей с программой лояльности в каждом из магазинов\n",
    "loyalty_by_shop = loyalty.groupby('shop_id').agg({'customer_id':'nunique'}).sort_values(by='customer_id', ascending=False).reset_index()\n",
    "loyalty_by_shop"
   ]
  },
  {
   "cell_type": "markdown",
   "metadata": {},
   "source": [
    "Получается, что только 4 магазина участвуют в программе лояльности. Причем в трех из них только по одному пользователю карты лояльности и только в самом крупном нулевом магазине 583 участника. В таком случае имеет смысл анализировать эффективность программы лояльности только по нулевому магазину, чтобы получить достоверную картину. Сохраним данные об этом магазине в отдельный датафрейм."
   ]
  },
  {
   "cell_type": "code",
   "execution_count": 42,
   "metadata": {},
   "outputs": [
    {
     "data": {
      "text/html": [
       "<div>\n",
       "<style scoped>\n",
       "    .dataframe tbody tr th:only-of-type {\n",
       "        vertical-align: middle;\n",
       "    }\n",
       "\n",
       "    .dataframe tbody tr th {\n",
       "        vertical-align: top;\n",
       "    }\n",
       "\n",
       "    .dataframe thead th {\n",
       "        text-align: right;\n",
       "    }\n",
       "</style>\n",
       "<table border=\"1\" class=\"dataframe\">\n",
       "  <thead>\n",
       "    <tr style=\"text-align: right;\">\n",
       "      <th></th>\n",
       "      <th>purchase_id</th>\n",
       "      <th>item_id</th>\n",
       "      <th>quantity</th>\n",
       "      <th>purchase_date</th>\n",
       "      <th>customer_id</th>\n",
       "      <th>shop_id</th>\n",
       "      <th>loyalty_program</th>\n",
       "      <th>date</th>\n",
       "      <th>price_per_one</th>\n",
       "    </tr>\n",
       "  </thead>\n",
       "  <tbody>\n",
       "    <tr>\n",
       "      <th>0</th>\n",
       "      <td>538280</td>\n",
       "      <td>21873</td>\n",
       "      <td>11</td>\n",
       "      <td>2016-12-10 12:50:00</td>\n",
       "      <td>18427.0</td>\n",
       "      <td>shop 0</td>\n",
       "      <td>False</td>\n",
       "      <td>2016-12-10</td>\n",
       "      <td>1.63</td>\n",
       "    </tr>\n",
       "    <tr>\n",
       "      <th>1</th>\n",
       "      <td>541104</td>\n",
       "      <td>21873</td>\n",
       "      <td>0</td>\n",
       "      <td>2017-01-13 14:29:00</td>\n",
       "      <td>541104</td>\n",
       "      <td>shop 0</td>\n",
       "      <td>False</td>\n",
       "      <td>2017-01-13</td>\n",
       "      <td>1.63</td>\n",
       "    </tr>\n",
       "    <tr>\n",
       "      <th>2</th>\n",
       "      <td>540418</td>\n",
       "      <td>21873</td>\n",
       "      <td>1</td>\n",
       "      <td>2017-01-07 11:04:00</td>\n",
       "      <td>540418</td>\n",
       "      <td>shop 0</td>\n",
       "      <td>False</td>\n",
       "      <td>2017-01-07</td>\n",
       "      <td>1.63</td>\n",
       "    </tr>\n",
       "    <tr>\n",
       "      <th>3</th>\n",
       "      <td>541516</td>\n",
       "      <td>21873</td>\n",
       "      <td>2</td>\n",
       "      <td>2017-01-18 17:34:00</td>\n",
       "      <td>541516</td>\n",
       "      <td>shop 0</td>\n",
       "      <td>False</td>\n",
       "      <td>2017-01-18</td>\n",
       "      <td>1.63</td>\n",
       "    </tr>\n",
       "    <tr>\n",
       "      <th>4</th>\n",
       "      <td>541566</td>\n",
       "      <td>21873</td>\n",
       "      <td>35</td>\n",
       "      <td>2017-01-19 11:50:00</td>\n",
       "      <td>23401.0</td>\n",
       "      <td>shop 0</td>\n",
       "      <td>True</td>\n",
       "      <td>2017-01-19</td>\n",
       "      <td>1.63</td>\n",
       "    </tr>\n",
       "  </tbody>\n",
       "</table>\n",
       "</div>"
      ],
      "text/plain": [
       "  purchase_id item_id  quantity       purchase_date customer_id shop_id  \\\n",
       "0      538280   21873        11 2016-12-10 12:50:00     18427.0  shop 0   \n",
       "1      541104   21873         0 2017-01-13 14:29:00      541104  shop 0   \n",
       "2      540418   21873         1 2017-01-07 11:04:00      540418  shop 0   \n",
       "3      541516   21873         2 2017-01-18 17:34:00      541516  shop 0   \n",
       "4      541566   21873        35 2017-01-19 11:50:00     23401.0  shop 0   \n",
       "\n",
       "   loyalty_program        date  price_per_one  \n",
       "0            False  2016-12-10           1.63  \n",
       "1            False  2017-01-13           1.63  \n",
       "2            False  2017-01-07           1.63  \n",
       "3            False  2017-01-18           1.63  \n",
       "4             True  2017-01-19           1.63  "
      ]
     },
     "execution_count": 42,
     "metadata": {},
     "output_type": "execute_result"
    }
   ],
   "source": [
    "# сохраним для анализа данные только о нулевом магазине\n",
    "shop_0 = retail.query('shop_id == \"shop 0\"')\n",
    "shop_0.head()"
   ]
  },
  {
   "cell_type": "markdown",
   "metadata": {},
   "source": [
    "### Количество участников программы лояльности в динамике"
   ]
  },
  {
   "cell_type": "markdown",
   "metadata": {},
   "source": [
    "Посмотрим, как менялось количество покупателей с картой лояльности внутри исследуемого периода."
   ]
  },
  {
   "cell_type": "code",
   "execution_count": 43,
   "metadata": {},
   "outputs": [
    {
     "data": {
      "image/png": "[encoded data removed]"
     },
     "metadata": {},
     "output_type": "display_data"
    }
   ],
   "source": [
    "# Посмотрим изменение количества покупателей с картой лояльности по датам\n",
    "df = shop_0.query('loyalty_program == True').groupby('date').agg({'customer_id':'nunique'}).reset_index()\n",
    "\n",
    "fig = px.bar(df, x='date', y='customer_id')\n",
    "fig.update_layout(\n",
    "    title='Количество покупателей с картой лояльности в динамике',\n",
    "    xaxis_title='даты',\n",
    "    yaxis_title='количество покупателей',\n",
    "    margin=dict(l=0, r=0, t=50, b=0),\n",
    "    template = 'ggplot2'\n",
    ")\n",
    "fig.show();"
   ]
  },
  {
   "cell_type": "markdown",
   "metadata": {},
   "source": [
    "На графике видно, что количество участников программы лояльности в 2016 году было больше, чем в 2017. Отсутствие покупателей в конце декабря и начале января говорит о том, что в новогодние праздники магазин не работал, после чего количество снова выросло, но уже не так сильно, как было в первой половине декабря. Кроме того видно, что магазин так же не работает по воскресеньям."
   ]
  },
  {
   "cell_type": "markdown",
   "metadata": {},
   "source": [
    "### Сравнение количества и доли покупателей с программой лояльности и без в динамике"
   ]
  },
  {
   "cell_type": "markdown",
   "metadata": {},
   "source": [
    "Посмотрим, как менялось количество покупателей с картой лояльности и без за исследуемый период "
   ]
  },
  {
   "cell_type": "code",
   "execution_count": 44,
   "metadata": {},
   "outputs": [
    {
     "data": {
      "image/png": "[encoded data removed]"
     },
     "metadata": {},
     "output_type": "display_data"
    }
   ],
   "source": [
    "# подготовим данные\n",
    "data = shop_0.pivot_table(index=['date', 'loyalty_program'], values='customer_id', aggfunc='nunique').reset_index()\n",
    "data.columns = ['date', 'loyalty', 'count_customers']\n",
    "\n",
    "# строим диаграмму\n",
    "fig = px.bar(data, x=\"date\", y=\"count_customers\", color=\"loyalty\", title=\"Количество покупателей с картой и  без по дням\", barmode='group')\n",
    "fig.update_layout(xaxis_title='даты', yaxis_title='количество покупателей')\n",
    "fig.show()"
   ]
  },
  {
   "cell_type": "markdown",
   "metadata": {},
   "source": [
    "На первый взгляд количество покупателей с картой лояльности изменяется примерно пропорционально изменению количество покупателей без карты.\n",
    "Но для уверенности посмотрим на график относительного количества участников программы лояльности ко всем покупателям в динамике."
   ]
  },
  {
   "cell_type": "code",
   "execution_count": 45,
   "metadata": {},
   "outputs": [
    {
     "data": {
      "text/html": [
       "<div>\n",
       "<style scoped>\n",
       "    .dataframe tbody tr th:only-of-type {\n",
       "        vertical-align: middle;\n",
       "    }\n",
       "\n",
       "    .dataframe tbody tr th {\n",
       "        vertical-align: top;\n",
       "    }\n",
       "\n",
       "    .dataframe thead th {\n",
       "        text-align: right;\n",
       "    }\n",
       "</style>\n",
       "<table border=\"1\" class=\"dataframe\">\n",
       "  <thead>\n",
       "    <tr style=\"text-align: right;\">\n",
       "      <th></th>\n",
       "      <th>date</th>\n",
       "      <th>loyalty_customers</th>\n",
       "      <th>all_customers</th>\n",
       "      <th>share</th>\n",
       "    </tr>\n",
       "  </thead>\n",
       "  <tbody>\n",
       "    <tr>\n",
       "      <th>0</th>\n",
       "      <td>2016-12-01</td>\n",
       "      <td>36</td>\n",
       "      <td>107</td>\n",
       "      <td>0.336449</td>\n",
       "    </tr>\n",
       "    <tr>\n",
       "      <th>1</th>\n",
       "      <td>2016-12-02</td>\n",
       "      <td>35</td>\n",
       "      <td>118</td>\n",
       "      <td>0.296610</td>\n",
       "    </tr>\n",
       "    <tr>\n",
       "      <th>2</th>\n",
       "      <td>2016-12-03</td>\n",
       "      <td>20</td>\n",
       "      <td>85</td>\n",
       "      <td>0.235294</td>\n",
       "    </tr>\n",
       "    <tr>\n",
       "      <th>3</th>\n",
       "      <td>2016-12-05</td>\n",
       "      <td>25</td>\n",
       "      <td>71</td>\n",
       "      <td>0.352113</td>\n",
       "    </tr>\n",
       "    <tr>\n",
       "      <th>4</th>\n",
       "      <td>2016-12-06</td>\n",
       "      <td>39</td>\n",
       "      <td>107</td>\n",
       "      <td>0.364486</td>\n",
       "    </tr>\n",
       "  </tbody>\n",
       "</table>\n",
       "</div>"
      ],
      "text/plain": [
       "         date  loyalty_customers  all_customers     share\n",
       "0  2016-12-01                 36            107  0.336449\n",
       "1  2016-12-02                 35            118  0.296610\n",
       "2  2016-12-03                 20             85  0.235294\n",
       "3  2016-12-05                 25             71  0.352113\n",
       "4  2016-12-06                 39            107  0.364486"
      ]
     },
     "execution_count": 45,
     "metadata": {},
     "output_type": "execute_result"
    }
   ],
   "source": [
    "# посчитаем количество покупателей всего по дням\n",
    "all_customers = shop_0.groupby('date').agg({'customer_id':'nunique'}).reset_index()\n",
    "all_customers.columns=['date', 'all_customers']\n",
    "\n",
    "# посчитаем количество пользователей программы лояльности по дням\n",
    "loyalty_customers = shop_0.query('loyalty_program == True').groupby('date').agg({'customer_id':'nunique'}).reset_index()\n",
    "loyalty_customers.columns=['date', 'loyalty_customers']\n",
    "\n",
    "# Объединим таблицы\n",
    "customers_data = loyalty_customers.merge(all_customers, on='date', how='outer')\n",
    "# добавим столбец с долей участников программы лояльности по дням\n",
    "customers_data['share'] = customers_data['loyalty_customers'] / customers_data['all_customers']\n",
    "customers_data.head()"
   ]
  },
  {
   "cell_type": "code",
   "execution_count": 46,
   "metadata": {},
   "outputs": [
    {
     "data": {
      "image/png": "[encoded data removed]"
     },
     "metadata": {},
     "output_type": "display_data"
    }
   ],
   "source": [
    "# Построим график\n",
    "fig = px.bar(customers_data, x='date', y='share')\n",
    "fig.update_layout(\n",
    "    title='Изменение доли участников программы лояльности по дням',\n",
    "    xaxis_title='даты',\n",
    "    yaxis_title='доля количества участников программы лояльности',\n",
    "    margin=dict(l=0, r=0, t=50, b=0),\n",
    "    template = 'ggplot2'\n",
    ")\n",
    "fig.show();"
   ]
  },
  {
   "cell_type": "markdown",
   "metadata": {},
   "source": [
    "Динамика количества пользователей с картой лояльности примерно повторяет динамику остальных пользователей, только чуть сглаженную. Точно так же нет покупок в Новогодние праздники и по воскресеньям. В остальном в среднем доля участников программы лояльности стабильная и составляет около 25-30%."
   ]
  },
  {
   "cell_type": "markdown",
   "metadata": {},
   "source": [
    "### Количество чеков на покупателя среди участников программы лояльности и остальных"
   ]
  },
  {
   "cell_type": "markdown",
   "metadata": {},
   "source": [
    "Сравним среднее количество чеков на одного покупателя среди пользователей системы лояльности и остальных."
   ]
  },
  {
   "cell_type": "code",
   "execution_count": 47,
   "metadata": {},
   "outputs": [
    {
     "data": {
      "text/html": [
       "<div>\n",
       "<style scoped>\n",
       "    .dataframe tbody tr th:only-of-type {\n",
       "        vertical-align: middle;\n",
       "    }\n",
       "\n",
       "    .dataframe tbody tr th {\n",
       "        vertical-align: top;\n",
       "    }\n",
       "\n",
       "    .dataframe thead th {\n",
       "        text-align: right;\n",
       "    }\n",
       "</style>\n",
       "<table border=\"1\" class=\"dataframe\">\n",
       "  <thead>\n",
       "    <tr style=\"text-align: right;\">\n",
       "      <th></th>\n",
       "      <th>loyalty_program</th>\n",
       "      <th>purchase_id</th>\n",
       "    </tr>\n",
       "  </thead>\n",
       "  <tbody>\n",
       "    <tr>\n",
       "      <th>0</th>\n",
       "      <td>False</td>\n",
       "      <td>1.818659</td>\n",
       "    </tr>\n",
       "    <tr>\n",
       "      <th>1</th>\n",
       "      <td>True</td>\n",
       "      <td>2.286449</td>\n",
       "    </tr>\n",
       "  </tbody>\n",
       "</table>\n",
       "</div>"
      ],
      "text/plain": [
       "   loyalty_program  purchase_id\n",
       "0            False     1.818659\n",
       "1             True     2.286449"
      ]
     },
     "execution_count": 47,
     "metadata": {},
     "output_type": "execute_result"
    }
   ],
   "source": [
    "# считаем количество чеков на каждого покупателя\n",
    "purchases = shop_0.groupby(['customer_id', 'loyalty_program']).agg({'purchase_id':'nunique'}).reset_index()\n",
    "# считаем среднее количество чеков на покупателя с картой и без\n",
    "mean_purchases = purchases.groupby('loyalty_program').agg({'purchase_id':'mean'}).reset_index()\n",
    "mean_purchases"
   ]
  },
  {
   "cell_type": "code",
   "execution_count": 48,
   "metadata": {},
   "outputs": [
    {
     "data": {
      "image/png": "[encoded data removed]"
     },
     "metadata": {},
     "output_type": "display_data"
    }
   ],
   "source": [
    "# строим столбчатую диаграмму\n",
    "fig = px.bar(mean_purchases, x='loyalty_program', y='purchase_id')\n",
    "fig.update_layout(\n",
    "    title='Среднее количество чеков на покупателя с картой и без',\n",
    "    xaxis_title='программа лояльности',\n",
    "    yaxis_title='среднее количество чеков',\n",
    "    margin=dict(l=0, r=0, t=50, b=0),\n",
    "    template = 'ggplot2'\n",
    ")\n",
    "fig.show();"
   ]
  },
  {
   "cell_type": "markdown",
   "metadata": {},
   "source": [
    "В среднем на одного покупателя с картой лояльности приходится чеков больше, чем на покупателя без карты лояльности. Но нужно помнить, что мы не всех покупателей без карты лояльности смогли идентифицировать, и считали каждый новый чек как нового покупателя. Возможно среди них были и повторные покупки. Но все равно ожидаемо, что человек с картой лояльности будет возвращаться с большей вероятностью, чем без карты."
   ]
  },
  {
   "cell_type": "markdown",
   "metadata": {},
   "source": [
    "Проверим наши догадки и посмотрим среднее количество чеков на одного покупателя до того, как заполнили недостающие данные с айди покупателя."
   ]
  },
  {
   "cell_type": "code",
   "execution_count": 49,
   "metadata": {
    "scrolled": false
   },
   "outputs": [
    {
     "data": {
      "text/html": [
       "<div>\n",
       "<style scoped>\n",
       "    .dataframe tbody tr th:only-of-type {\n",
       "        vertical-align: middle;\n",
       "    }\n",
       "\n",
       "    .dataframe tbody tr th {\n",
       "        vertical-align: top;\n",
       "    }\n",
       "\n",
       "    .dataframe thead th {\n",
       "        text-align: right;\n",
       "    }\n",
       "</style>\n",
       "<table border=\"1\" class=\"dataframe\">\n",
       "  <thead>\n",
       "    <tr style=\"text-align: right;\">\n",
       "      <th></th>\n",
       "      <th>loyalty_program</th>\n",
       "      <th>purchase_id</th>\n",
       "    </tr>\n",
       "  </thead>\n",
       "  <tbody>\n",
       "    <tr>\n",
       "      <th>0</th>\n",
       "      <td>0.0</td>\n",
       "      <td>2.411360</td>\n",
       "    </tr>\n",
       "    <tr>\n",
       "      <th>1</th>\n",
       "      <td>1.0</td>\n",
       "      <td>2.289608</td>\n",
       "    </tr>\n",
       "  </tbody>\n",
       "</table>\n",
       "</div>"
      ],
      "text/plain": [
       "   loyalty_program  purchase_id\n",
       "0              0.0     2.411360\n",
       "1              1.0     2.289608"
      ]
     },
     "execution_count": 49,
     "metadata": {},
     "output_type": "execute_result"
    }
   ],
   "source": [
    "empty_retail.groupby(['customer_id', 'loyalty_program']).agg({'purchase_id':'nunique'}).reset_index().groupby('loyalty_program').agg({'purchase_id':'mean'}).reset_index()"
   ]
  },
  {
   "cell_type": "markdown",
   "metadata": {},
   "source": [
    "Среднее количество чеков среди покупателей без карты лояльности увеличилось с 1,81 до 1,85, что совсем незначительно."
   ]
  },
  {
   "cell_type": "markdown",
   "metadata": {},
   "source": [
    "### Медианная сумма чека среди участников программы лояльности и остальных покупателей"
   ]
  },
  {
   "cell_type": "markdown",
   "metadata": {},
   "source": [
    "Сравним теперь среднюю сумму чеков среди покупателей с картой лояльности и остальных. Поскольку у нас большой разброс в стоимости товаров, лучше брать для расчета медианную стоимость.\n",
    "Для этого подготовим данные: сначала добавим колонку с суммой товара и затем посчитаем сумму каждого чека."
   ]
  },
  {
   "cell_type": "code",
   "execution_count": 50,
   "metadata": {},
   "outputs": [
    {
     "data": {
      "text/html": [
       "<div>\n",
       "<style scoped>\n",
       "    .dataframe tbody tr th:only-of-type {\n",
       "        vertical-align: middle;\n",
       "    }\n",
       "\n",
       "    .dataframe tbody tr th {\n",
       "        vertical-align: top;\n",
       "    }\n",
       "\n",
       "    .dataframe thead th {\n",
       "        text-align: right;\n",
       "    }\n",
       "</style>\n",
       "<table border=\"1\" class=\"dataframe\">\n",
       "  <thead>\n",
       "    <tr style=\"text-align: right;\">\n",
       "      <th></th>\n",
       "      <th>loyalty_program</th>\n",
       "      <th>cost</th>\n",
       "    </tr>\n",
       "  </thead>\n",
       "  <tbody>\n",
       "    <tr>\n",
       "      <th>0</th>\n",
       "      <td>False</td>\n",
       "      <td>174.355</td>\n",
       "    </tr>\n",
       "    <tr>\n",
       "      <th>1</th>\n",
       "      <td>True</td>\n",
       "      <td>218.360</td>\n",
       "    </tr>\n",
       "  </tbody>\n",
       "</table>\n",
       "</div>"
      ],
      "text/plain": [
       "   loyalty_program     cost\n",
       "0            False  174.355\n",
       "1             True  218.360"
      ]
     },
     "execution_count": 50,
     "metadata": {},
     "output_type": "execute_result"
    }
   ],
   "source": [
    "# добавляем колонку со стоимостью продукта\n",
    "shop_0['cost'] = shop_0['price_per_one'] * shop_0['quantity']\n",
    "\n",
    "# считаем суммму каждого чека\n",
    "sum_purchase = shop_0.groupby(['purchase_id', 'loyalty_program']).agg({'cost':'sum'}).reset_index()\n",
    "\n",
    "#считаем медианную сумму чека среди покупателей с картой лояльности и без\n",
    "median_sum_purchase = sum_purchase.groupby('loyalty_program').agg({'cost':'median'}).reset_index()\n",
    "median_sum_purchase"
   ]
  },
  {
   "cell_type": "code",
   "execution_count": 51,
   "metadata": {},
   "outputs": [
    {
     "data": {
      "image/png": "[encoded data removed]"
     },
     "metadata": {},
     "output_type": "display_data"
    }
   ],
   "source": [
    "# строим столбчатую диаграмму\n",
    "fig = px.bar(median_sum_purchase, x='loyalty_program', y='cost')\n",
    "fig.update_layout(\n",
    "    title='Медианная сумма чека на покупателя с картой и без',\n",
    "    xaxis_title='программа лояльности',\n",
    "    yaxis_title='медианная сумма чека',\n",
    "    margin=dict(l=0, r=0, t=50, b=0),\n",
    "    template = 'ggplot2'\n",
    ")\n",
    "fig.show();"
   ]
  },
  {
   "cell_type": "markdown",
   "metadata": {},
   "source": [
    "Медианная сумма чека среди пользователей карты лояльности составила почти 224 рубля, а среди остальный покупателей 177 рублей. Разница не очень большая, но все же пользователи карты лояльности в среднем делают покупки на большую сумму, либо возвращают меньше товаров, чем покупатели без карты лояльности."
   ]
  },
  {
   "cell_type": "code",
   "execution_count": 52,
   "metadata": {},
   "outputs": [
    {
     "data": {
      "text/html": [
       "<div>\n",
       "<style scoped>\n",
       "    .dataframe tbody tr th:only-of-type {\n",
       "        vertical-align: middle;\n",
       "    }\n",
       "\n",
       "    .dataframe tbody tr th {\n",
       "        vertical-align: top;\n",
       "    }\n",
       "\n",
       "    .dataframe thead th {\n",
       "        text-align: right;\n",
       "    }\n",
       "</style>\n",
       "<table border=\"1\" class=\"dataframe\">\n",
       "  <thead>\n",
       "    <tr style=\"text-align: right;\">\n",
       "      <th></th>\n",
       "      <th>loyalty_program</th>\n",
       "      <th>cost</th>\n",
       "    </tr>\n",
       "  </thead>\n",
       "  <tbody>\n",
       "    <tr>\n",
       "      <th>0</th>\n",
       "      <td>False</td>\n",
       "      <td>334.62</td>\n",
       "    </tr>\n",
       "    <tr>\n",
       "      <th>1</th>\n",
       "      <td>True</td>\n",
       "      <td>296.70</td>\n",
       "    </tr>\n",
       "  </tbody>\n",
       "</table>\n",
       "</div>"
      ],
      "text/plain": [
       "   loyalty_program    cost\n",
       "0            False  334.62\n",
       "1             True  296.70"
      ]
     },
     "execution_count": 52,
     "metadata": {},
     "output_type": "execute_result"
    }
   ],
   "source": [
    "#код тимлида\n",
    "sum_purchase_look = shop_0[shop_0['cost'] > 0].groupby(['purchase_id', 'loyalty_program']).agg({'cost':'sum'}).reset_index()\n",
    "\n",
    "median_sum_purchase_look = sum_purchase_look.groupby('loyalty_program').agg({'cost':'median'}).reset_index()\n",
    "median_sum_purchase_look"
   ]
  },
  {
   "cell_type": "markdown",
   "metadata": {},
   "source": [
    "### Динамика среднего чека среди участников программы лояльности и остальных"
   ]
  },
  {
   "cell_type": "markdown",
   "metadata": {},
   "source": [
    "Посмотрим, как менялся средний чек во времени среди участников программы лояльности и остальный покупателей."
   ]
  },
  {
   "cell_type": "code",
   "execution_count": 53,
   "metadata": {
    "scrolled": false
   },
   "outputs": [
    {
     "data": {
      "image/png": "[encoded data removed]"
     },
     "metadata": {},
     "output_type": "display_data"
    }
   ],
   "source": [
    "# считаем сумму чеков по датам\n",
    "sum_purchase_by_date = shop_0.groupby(['date','purchase_id', 'loyalty_program']).agg({'cost':'sum'}).reset_index()\n",
    "# считаем медианную сумму чека по датам в зависимости от программы лояльности\n",
    "median_purchase_by_date = sum_purchase_by_date.pivot_table(index=['date','loyalty_program'], values='cost', aggfunc='median').reset_index()\n",
    "median_purchase_by_date.columns = ['date', 'loyalty', 'median_purchase']\n",
    "\n",
    "fig = px.bar(median_purchase_by_date, x=\"date\", y=\"median_purchase\", color=\"loyalty\", title=\"Медианная сумма чека\", barmode='group')\n",
    "fig.update_layout(xaxis_title='даты', yaxis_title='сумма чека')\n",
    "fig.show();"
   ]
  },
  {
   "cell_type": "markdown",
   "metadata": {},
   "source": [
    "Медианная сумма чека стабильно выше среди покупателей с картой лояльности. Самая большая разница была зафиксирована в начале января: покупатели с картой лояльности быстрее возвращаются после новогодних праздников и сразу покупают на большую сумму по сравнению с остальными покупателями. Так же в конце января замечено, что динамика участников программы лояльности и остальных идет в противофазе: когда приходит больше всего покупателей с картой, тогда у остальных меньше и наоборот. В остальной период такого эффекта нет. Возможно в этот период проходила какая-то маркетинговая акция и активно привлекали в магазине к участию в программе лояльности: так что простые покупатели принимали участие в программе и переходили в разряд участников."
   ]
  },
  {
   "cell_type": "markdown",
   "metadata": {},
   "source": [
    "### Медианное количество товаров в чеке среди участников программы и остальных покупателей"
   ]
  },
  {
   "cell_type": "code",
   "execution_count": 54,
   "metadata": {},
   "outputs": [
    {
     "data": {
      "text/html": [
       "<div>\n",
       "<style scoped>\n",
       "    .dataframe tbody tr th:only-of-type {\n",
       "        vertical-align: middle;\n",
       "    }\n",
       "\n",
       "    .dataframe tbody tr th {\n",
       "        vertical-align: top;\n",
       "    }\n",
       "\n",
       "    .dataframe thead th {\n",
       "        text-align: right;\n",
       "    }\n",
       "</style>\n",
       "<table border=\"1\" class=\"dataframe\">\n",
       "  <thead>\n",
       "    <tr style=\"text-align: right;\">\n",
       "      <th></th>\n",
       "      <th>loyalty_program</th>\n",
       "      <th>quantity</th>\n",
       "    </tr>\n",
       "  </thead>\n",
       "  <tbody>\n",
       "    <tr>\n",
       "      <th>0</th>\n",
       "      <td>False</td>\n",
       "      <td>56.0</td>\n",
       "    </tr>\n",
       "    <tr>\n",
       "      <th>1</th>\n",
       "      <td>True</td>\n",
       "      <td>75.0</td>\n",
       "    </tr>\n",
       "  </tbody>\n",
       "</table>\n",
       "</div>"
      ],
      "text/plain": [
       "   loyalty_program  quantity\n",
       "0            False      56.0\n",
       "1             True      75.0"
      ]
     },
     "execution_count": 54,
     "metadata": {},
     "output_type": "execute_result"
    }
   ],
   "source": [
    "# считаем количество товаров в чеке\n",
    "items_in_purchase = shop_0.groupby(['loyalty_program', 'purchase_id']).agg({'quantity':'sum'}).reset_index()\n",
    "items_in_purchase\n",
    "# считаем медианное количество товаров в чеке среди участников программы лояльности и нет\n",
    "mean_items_in_purchase = items_in_purchase.groupby('loyalty_program').agg({'quantity':'median'}).reset_index()\n",
    "mean_items_in_purchase"
   ]
  },
  {
   "cell_type": "code",
   "execution_count": 55,
   "metadata": {},
   "outputs": [
    {
     "data": {
      "image/png": "[encoded data removed]"
     },
     "metadata": {},
     "output_type": "display_data"
    }
   ],
   "source": [
    "# строим столбчатую диаграмму\n",
    "fig = px.bar(mean_items_in_purchase, x='loyalty_program', y='quantity', text='quantity')\n",
    "fig.update_layout(\n",
    "    title='Медианное количество товаров в чеке с картой и без',\n",
    "    xaxis_title='программа лояльности',\n",
    "    yaxis_title='медианное количество товаров',\n",
    "    margin=dict(l=0, r=0, t=50, b=0),\n",
    "    template = 'ggplot2'\n",
    ")\n",
    "fig.show();"
   ]
  },
  {
   "cell_type": "markdown",
   "metadata": {},
   "source": [
    "Покупатели с картой лояльности в среднем за одну покупку берут 75 позиций, тогда как покупатели без карты в среднем 56."
   ]
  },
  {
   "cell_type": "markdown",
   "metadata": {},
   "source": [
    "### Топ-5 товаров среди участников программы лояльности и остальных покупателей"
   ]
  },
  {
   "cell_type": "markdown",
   "metadata": {},
   "source": [
    "Посмотрим, являются ли самые популярные товары среди участников программы лояльности и остальных одинаковыми."
   ]
  },
  {
   "cell_type": "code",
   "execution_count": 56,
   "metadata": {},
   "outputs": [
    {
     "data": {
      "text/html": [
       "<div>\n",
       "<style scoped>\n",
       "    .dataframe tbody tr th:only-of-type {\n",
       "        vertical-align: middle;\n",
       "    }\n",
       "\n",
       "    .dataframe tbody tr th {\n",
       "        vertical-align: top;\n",
       "    }\n",
       "\n",
       "    .dataframe thead th {\n",
       "        text-align: right;\n",
       "    }\n",
       "</style>\n",
       "<table border=\"1\" class=\"dataframe\">\n",
       "  <thead>\n",
       "    <tr style=\"text-align: right;\">\n",
       "      <th></th>\n",
       "      <th>item_id</th>\n",
       "      <th>quantity</th>\n",
       "    </tr>\n",
       "  </thead>\n",
       "  <tbody>\n",
       "    <tr>\n",
       "      <th>0</th>\n",
       "      <td>17003</td>\n",
       "      <td>3406</td>\n",
       "    </tr>\n",
       "    <tr>\n",
       "      <th>1</th>\n",
       "      <td>22197</td>\n",
       "      <td>2952</td>\n",
       "    </tr>\n",
       "    <tr>\n",
       "      <th>2</th>\n",
       "      <td>22616</td>\n",
       "      <td>2894</td>\n",
       "    </tr>\n",
       "    <tr>\n",
       "      <th>3</th>\n",
       "      <td>22189</td>\n",
       "      <td>2141</td>\n",
       "    </tr>\n",
       "    <tr>\n",
       "      <th>4</th>\n",
       "      <td>21623</td>\n",
       "      <td>2031</td>\n",
       "    </tr>\n",
       "  </tbody>\n",
       "</table>\n",
       "</div>"
      ],
      "text/plain": [
       "  item_id  quantity\n",
       "0   17003      3406\n",
       "1   22197      2952\n",
       "2   22616      2894\n",
       "3   22189      2141\n",
       "4   21623      2031"
      ]
     },
     "execution_count": 56,
     "metadata": {},
     "output_type": "execute_result"
    }
   ],
   "source": [
    "# найдем топ-5 айди продуктов среди участников программы лояльности\n",
    "top_loyalty = (\n",
    "    retail\n",
    "    .query('loyalty_program == True')\n",
    "    .groupby('item_id')\n",
    "    .agg({'quantity':'sum'})\n",
    "    .sort_values(by='quantity', ascending=False)\n",
    "    .head(5)\n",
    "    .reset_index()\n",
    ")\n",
    "top_loyalty"
   ]
  },
  {
   "cell_type": "code",
   "execution_count": 57,
   "metadata": {},
   "outputs": [
    {
     "data": {
      "text/html": [
       "<div>\n",
       "<style scoped>\n",
       "    .dataframe tbody tr th:only-of-type {\n",
       "        vertical-align: middle;\n",
       "    }\n",
       "\n",
       "    .dataframe tbody tr th {\n",
       "        vertical-align: top;\n",
       "    }\n",
       "\n",
       "    .dataframe thead th {\n",
       "        text-align: right;\n",
       "    }\n",
       "</style>\n",
       "<table border=\"1\" class=\"dataframe\">\n",
       "  <thead>\n",
       "    <tr style=\"text-align: right;\">\n",
       "      <th></th>\n",
       "      <th>item_id</th>\n",
       "      <th>quantity</th>\n",
       "    </tr>\n",
       "  </thead>\n",
       "  <tbody>\n",
       "    <tr>\n",
       "      <th>0</th>\n",
       "      <td>21212</td>\n",
       "      <td>6431</td>\n",
       "    </tr>\n",
       "    <tr>\n",
       "      <th>1</th>\n",
       "      <td>85099b</td>\n",
       "      <td>5999</td>\n",
       "    </tr>\n",
       "    <tr>\n",
       "      <th>2</th>\n",
       "      <td>85123a</td>\n",
       "      <td>5322</td>\n",
       "    </tr>\n",
       "    <tr>\n",
       "      <th>3</th>\n",
       "      <td>22355</td>\n",
       "      <td>4007</td>\n",
       "    </tr>\n",
       "    <tr>\n",
       "      <th>4</th>\n",
       "      <td>22197</td>\n",
       "      <td>3966</td>\n",
       "    </tr>\n",
       "  </tbody>\n",
       "</table>\n",
       "</div>"
      ],
      "text/plain": [
       "  item_id  quantity\n",
       "0   21212      6431\n",
       "1  85099b      5999\n",
       "2  85123a      5322\n",
       "3   22355      4007\n",
       "4   22197      3966"
      ]
     },
     "execution_count": 57,
     "metadata": {},
     "output_type": "execute_result"
    }
   ],
   "source": [
    "# Теперь найдем топ-5 продуктов среди покупателей без карты лояльности\n",
    "top_other = (\n",
    "    retail\n",
    "    .query('loyalty_program == False')\n",
    "    .groupby('item_id')\n",
    "    .agg({'quantity':'sum'})\n",
    "    .sort_values(by='quantity', ascending=False)\n",
    "    .head(5)\n",
    "    .reset_index()\n",
    ")\n",
    "top_other"
   ]
  },
  {
   "cell_type": "code",
   "execution_count": 58,
   "metadata": {},
   "outputs": [
    {
     "data": {
      "image/png": "[encoded data removed]"
     },
     "metadata": {},
     "output_type": "display_data"
    }
   ],
   "source": [
    "# посмотрим на диаграмме, совпадают ли самые популярные товары среди участников программы лояльности и остальных\n",
    "fig = go.Figure(data=[\n",
    "    go.Bar(name='loyalty', x=top_loyalty['item_id'], y=top_loyalty['quantity'], text=top_loyalty['quantity']),\n",
    "    go.Bar(name='other', x=top_other['item_id'], y=top_other['quantity'], text=top_other['quantity'])\n",
    "])\n",
    "# Change the bar mode\n",
    "fig.update_layout(\n",
    "    barmode='stack', \n",
    "    title_text='ТОП товаров среди покупателей с картой и без', \n",
    "    xaxis_title='айди товара',\n",
    "    yaxis_title='количество покупок',\n",
    "    template = 'ggplot2'\n",
    ")\n",
    "fig.show();"
   ]
  },
  {
   "cell_type": "markdown",
   "metadata": {},
   "source": [
    "Только один продукт попал в топ-5 самых покупаемых товаров среди обеих групп: покупателей с картой лояльности и без. Остальные продукты отличаются."
   ]
  },
  {
   "cell_type": "markdown",
   "metadata": {},
   "source": [
    "### Динамика доли прибыли от участников программы лояльности"
   ]
  },
  {
   "cell_type": "markdown",
   "metadata": {},
   "source": [
    "Теперь посмотрим, как менялась во времени доля прибыли участников программы лояльности относительно всей прибыли."
   ]
  },
  {
   "cell_type": "code",
   "execution_count": 59,
   "metadata": {},
   "outputs": [
    {
     "data": {
      "text/html": [
       "<div>\n",
       "<style scoped>\n",
       "    .dataframe tbody tr th:only-of-type {\n",
       "        vertical-align: middle;\n",
       "    }\n",
       "\n",
       "    .dataframe tbody tr th {\n",
       "        vertical-align: top;\n",
       "    }\n",
       "\n",
       "    .dataframe thead th {\n",
       "        text-align: right;\n",
       "    }\n",
       "</style>\n",
       "<table border=\"1\" class=\"dataframe\">\n",
       "  <thead>\n",
       "    <tr style=\"text-align: right;\">\n",
       "      <th></th>\n",
       "      <th>date</th>\n",
       "      <th>total_profit</th>\n",
       "      <th>loyalty_profit</th>\n",
       "      <th>share</th>\n",
       "    </tr>\n",
       "  </thead>\n",
       "  <tbody>\n",
       "    <tr>\n",
       "      <th>0</th>\n",
       "      <td>2016-12-01</td>\n",
       "      <td>64101.390</td>\n",
       "      <td>14445.815</td>\n",
       "      <td>0.225359</td>\n",
       "    </tr>\n",
       "    <tr>\n",
       "      <th>1</th>\n",
       "      <td>2016-12-02</td>\n",
       "      <td>60060.765</td>\n",
       "      <td>16921.885</td>\n",
       "      <td>0.281746</td>\n",
       "    </tr>\n",
       "    <tr>\n",
       "      <th>2</th>\n",
       "      <td>2016-12-03</td>\n",
       "      <td>30231.685</td>\n",
       "      <td>8827.515</td>\n",
       "      <td>0.291995</td>\n",
       "    </tr>\n",
       "    <tr>\n",
       "      <th>3</th>\n",
       "      <td>2016-12-05</td>\n",
       "      <td>28671.475</td>\n",
       "      <td>10707.625</td>\n",
       "      <td>0.373459</td>\n",
       "    </tr>\n",
       "    <tr>\n",
       "      <th>4</th>\n",
       "      <td>2016-12-06</td>\n",
       "      <td>44734.375</td>\n",
       "      <td>15555.725</td>\n",
       "      <td>0.347735</td>\n",
       "    </tr>\n",
       "  </tbody>\n",
       "</table>\n",
       "</div>"
      ],
      "text/plain": [
       "         date  total_profit  loyalty_profit     share\n",
       "0  2016-12-01     64101.390       14445.815  0.225359\n",
       "1  2016-12-02     60060.765       16921.885  0.281746\n",
       "2  2016-12-03     30231.685        8827.515  0.291995\n",
       "3  2016-12-05     28671.475       10707.625  0.373459\n",
       "4  2016-12-06     44734.375       15555.725  0.347735"
      ]
     },
     "execution_count": 59,
     "metadata": {},
     "output_type": "execute_result"
    }
   ],
   "source": [
    "# Посчитаем общую сумму покупок по дням\n",
    "everyday_profit = shop_0.groupby('date').agg({'cost':'sum'}).reset_index()\n",
    "everyday_profit.columns=['date', 'total_profit']\n",
    "\n",
    "# Посчитаем прибыль от участников программы лояльности по дням\n",
    "loyalty_profit = shop_0.query('loyalty_program == True').groupby('date').agg({'cost':'sum'}).reset_index()\n",
    "loyalty_profit.columns=['date', 'loyalty_profit']\n",
    "\n",
    "# Объединим таблицы с прибылью\n",
    "profit_data = everyday_profit.merge(loyalty_profit, on='date', how='outer')\n",
    "# добавим столбец с долей участников программы лояльности по дням\n",
    "profit_data['share'] = profit_data['loyalty_profit'] / profit_data['total_profit']\n",
    "profit_data.head()"
   ]
  },
  {
   "cell_type": "code",
   "execution_count": 60,
   "metadata": {
    "scrolled": false
   },
   "outputs": [
    {
     "data": {
      "image/png": "[encoded data removed]"
     },
     "metadata": {},
     "output_type": "display_data"
    }
   ],
   "source": [
    "# Построим график\n",
    "\n",
    "fig = px.bar(profit_data, x='date', y='share')\n",
    "fig.update_layout(\n",
    "    title='Динамика доли прибыли от участников программы лояльности',\n",
    "    xaxis_title='даты',\n",
    "    yaxis_title='доля прибыли от участников программы лояльности',\n",
    "    margin=dict(l=0, r=0, t=50, b=0),\n",
    "    template = 'ggplot2'\n",
    ")\n",
    "fig.show();"
   ]
  },
  {
   "cell_type": "markdown",
   "metadata": {},
   "source": [
    "Доля прибыли тоже имеет очень нестабильный вид."
   ]
  },
  {
   "cell_type": "markdown",
   "metadata": {},
   "source": [
    "<a id='#5'></a>\n",
    "\n",
    "## Проверка гипотезы о том, что средний чек участников программы лояльности выше, чем у остальных"
   ]
  },
  {
   "cell_type": "markdown",
   "metadata": {},
   "source": [
    "**Нулевая гипотеза**: средний чек участников программы лояльности и остальных покупателей одинаковый\n",
    "\n",
    "**Альтернативная гипотеза**: средний чек участников программы лояльности выше, чем у остальных покупателей.\n",
    "\n",
    "**уровень статистической значимости**: 5%"
   ]
  },
  {
   "cell_type": "code",
   "execution_count": 61,
   "metadata": {},
   "outputs": [
    {
     "name": "stdout",
     "output_type": "stream",
     "text": [
      "p-значение: [0.3374146]\n",
      "Не получилось отвергнуть нулевую гипотезу\n"
     ]
    }
   ],
   "source": [
    "# Подготовим данные\n",
    "loyalty = shop_0.query('loyalty_program == True').groupby('purchase_id').agg({'cost':'sum'})\n",
    "other = shop_0.query('loyalty_program == False').groupby('purchase_id').agg({'cost':'sum'})\n",
    "\n",
    "# results = вызов метода для проверки гипотезы\n",
    "# поскольку выборки разного размера, указываем equal_var как False\n",
    "results = st.ttest_ind(loyalty, other, equal_var=False)\n",
    "\n",
    "# задаем значение уровня значимости\n",
    "alpha = .05\n",
    "\n",
    "# вывод значения p-value на экран \n",
    "print('p-значение:', results.pvalue/2)\n",
    "\n",
    "# условный оператор с выводом строки с ответом\n",
    "if results.pvalue/2 < alpha and (loyalty.mean() > other.mean()):\n",
    "    print('Отвергаем нулевую гипотезу')\n",
    "else:\n",
    "    print('Не получилось отвергнуть нулевую гипотезу')\n"
   ]
  },
  {
   "cell_type": "markdown",
   "metadata": {},
   "source": [
    "Гипотеза о том, что средний чек у участников программы лояльности выше, не подтвердилась. Это значит, что средний чек может быть такой же или ниже."
   ]
  },
  {
   "cell_type": "markdown",
   "metadata": {},
   "source": [
    "<a id='#6'></a>\n",
    "\n",
    "## Проверка гипотезы о том, что среднее количество товаров в чеке среди участников программы лояльности выше, чем у остальных"
   ]
  },
  {
   "cell_type": "markdown",
   "metadata": {},
   "source": [
    "**Нулевая гипотеза**: среднее количество товаров в чеке у участников программы лояльности и остальных покупателей одинаковое\n",
    "\n",
    "**Альтернативная гипотеза**: среднее количество товаров в чеке у участников программы лояльности выше, чем у остальных покупателей.\n",
    "\n",
    "**уровень статистической значимости**: 5%"
   ]
  },
  {
   "cell_type": "code",
   "execution_count": 62,
   "metadata": {},
   "outputs": [
    {
     "name": "stdout",
     "output_type": "stream",
     "text": [
      "p-значение: [0.12443404]\n",
      "Не получилось отвергнуть нулевую гипотезу\n"
     ]
    }
   ],
   "source": [
    "# Подготовим данные\n",
    "loyalty = shop_0.query('loyalty_program == True').groupby('purchase_id').agg({'quantity':'sum'})\n",
    "other = shop_0.query('loyalty_program == False').groupby('purchase_id').agg({'quantity':'sum'})\n",
    "\n",
    "# results = вызов метода для проверки гипотезы\n",
    "# поскольку выборки разного размера, указываем equal_var как False\n",
    "results = st.ttest_ind(loyalty, other, equal_var=False)\n",
    "\n",
    "# задаем значение уровня значимости\n",
    "alpha = .05\n",
    "\n",
    "# вывод значения p-value на экран \n",
    "print('p-значение:', results.pvalue/2)\n",
    "\n",
    "# условный оператор с выводом строки с ответом\n",
    "if results.pvalue/2 < alpha and (loyalty.mean() > other.mean()):\n",
    "    print('Отвергаем нулевую гипотезу')\n",
    "else:\n",
    "    print('Не получилось отвергнуть нулевую гипотезу')\n"
   ]
  },
  {
   "cell_type": "markdown",
   "metadata": {},
   "source": [
    "И эта гипотеза тоже не подтвердилась: среднее количество товаров в чеке среди участников программы лояльности и остальных покупателей может быть как одинаковое, так и меньшим среди пользователей карты."
   ]
  },
  {
   "cell_type": "markdown",
   "metadata": {},
   "source": [
    "<a id='#7'></a>\n",
    "\n",
    "## Выводы"
   ]
  },
  {
   "cell_type": "markdown",
   "metadata": {},
   "source": [
    "<div style=\"border-radius: 15px; box-shadow: 4px 4px 4px; border: solid black 2px; padding: 20px\">\n",
    "У нас в наличии были данные о покупках в сети розничных строительных магазинов за 3 зимних месяца 2016-2017 годов. В одном файле были указаны товары с ценами, а во втором данные о покупках включая информацию об участии в программе лояльности.\n",
    "Примерно в трети данных о покупках отсутствовала информация с номером покупателя: мы исправили отсутствующие данные прировняв каждую отдельную покупку к новому пользователю.\n",
    "В информации о ценах на товары было несколько вариантов на каждый товар. Для анализа суммы чеков были взяты медианные значения стоимости по каждому товару.\n",
    "Кроме того в данных о количестве товаров в чеке присутствовало много отрицательных значений и нулей. Анализ показал, что это только частично могут быть возвраты, а остальное либо комиссии банков или маркетплейсов, либо что-то типа кэшбека.\n",
    "\n",
    "Исследовательский анализ данных показал, что в начале декабря были самые большие продажи, которые упали почти до нуля в канун Нового года, но потом к середине января повысились, хоть и не до предыдущего уровня. Так же имеются колебания примерно каждую неделю, что может быть связано с тем, что по выходным обычно совершают больше покупок, чем в будни.\n",
    "\n",
    "Анализ данных в разрезе магазинов показал, что участники программы лояльности есть только в четырех магазинах из 11, при этом в трех из них только по одному покупателю с картой лояльности. Поэтому было принято решение для анализа программы лояльности брать данные только по одному магазину, где участников программы достаточно для анализа. Кроме того продажи в этом магазине сильно отличаются от остальных количеством: либо это склад или какой-то центральный магазин, либо он работает дольше всего, а остальные, возможно, только недавно открылись.\n",
    "\n",
    "Что касается анализа программы лояльности, то он показал, что доля покупателей с картой лояльности имеет скачкообразный характер, но без тенденции к увеличению или уменьшению, и составляет в среднем 30% от общего количества покупателей. Медианное количество чеков на участника программы лояльности получилось чуть выше, чем на остальных пользователей (2,3 против 1,8 на одного человека). Медианная сумма чека тоже немного выше среди участников программы: 224 рубля у участников и 177 рублей у остальных покупателей. Медианное количество товаров в чеке так же у покупателей с картой лояльности чуть выше: 75 против 56 без карты. Состав самых популярных товаров среди участников программы лояльности и остальных сильно отличается: только один товар попал в топ-5 обеих групп. Доля прибыли от участников программы лояльности нестабильна, как и количество участников, но в среднем составляет около 30%. В динамике доли прибыли заметны несколько резких провалов с уходом в минус: это говорит о том, что данные с отрицательными значениями в количестве товаров (то есть возможно возвраты или комиссии) в некоторые дни превысили сумму покупки. Возможно стоит для подобного анализа исключать информацию о комиссиях. \n",
    "\n",
    "Кроме того, если в программу лояльности включены льготы на возврат товаров, то стоит, возможно, пересмотреть политику возвратов, чтобы не провоцировать покупателей на дополнительные возвраты и предусмотреть какой-то другой бонус для сохранения интереса к программе лояльности без ущерба для компании.\n",
    "\n",
    "Проверка гипотезы о том, что средний чек и среднее количество товаров в чеке среди покупателей с картой лояльности выше, не прошла подтверждение. Сатистическая значимость в 5% не была достигнута. Но есть вероятность, что при исключении из данных отрицательных значений, которые не относятся к покупкам, ситуация может измениться.\n",
    "___________________"
   ]
  }
 ],
 "metadata": {
  "ExecuteTimeLog": [
   {
    "duration": 5687,
    "start_time": "2023-06-05T09:51:29.794Z"
   },
   {
    "duration": 800,
    "start_time": "2023-06-05T09:51:35.484Z"
   },
   {
    "duration": 9,
    "start_time": "2023-06-05T09:51:36.286Z"
   },
   {
    "duration": 710,
    "start_time": "2023-06-05T09:51:36.297Z"
   },
   {
    "duration": 95,
    "start_time": "2023-06-05T09:51:37.010Z"
   },
   {
    "duration": 82,
    "start_time": "2023-06-05T09:51:37.109Z"
   },
   {
    "duration": 14,
    "start_time": "2023-06-05T09:51:37.197Z"
   },
   {
    "duration": 101,
    "start_time": "2023-06-05T09:51:37.213Z"
   },
   {
    "duration": 65,
    "start_time": "2023-06-05T09:51:37.316Z"
   },
   {
    "duration": 117,
    "start_time": "2023-06-05T09:51:37.383Z"
   },
   {
    "duration": 109,
    "start_time": "2023-06-05T09:51:37.502Z"
   },
   {
    "duration": 79,
    "start_time": "2023-06-05T09:51:37.613Z"
   },
   {
    "duration": 97,
    "start_time": "2023-06-05T09:51:37.694Z"
   },
   {
    "duration": 382,
    "start_time": "2023-06-05T09:51:37.795Z"
   },
   {
    "duration": 15,
    "start_time": "2023-06-05T09:51:38.180Z"
   },
   {
    "duration": 16,
    "start_time": "2023-06-05T09:51:38.197Z"
   },
   {
    "duration": 77,
    "start_time": "2023-06-05T09:51:38.215Z"
   },
   {
    "duration": 283,
    "start_time": "2023-06-05T09:51:38.295Z"
   },
   {
    "duration": 16,
    "start_time": "2023-06-05T09:51:38.580Z"
   },
   {
    "duration": 498,
    "start_time": "2023-06-05T09:51:38.599Z"
   },
   {
    "duration": 504,
    "start_time": "2023-06-05T09:51:39.100Z"
   },
   {
    "duration": 75,
    "start_time": "2023-06-05T09:51:39.606Z"
   },
   {
    "duration": 11,
    "start_time": "2023-06-05T09:51:39.683Z"
   },
   {
    "duration": 310,
    "start_time": "2023-06-05T09:51:39.697Z"
   },
   {
    "duration": 284,
    "start_time": "2023-06-05T09:51:40.009Z"
   },
   {
    "duration": 7,
    "start_time": "2023-06-05T09:51:40.295Z"
   },
   {
    "duration": 112,
    "start_time": "2023-06-05T09:51:40.304Z"
   },
   {
    "duration": 83,
    "start_time": "2023-06-05T09:51:40.418Z"
   },
   {
    "duration": 724,
    "start_time": "2023-06-05T09:51:40.503Z"
   },
   {
    "duration": 954,
    "start_time": "2023-06-05T09:51:41.228Z"
   },
   {
    "duration": 894,
    "start_time": "2023-06-05T09:51:42.185Z"
   },
   {
    "duration": 28,
    "start_time": "2023-06-05T09:51:43.081Z"
   },
   {
    "duration": 114,
    "start_time": "2023-06-05T09:51:43.111Z"
   },
   {
    "duration": 152,
    "start_time": "2023-06-05T09:51:43.226Z"
   },
   {
    "duration": 26,
    "start_time": "2023-06-05T09:51:43.380Z"
   },
   {
    "duration": 92,
    "start_time": "2023-06-05T09:51:43.408Z"
   },
   {
    "duration": 82,
    "start_time": "2023-06-05T09:51:43.503Z"
   },
   {
    "duration": 17,
    "start_time": "2023-06-05T09:51:43.587Z"
   },
   {
    "duration": 488,
    "start_time": "2023-06-05T09:51:43.606Z"
   },
   {
    "duration": 22,
    "start_time": "2023-06-05T09:51:44.097Z"
   },
   {
    "duration": 85,
    "start_time": "2023-06-05T09:51:44.123Z"
   },
   {
    "duration": 1012,
    "start_time": "2023-06-05T09:51:44.209Z"
   },
   {
    "duration": 174,
    "start_time": "2023-06-05T09:51:45.223Z"
   },
   {
    "duration": 514,
    "start_time": "2023-06-05T09:51:45.400Z"
   },
   {
    "duration": 288,
    "start_time": "2023-06-05T09:51:45.916Z"
   },
   {
    "duration": 222,
    "start_time": "2023-06-05T09:51:46.206Z"
   },
   {
    "duration": 44,
    "start_time": "2023-06-05T09:51:46.477Z"
   },
   {
    "duration": 213,
    "start_time": "2023-06-05T09:51:46.577Z"
   },
   {
    "duration": 125,
    "start_time": "2023-06-05T09:51:46.792Z"
   },
   {
    "duration": 161,
    "start_time": "2023-06-05T09:51:46.920Z"
   },
   {
    "duration": 323,
    "start_time": "2023-06-05T09:51:47.084Z"
   },
   {
    "duration": 206,
    "start_time": "2023-06-05T09:51:47.409Z"
   },
   {
    "duration": 165,
    "start_time": "2023-06-05T09:51:47.617Z"
   },
   {
    "duration": 138,
    "start_time": "2023-06-05T09:51:47.784Z"
   },
   {
    "duration": 92,
    "start_time": "2023-06-05T09:51:47.924Z"
   },
   {
    "duration": 174,
    "start_time": "2023-06-05T09:51:48.018Z"
   },
   {
    "duration": 109,
    "start_time": "2023-06-05T09:51:48.195Z"
   },
   {
    "duration": 110,
    "start_time": "2023-06-05T09:51:48.308Z"
   },
   {
    "duration": 99,
    "start_time": "2023-06-05T09:51:48.419Z"
   },
   {
    "duration": 195,
    "start_time": "2023-06-05T09:51:48.520Z"
   },
   {
    "duration": 183,
    "start_time": "2023-06-05T09:51:48.716Z"
   },
   {
    "duration": 275,
    "start_time": "2023-06-05T10:22:31.995Z"
   },
   {
    "duration": 196,
    "start_time": "2023-06-05T10:22:36.735Z"
   },
   {
    "duration": 25,
    "start_time": "2023-06-05T11:26:14.497Z"
   },
   {
    "duration": 45,
    "start_time": "2023-06-05T11:27:45.762Z"
   },
   {
    "duration": 43,
    "start_time": "2023-06-05T11:28:32.878Z"
   },
   {
    "duration": 3198,
    "start_time": "2023-06-05T11:28:41.228Z"
   },
   {
    "duration": 528,
    "start_time": "2023-06-05T11:28:44.428Z"
   },
   {
    "duration": 5,
    "start_time": "2023-06-05T11:28:44.958Z"
   },
   {
    "duration": 201,
    "start_time": "2023-06-05T11:28:44.965Z"
   },
   {
    "duration": 26,
    "start_time": "2023-06-05T11:28:45.168Z"
   },
   {
    "duration": 12,
    "start_time": "2023-06-05T11:28:45.196Z"
   },
   {
    "duration": 10,
    "start_time": "2023-06-05T11:28:45.210Z"
   },
   {
    "duration": 56,
    "start_time": "2023-06-05T11:28:45.221Z"
   },
   {
    "duration": 9,
    "start_time": "2023-06-05T11:28:45.278Z"
   },
   {
    "duration": 48,
    "start_time": "2023-06-05T11:28:45.290Z"
   },
   {
    "duration": 52,
    "start_time": "2023-06-05T11:28:45.339Z"
   },
   {
    "duration": 27,
    "start_time": "2023-06-05T11:28:45.393Z"
   },
   {
    "duration": 62,
    "start_time": "2023-06-05T11:28:45.421Z"
   },
   {
    "duration": 112,
    "start_time": "2023-06-05T11:28:45.485Z"
   },
   {
    "duration": 10,
    "start_time": "2023-06-05T11:28:45.599Z"
   },
   {
    "duration": 5,
    "start_time": "2023-06-05T11:28:45.611Z"
   },
   {
    "duration": 10,
    "start_time": "2023-06-05T11:28:45.618Z"
   },
   {
    "duration": 158,
    "start_time": "2023-06-05T11:28:45.629Z"
   },
   {
    "duration": 10,
    "start_time": "2023-06-05T11:28:45.789Z"
   },
   {
    "duration": 196,
    "start_time": "2023-06-05T11:28:45.801Z"
   },
   {
    "duration": 180,
    "start_time": "2023-06-05T11:28:45.998Z"
   },
   {
    "duration": 16,
    "start_time": "2023-06-05T11:28:46.180Z"
   },
   {
    "duration": 8,
    "start_time": "2023-06-05T11:28:46.198Z"
   },
   {
    "duration": 150,
    "start_time": "2023-06-05T11:28:46.208Z"
   },
   {
    "duration": 127,
    "start_time": "2023-06-05T11:28:46.360Z"
   },
   {
    "duration": 9,
    "start_time": "2023-06-05T11:28:46.489Z"
   },
   {
    "duration": 62,
    "start_time": "2023-06-05T11:28:46.500Z"
   },
   {
    "duration": 19,
    "start_time": "2023-06-05T11:28:46.579Z"
   },
   {
    "duration": 287,
    "start_time": "2023-06-05T11:28:46.600Z"
   },
   {
    "duration": 386,
    "start_time": "2023-06-05T11:28:46.888Z"
   },
   {
    "duration": 304,
    "start_time": "2023-06-05T11:28:47.276Z"
   },
   {
    "duration": 15,
    "start_time": "2023-06-05T11:28:47.581Z"
   },
   {
    "duration": 64,
    "start_time": "2023-06-05T11:28:47.598Z"
   },
   {
    "duration": 53,
    "start_time": "2023-06-05T11:28:47.663Z"
   },
   {
    "duration": 21,
    "start_time": "2023-06-05T11:28:47.718Z"
   },
   {
    "duration": 36,
    "start_time": "2023-06-05T11:28:47.742Z"
   },
   {
    "duration": 22,
    "start_time": "2023-06-05T11:28:47.780Z"
   },
   {
    "duration": 14,
    "start_time": "2023-06-05T11:28:47.804Z"
   },
   {
    "duration": 194,
    "start_time": "2023-06-05T11:28:47.820Z"
   },
   {
    "duration": 19,
    "start_time": "2023-06-05T11:28:48.016Z"
   },
   {
    "duration": 21,
    "start_time": "2023-06-05T11:28:48.036Z"
   },
   {
    "duration": 361,
    "start_time": "2023-06-05T11:28:48.059Z"
   },
   {
    "duration": 57,
    "start_time": "2023-06-05T11:28:48.421Z"
   },
   {
    "duration": 159,
    "start_time": "2023-06-05T11:28:48.480Z"
   },
   {
    "duration": 87,
    "start_time": "2023-06-05T11:28:48.641Z"
   },
   {
    "duration": 80,
    "start_time": "2023-06-05T11:28:48.729Z"
   },
   {
    "duration": 23,
    "start_time": "2023-06-05T11:28:48.810Z"
   },
   {
    "duration": 75,
    "start_time": "2023-06-05T11:28:48.835Z"
   },
   {
    "duration": 73,
    "start_time": "2023-06-05T11:28:48.912Z"
   },
   {
    "duration": 41,
    "start_time": "2023-06-05T11:28:48.987Z"
   },
   {
    "duration": 157,
    "start_time": "2023-06-05T11:28:49.030Z"
   },
   {
    "duration": 46,
    "start_time": "2023-06-05T11:28:49.188Z"
   },
   {
    "duration": 97,
    "start_time": "2023-06-05T11:28:49.236Z"
   },
   {
    "duration": 46,
    "start_time": "2023-06-05T11:28:49.334Z"
   },
   {
    "duration": 65,
    "start_time": "2023-06-05T11:28:49.381Z"
   },
   {
    "duration": 44,
    "start_time": "2023-06-05T11:28:49.448Z"
   },
   {
    "duration": 48,
    "start_time": "2023-06-05T11:28:49.494Z"
   },
   {
    "duration": 37,
    "start_time": "2023-06-05T11:28:49.543Z"
   },
   {
    "duration": 43,
    "start_time": "2023-06-05T11:28:49.582Z"
   },
   {
    "duration": 25,
    "start_time": "2023-06-05T11:28:49.627Z"
   },
   {
    "duration": 61,
    "start_time": "2023-06-05T11:28:49.677Z"
   },
   {
    "duration": 73,
    "start_time": "2023-06-05T11:28:49.741Z"
   },
   {
    "duration": 43,
    "start_time": "2023-06-05T12:03:04.695Z"
   },
   {
    "duration": 3369,
    "start_time": "2023-06-05T12:03:12.209Z"
   },
   {
    "duration": 292,
    "start_time": "2023-06-05T12:03:15.580Z"
   },
   {
    "duration": 4,
    "start_time": "2023-06-05T12:03:15.873Z"
   },
   {
    "duration": 180,
    "start_time": "2023-06-05T12:03:15.879Z"
   },
   {
    "duration": 21,
    "start_time": "2023-06-05T12:03:16.060Z"
   },
   {
    "duration": 26,
    "start_time": "2023-06-05T12:03:16.082Z"
   },
   {
    "duration": 11,
    "start_time": "2023-06-05T12:03:16.109Z"
   },
   {
    "duration": 23,
    "start_time": "2023-06-05T12:03:16.121Z"
   },
   {
    "duration": 7,
    "start_time": "2023-06-05T12:03:16.146Z"
   },
   {
    "duration": 31,
    "start_time": "2023-06-05T12:03:16.155Z"
   },
   {
    "duration": 51,
    "start_time": "2023-06-05T12:03:16.188Z"
   },
   {
    "duration": 25,
    "start_time": "2023-06-05T12:03:16.241Z"
   },
   {
    "duration": 61,
    "start_time": "2023-06-05T12:03:16.268Z"
   },
   {
    "duration": 102,
    "start_time": "2023-06-05T12:03:16.331Z"
   },
   {
    "duration": 10,
    "start_time": "2023-06-05T12:03:16.435Z"
   },
   {
    "duration": 5,
    "start_time": "2023-06-05T12:03:16.446Z"
   },
   {
    "duration": 11,
    "start_time": "2023-06-05T12:03:16.452Z"
   },
   {
    "duration": 135,
    "start_time": "2023-06-05T12:03:16.464Z"
   },
   {
    "duration": 13,
    "start_time": "2023-06-05T12:03:16.607Z"
   },
   {
    "duration": 173,
    "start_time": "2023-06-05T12:03:16.621Z"
   },
   {
    "duration": 155,
    "start_time": "2023-06-05T12:03:16.796Z"
   },
   {
    "duration": 16,
    "start_time": "2023-06-05T12:03:16.952Z"
   },
   {
    "duration": 8,
    "start_time": "2023-06-05T12:03:16.969Z"
   },
   {
    "duration": 110,
    "start_time": "2023-06-05T12:03:16.979Z"
   },
   {
    "duration": 87,
    "start_time": "2023-06-05T12:03:17.091Z"
   },
   {
    "duration": 5,
    "start_time": "2023-06-05T12:03:17.180Z"
   },
   {
    "duration": 50,
    "start_time": "2023-06-05T12:03:17.186Z"
   },
   {
    "duration": 18,
    "start_time": "2023-06-05T12:03:17.240Z"
   },
   {
    "duration": 323,
    "start_time": "2023-06-05T12:03:17.260Z"
   },
   {
    "duration": 336,
    "start_time": "2023-06-05T12:03:17.584Z"
   },
   {
    "duration": 259,
    "start_time": "2023-06-05T12:03:17.921Z"
   },
   {
    "duration": 14,
    "start_time": "2023-06-05T12:03:18.182Z"
   },
   {
    "duration": 48,
    "start_time": "2023-06-05T12:03:18.205Z"
   },
   {
    "duration": 45,
    "start_time": "2023-06-05T12:03:18.255Z"
   },
   {
    "duration": 15,
    "start_time": "2023-06-05T12:03:18.301Z"
   },
   {
    "duration": 26,
    "start_time": "2023-06-05T12:03:18.318Z"
   },
   {
    "duration": 11,
    "start_time": "2023-06-05T12:03:18.346Z"
   },
   {
    "duration": 10,
    "start_time": "2023-06-05T12:03:18.359Z"
   },
   {
    "duration": 179,
    "start_time": "2023-06-05T12:03:18.370Z"
   },
   {
    "duration": 18,
    "start_time": "2023-06-05T12:03:18.551Z"
   },
   {
    "duration": 18,
    "start_time": "2023-06-05T12:03:18.571Z"
   },
   {
    "duration": 320,
    "start_time": "2023-06-05T12:03:18.592Z"
   },
   {
    "duration": 38,
    "start_time": "2023-06-05T12:03:18.913Z"
   },
   {
    "duration": 164,
    "start_time": "2023-06-05T12:03:18.952Z"
   },
   {
    "duration": 160,
    "start_time": "2023-06-05T12:03:19.117Z"
   },
   {
    "duration": 71,
    "start_time": "2023-06-05T12:03:19.278Z"
   },
   {
    "duration": 22,
    "start_time": "2023-06-05T12:03:19.350Z"
   },
   {
    "duration": 85,
    "start_time": "2023-06-05T12:03:19.374Z"
   },
   {
    "duration": 60,
    "start_time": "2023-06-05T12:03:19.461Z"
   },
   {
    "duration": 38,
    "start_time": "2023-06-05T12:03:19.523Z"
   },
   {
    "duration": 69,
    "start_time": "2023-06-05T12:03:19.563Z"
   },
   {
    "duration": 43,
    "start_time": "2023-06-05T12:03:19.633Z"
   },
   {
    "duration": 83,
    "start_time": "2023-06-05T12:03:19.678Z"
   },
   {
    "duration": 45,
    "start_time": "2023-06-05T12:03:19.762Z"
   },
   {
    "duration": 53,
    "start_time": "2023-06-05T12:03:19.808Z"
   },
   {
    "duration": 23,
    "start_time": "2023-06-05T12:03:19.862Z"
   },
   {
    "duration": 61,
    "start_time": "2023-06-05T12:03:19.886Z"
   },
   {
    "duration": 22,
    "start_time": "2023-06-05T12:03:19.949Z"
   },
   {
    "duration": 59,
    "start_time": "2023-06-05T12:03:19.972Z"
   },
   {
    "duration": 21,
    "start_time": "2023-06-05T12:03:20.033Z"
   },
   {
    "duration": 79,
    "start_time": "2023-06-05T12:03:20.055Z"
   },
   {
    "duration": 49,
    "start_time": "2023-06-05T12:03:20.135Z"
   },
   {
    "duration": 261,
    "start_time": "2023-06-05T12:04:21.331Z"
   },
   {
    "duration": 252,
    "start_time": "2023-06-05T12:04:29.256Z"
   },
   {
    "duration": 249,
    "start_time": "2023-06-05T12:05:54.660Z"
   },
   {
    "duration": 5,
    "start_time": "2023-06-05T12:12:39.307Z"
   },
   {
    "duration": 159,
    "start_time": "2023-06-05T12:13:13.798Z"
   },
   {
    "duration": 4,
    "start_time": "2023-06-05T12:15:06.401Z"
   },
   {
    "duration": 2852,
    "start_time": "2023-06-05T12:15:32.262Z"
   },
   {
    "duration": 365,
    "start_time": "2023-06-05T12:15:35.116Z"
   },
   {
    "duration": 4,
    "start_time": "2023-06-05T12:15:35.483Z"
   },
   {
    "duration": 186,
    "start_time": "2023-06-05T12:15:35.488Z"
   },
   {
    "duration": 20,
    "start_time": "2023-06-05T12:15:35.676Z"
   },
   {
    "duration": 14,
    "start_time": "2023-06-05T12:15:35.697Z"
   },
   {
    "duration": 20,
    "start_time": "2023-06-05T12:15:35.712Z"
   },
   {
    "duration": 36,
    "start_time": "2023-06-05T12:15:35.733Z"
   },
   {
    "duration": 8,
    "start_time": "2023-06-05T12:15:35.770Z"
   },
   {
    "duration": 65,
    "start_time": "2023-06-05T12:15:35.780Z"
   },
   {
    "duration": 36,
    "start_time": "2023-06-05T12:15:35.846Z"
   },
   {
    "duration": 24,
    "start_time": "2023-06-05T12:15:35.884Z"
   },
   {
    "duration": 39,
    "start_time": "2023-06-05T12:15:35.910Z"
   },
   {
    "duration": 111,
    "start_time": "2023-06-05T12:15:35.950Z"
   },
   {
    "duration": 10,
    "start_time": "2023-06-05T12:15:36.063Z"
   },
   {
    "duration": 14,
    "start_time": "2023-06-05T12:15:36.074Z"
   },
   {
    "duration": 26,
    "start_time": "2023-06-05T12:15:36.089Z"
   },
   {
    "duration": 138,
    "start_time": "2023-06-05T12:15:36.117Z"
   },
   {
    "duration": 9,
    "start_time": "2023-06-05T12:15:36.256Z"
   },
   {
    "duration": 167,
    "start_time": "2023-06-05T12:15:36.267Z"
   },
   {
    "duration": 163,
    "start_time": "2023-06-05T12:15:36.436Z"
   },
   {
    "duration": 18,
    "start_time": "2023-06-05T12:15:36.601Z"
   },
   {
    "duration": 7,
    "start_time": "2023-06-05T12:15:36.621Z"
   },
   {
    "duration": 112,
    "start_time": "2023-06-05T12:15:36.630Z"
   },
   {
    "duration": 95,
    "start_time": "2023-06-05T12:15:36.744Z"
   },
   {
    "duration": 5,
    "start_time": "2023-06-05T12:15:36.841Z"
   },
   {
    "duration": 55,
    "start_time": "2023-06-05T12:15:36.847Z"
   },
   {
    "duration": 12,
    "start_time": "2023-06-05T12:15:36.904Z"
   },
   {
    "duration": 301,
    "start_time": "2023-06-05T12:15:36.918Z"
   },
   {
    "duration": 4,
    "start_time": "2023-06-05T12:15:37.221Z"
   },
   {
    "duration": 31,
    "start_time": "2023-06-05T12:16:24.994Z"
   },
   {
    "duration": 30,
    "start_time": "2023-06-05T12:16:46.978Z"
   },
   {
    "duration": 319,
    "start_time": "2023-06-05T12:17:28.585Z"
   },
   {
    "duration": 367,
    "start_time": "2023-06-05T12:18:47.162Z"
   },
   {
    "duration": 75,
    "start_time": "2023-06-05T12:20:32.686Z"
   },
   {
    "duration": 79,
    "start_time": "2023-06-05T12:23:10.994Z"
   },
   {
    "duration": 77,
    "start_time": "2023-06-05T12:23:21.127Z"
   },
   {
    "duration": 39,
    "start_time": "2023-06-05T12:37:37.609Z"
   },
   {
    "duration": 64,
    "start_time": "2023-06-05T12:38:30.061Z"
   },
   {
    "duration": 73,
    "start_time": "2023-06-05T12:38:59.579Z"
   },
   {
    "duration": 12,
    "start_time": "2023-06-05T12:41:57.367Z"
   },
   {
    "duration": 165,
    "start_time": "2023-06-05T12:43:53.888Z"
   },
   {
    "duration": 138,
    "start_time": "2023-06-05T12:57:51.305Z"
   },
   {
    "duration": 1736,
    "start_time": "2023-06-05T12:58:08.814Z"
   },
   {
    "duration": 434,
    "start_time": "2023-06-05T12:58:10.552Z"
   },
   {
    "duration": 103,
    "start_time": "2023-06-05T12:58:10.987Z"
   },
   {
    "duration": 154,
    "start_time": "2023-06-05T12:58:11.092Z"
   },
   {
    "duration": 20,
    "start_time": "2023-06-05T12:58:11.247Z"
   },
   {
    "duration": 10,
    "start_time": "2023-06-05T12:58:11.268Z"
   },
   {
    "duration": 30,
    "start_time": "2023-06-05T12:58:11.279Z"
   },
   {
    "duration": 24,
    "start_time": "2023-06-05T12:58:11.310Z"
   },
   {
    "duration": 8,
    "start_time": "2023-06-05T12:58:11.336Z"
   },
   {
    "duration": 31,
    "start_time": "2023-06-05T12:58:11.346Z"
   },
   {
    "duration": 60,
    "start_time": "2023-06-05T12:58:11.378Z"
   },
   {
    "duration": 23,
    "start_time": "2023-06-05T12:58:11.440Z"
   },
   {
    "duration": 61,
    "start_time": "2023-06-05T12:58:11.464Z"
   },
   {
    "duration": 85,
    "start_time": "2023-06-05T12:58:11.527Z"
   },
   {
    "duration": 9,
    "start_time": "2023-06-05T12:58:11.614Z"
   },
   {
    "duration": 10,
    "start_time": "2023-06-05T12:58:11.624Z"
   },
   {
    "duration": 8,
    "start_time": "2023-06-05T12:58:11.636Z"
   },
   {
    "duration": 126,
    "start_time": "2023-06-05T12:58:11.645Z"
   },
   {
    "duration": 8,
    "start_time": "2023-06-05T12:58:11.773Z"
   },
   {
    "duration": 163,
    "start_time": "2023-06-05T12:58:11.782Z"
   },
   {
    "duration": 149,
    "start_time": "2023-06-05T12:58:11.946Z"
   },
   {
    "duration": 17,
    "start_time": "2023-06-05T12:58:12.096Z"
   },
   {
    "duration": 8,
    "start_time": "2023-06-05T12:58:12.114Z"
   },
   {
    "duration": 111,
    "start_time": "2023-06-05T12:58:12.123Z"
   },
   {
    "duration": 89,
    "start_time": "2023-06-05T12:58:12.236Z"
   },
   {
    "duration": 5,
    "start_time": "2023-06-05T12:58:12.326Z"
   },
   {
    "duration": 38,
    "start_time": "2023-06-05T12:58:12.333Z"
   },
   {
    "duration": 32,
    "start_time": "2023-06-05T12:58:12.375Z"
   },
   {
    "duration": 314,
    "start_time": "2023-06-05T12:58:12.409Z"
   },
   {
    "duration": 92,
    "start_time": "2023-06-05T12:58:12.724Z"
   },
   {
    "duration": 77,
    "start_time": "2023-06-05T12:58:12.817Z"
   },
   {
    "duration": 13,
    "start_time": "2023-06-05T12:58:12.907Z"
   },
   {
    "duration": 34,
    "start_time": "2023-06-05T12:58:12.922Z"
   },
   {
    "duration": 31,
    "start_time": "2023-06-05T12:58:12.958Z"
   },
   {
    "duration": 15,
    "start_time": "2023-06-05T12:58:13.007Z"
   },
   {
    "duration": 17,
    "start_time": "2023-06-05T12:58:13.023Z"
   },
   {
    "duration": 12,
    "start_time": "2023-06-05T12:58:13.041Z"
   },
   {
    "duration": 10,
    "start_time": "2023-06-05T12:58:13.055Z"
   },
   {
    "duration": 194,
    "start_time": "2023-06-05T12:58:13.066Z"
   },
   {
    "duration": 17,
    "start_time": "2023-06-05T12:58:13.262Z"
   },
   {
    "duration": 32,
    "start_time": "2023-06-05T12:58:13.281Z"
   },
   {
    "duration": 35,
    "start_time": "2023-06-05T12:58:13.314Z"
   },
   {
    "duration": 76,
    "start_time": "2023-06-05T12:58:13.350Z"
   },
   {
    "duration": 84,
    "start_time": "2023-06-05T12:58:13.428Z"
   },
   {
    "duration": 71,
    "start_time": "2023-06-05T12:58:30.154Z"
   },
   {
    "duration": 54,
    "start_time": "2023-06-05T12:58:57.407Z"
   },
   {
    "duration": 73,
    "start_time": "2023-06-05T13:02:51.281Z"
   },
   {
    "duration": 92,
    "start_time": "2023-06-05T13:10:03.929Z"
   },
   {
    "duration": 67,
    "start_time": "2023-06-05T13:12:42.384Z"
   },
   {
    "duration": 68,
    "start_time": "2023-06-05T13:17:53.561Z"
   },
   {
    "duration": 69,
    "start_time": "2023-06-05T13:19:05.058Z"
   },
   {
    "duration": 69,
    "start_time": "2023-06-05T13:19:35.922Z"
   },
   {
    "duration": 106,
    "start_time": "2023-06-05T13:23:10.079Z"
   },
   {
    "duration": 123,
    "start_time": "2023-06-05T13:24:01.574Z"
   },
   {
    "duration": 105,
    "start_time": "2023-06-05T13:25:01.143Z"
   },
   {
    "duration": 66,
    "start_time": "2023-06-05T13:30:59.184Z"
   },
   {
    "duration": 72,
    "start_time": "2023-06-05T13:37:37.789Z"
   },
   {
    "duration": 64,
    "start_time": "2023-06-05T13:37:51.184Z"
   },
   {
    "duration": 111,
    "start_time": "2023-06-05T13:38:56.684Z"
   },
   {
    "duration": 117,
    "start_time": "2023-06-05T13:39:08.404Z"
   },
   {
    "duration": 103,
    "start_time": "2023-06-05T13:39:26.334Z"
   },
   {
    "duration": 110,
    "start_time": "2023-06-05T13:39:58.574Z"
   },
   {
    "duration": 95,
    "start_time": "2023-06-05T13:40:10.241Z"
   },
   {
    "duration": 25,
    "start_time": "2023-06-05T13:49:26.251Z"
   },
   {
    "duration": 10,
    "start_time": "2023-06-05T13:49:35.024Z"
   },
   {
    "duration": 30,
    "start_time": "2023-06-05T13:49:46.589Z"
   },
   {
    "duration": 43,
    "start_time": "2023-06-05T13:52:03.810Z"
   },
   {
    "duration": 48,
    "start_time": "2023-06-05T13:52:40.304Z"
   },
   {
    "duration": 16,
    "start_time": "2023-06-05T14:21:47.596Z"
   },
   {
    "duration": 2832,
    "start_time": "2023-06-05T14:22:17.813Z"
   },
   {
    "duration": 674,
    "start_time": "2023-06-05T14:22:20.647Z"
   },
   {
    "duration": 4,
    "start_time": "2023-06-05T14:22:21.323Z"
   },
   {
    "duration": 185,
    "start_time": "2023-06-05T14:22:21.329Z"
   },
   {
    "duration": 22,
    "start_time": "2023-06-05T14:22:21.516Z"
   },
   {
    "duration": 15,
    "start_time": "2023-06-05T14:22:21.540Z"
   },
   {
    "duration": 25,
    "start_time": "2023-06-05T14:22:21.556Z"
   },
   {
    "duration": 52,
    "start_time": "2023-06-05T14:22:21.582Z"
   },
   {
    "duration": 8,
    "start_time": "2023-06-05T14:22:21.636Z"
   },
   {
    "duration": 57,
    "start_time": "2023-06-05T14:22:21.647Z"
   },
   {
    "duration": 45,
    "start_time": "2023-06-05T14:22:21.706Z"
   },
   {
    "duration": 26,
    "start_time": "2023-06-05T14:22:21.753Z"
   },
   {
    "duration": 58,
    "start_time": "2023-06-05T14:22:21.781Z"
   },
   {
    "duration": 112,
    "start_time": "2023-06-05T14:22:21.841Z"
   },
   {
    "duration": 9,
    "start_time": "2023-06-05T14:22:21.955Z"
   },
   {
    "duration": 18,
    "start_time": "2023-06-05T14:22:21.966Z"
   },
   {
    "duration": 19,
    "start_time": "2023-06-05T14:22:21.985Z"
   },
   {
    "duration": 136,
    "start_time": "2023-06-05T14:22:22.006Z"
   },
   {
    "duration": 10,
    "start_time": "2023-06-05T14:22:22.144Z"
   },
   {
    "duration": 190,
    "start_time": "2023-06-05T14:22:22.156Z"
   },
   {
    "duration": 212,
    "start_time": "2023-06-05T14:22:22.347Z"
   },
   {
    "duration": 20,
    "start_time": "2023-06-05T14:22:22.561Z"
   },
   {
    "duration": 32,
    "start_time": "2023-06-05T14:22:22.583Z"
   },
   {
    "duration": 133,
    "start_time": "2023-06-05T14:22:22.618Z"
   },
   {
    "duration": 109,
    "start_time": "2023-06-05T14:22:22.753Z"
   },
   {
    "duration": 7,
    "start_time": "2023-06-05T14:22:22.863Z"
   },
   {
    "duration": 83,
    "start_time": "2023-06-05T14:22:22.872Z"
   },
   {
    "duration": 102,
    "start_time": "2023-06-05T14:22:22.959Z"
   },
   {
    "duration": 336,
    "start_time": "2023-06-05T14:22:23.064Z"
   },
   {
    "duration": 426,
    "start_time": "2023-06-05T14:22:23.405Z"
   },
   {
    "duration": 133,
    "start_time": "2023-06-05T14:22:23.833Z"
   },
   {
    "duration": 40,
    "start_time": "2023-06-05T14:22:23.967Z"
   },
   {
    "duration": 43,
    "start_time": "2023-06-05T14:22:24.009Z"
   },
   {
    "duration": 34,
    "start_time": "2023-06-05T14:22:24.053Z"
   },
   {
    "duration": 26,
    "start_time": "2023-06-05T14:22:24.088Z"
   },
   {
    "duration": 29,
    "start_time": "2023-06-05T14:22:24.116Z"
   },
   {
    "duration": 15,
    "start_time": "2023-06-05T14:22:24.147Z"
   },
   {
    "duration": 31,
    "start_time": "2023-06-05T14:22:24.163Z"
   },
   {
    "duration": 193,
    "start_time": "2023-06-05T14:22:24.195Z"
   },
   {
    "duration": 23,
    "start_time": "2023-06-05T14:22:24.389Z"
   },
   {
    "duration": 37,
    "start_time": "2023-06-05T14:22:24.413Z"
   },
   {
    "duration": 40,
    "start_time": "2023-06-05T14:22:24.451Z"
   },
   {
    "duration": 73,
    "start_time": "2023-06-05T14:22:24.492Z"
   },
   {
    "duration": 113,
    "start_time": "2023-06-05T14:22:24.566Z"
   },
   {
    "duration": 75,
    "start_time": "2023-06-05T14:22:24.680Z"
   },
   {
    "duration": 62,
    "start_time": "2023-06-05T14:22:24.757Z"
   },
   {
    "duration": 71,
    "start_time": "2023-06-05T14:22:24.820Z"
   },
   {
    "duration": 51,
    "start_time": "2023-06-05T14:22:24.905Z"
   },
   {
    "duration": 49,
    "start_time": "2023-06-05T14:22:24.958Z"
   },
   {
    "duration": 38,
    "start_time": "2023-06-05T14:22:25.009Z"
   },
   {
    "duration": 67,
    "start_time": "2023-06-05T14:22:25.049Z"
   },
   {
    "duration": 46,
    "start_time": "2023-06-05T14:22:25.118Z"
   },
   {
    "duration": 113,
    "start_time": "2023-06-05T14:25:08.854Z"
   },
   {
    "duration": 98,
    "start_time": "2023-06-05T14:25:23.361Z"
   },
   {
    "duration": 55,
    "start_time": "2023-06-05T14:38:23.806Z"
   },
   {
    "duration": 141,
    "start_time": "2023-06-05T14:46:03.929Z"
   },
   {
    "duration": 40,
    "start_time": "2023-06-05T14:46:09.578Z"
   },
   {
    "duration": 155,
    "start_time": "2023-06-05T14:46:12.379Z"
   },
   {
    "duration": 2891,
    "start_time": "2023-06-05T14:46:50.407Z"
   },
   {
    "duration": 292,
    "start_time": "2023-06-05T14:46:53.300Z"
   },
   {
    "duration": 4,
    "start_time": "2023-06-05T14:46:53.593Z"
   },
   {
    "duration": 165,
    "start_time": "2023-06-05T14:46:53.599Z"
   },
   {
    "duration": 20,
    "start_time": "2023-06-05T14:46:53.765Z"
   },
   {
    "duration": 24,
    "start_time": "2023-06-05T14:46:53.786Z"
   },
   {
    "duration": 14,
    "start_time": "2023-06-05T14:46:53.812Z"
   },
   {
    "duration": 25,
    "start_time": "2023-06-05T14:46:53.827Z"
   },
   {
    "duration": 8,
    "start_time": "2023-06-05T14:46:53.854Z"
   },
   {
    "duration": 49,
    "start_time": "2023-06-05T14:46:53.864Z"
   },
   {
    "duration": 51,
    "start_time": "2023-06-05T14:46:53.914Z"
   },
   {
    "duration": 41,
    "start_time": "2023-06-05T14:46:53.967Z"
   },
   {
    "duration": 43,
    "start_time": "2023-06-05T14:46:54.010Z"
   },
   {
    "duration": 109,
    "start_time": "2023-06-05T14:46:54.055Z"
   },
   {
    "duration": 9,
    "start_time": "2023-06-05T14:46:54.165Z"
   },
   {
    "duration": 47,
    "start_time": "2023-06-05T14:46:54.175Z"
   },
   {
    "duration": 45,
    "start_time": "2023-06-05T14:46:54.223Z"
   },
   {
    "duration": 159,
    "start_time": "2023-06-05T14:46:54.270Z"
   },
   {
    "duration": 9,
    "start_time": "2023-06-05T14:46:54.431Z"
   },
   {
    "duration": 182,
    "start_time": "2023-06-05T14:46:54.441Z"
   },
   {
    "duration": 153,
    "start_time": "2023-06-05T14:46:54.625Z"
   },
   {
    "duration": 26,
    "start_time": "2023-06-05T14:46:54.780Z"
   },
   {
    "duration": 8,
    "start_time": "2023-06-05T14:46:54.807Z"
   },
   {
    "duration": 102,
    "start_time": "2023-06-05T14:46:54.816Z"
   },
   {
    "duration": 94,
    "start_time": "2023-06-05T14:46:54.920Z"
   },
   {
    "duration": 6,
    "start_time": "2023-06-05T14:46:55.015Z"
   },
   {
    "duration": 41,
    "start_time": "2023-06-05T14:46:55.022Z"
   },
   {
    "duration": 13,
    "start_time": "2023-06-05T14:46:55.066Z"
   },
   {
    "duration": 316,
    "start_time": "2023-06-05T14:46:55.086Z"
   },
   {
    "duration": 423,
    "start_time": "2023-06-05T14:46:55.405Z"
   },
   {
    "duration": 120,
    "start_time": "2023-06-05T14:46:55.830Z"
   },
   {
    "duration": 14,
    "start_time": "2023-06-05T14:46:55.951Z"
   },
   {
    "duration": 63,
    "start_time": "2023-06-05T14:46:55.967Z"
   },
   {
    "duration": 34,
    "start_time": "2023-06-05T14:46:56.032Z"
   },
   {
    "duration": 15,
    "start_time": "2023-06-05T14:46:56.068Z"
   },
   {
    "duration": 36,
    "start_time": "2023-06-05T14:46:56.084Z"
   },
   {
    "duration": 27,
    "start_time": "2023-06-05T14:46:56.122Z"
   },
   {
    "duration": 10,
    "start_time": "2023-06-05T14:46:56.150Z"
   },
   {
    "duration": 178,
    "start_time": "2023-06-05T14:46:56.162Z"
   },
   {
    "duration": 17,
    "start_time": "2023-06-05T14:46:56.341Z"
   },
   {
    "duration": 19,
    "start_time": "2023-06-05T14:46:56.359Z"
   },
   {
    "duration": 49,
    "start_time": "2023-06-05T14:46:56.380Z"
   },
   {
    "duration": 81,
    "start_time": "2023-06-05T14:46:56.431Z"
   },
   {
    "duration": 114,
    "start_time": "2023-06-05T14:46:56.514Z"
   },
   {
    "duration": 80,
    "start_time": "2023-06-05T14:46:56.630Z"
   },
   {
    "duration": 54,
    "start_time": "2023-06-05T14:46:56.712Z"
   },
   {
    "duration": 78,
    "start_time": "2023-06-05T14:46:56.768Z"
   },
   {
    "duration": 60,
    "start_time": "2023-06-05T14:46:56.848Z"
   },
   {
    "duration": 33,
    "start_time": "2023-06-05T14:46:56.909Z"
   },
   {
    "duration": 37,
    "start_time": "2023-06-05T14:46:56.944Z"
   },
   {
    "duration": 71,
    "start_time": "2023-06-05T14:46:56.983Z"
   },
   {
    "duration": 56,
    "start_time": "2023-06-05T14:46:57.056Z"
   },
   {
    "duration": 116,
    "start_time": "2023-06-05T14:46:57.113Z"
   },
   {
    "duration": 37,
    "start_time": "2023-06-05T14:46:57.231Z"
   },
   {
    "duration": 71,
    "start_time": "2023-06-05T14:46:57.270Z"
   },
   {
    "duration": 25,
    "start_time": "2023-06-05T14:46:57.343Z"
   },
   {
    "duration": 64,
    "start_time": "2023-06-05T14:46:57.370Z"
   },
   {
    "duration": 102,
    "start_time": "2023-06-05T14:46:57.435Z"
   },
   {
    "duration": 42,
    "start_time": "2023-06-05T14:46:57.538Z"
   },
   {
    "duration": 69,
    "start_time": "2023-06-05T14:46:57.581Z"
   },
   {
    "duration": 62,
    "start_time": "2023-06-05T14:46:57.651Z"
   },
   {
    "duration": 59,
    "start_time": "2023-06-05T14:46:57.715Z"
   },
   {
    "duration": 9,
    "start_time": "2023-06-05T14:48:22.860Z"
   },
   {
    "duration": 64,
    "start_time": "2023-06-05T14:53:30.562Z"
   },
   {
    "duration": 52,
    "start_time": "2023-06-05T17:10:36.658Z"
   },
   {
    "duration": 3496,
    "start_time": "2023-06-05T17:10:44.130Z"
   },
   {
    "duration": 389,
    "start_time": "2023-06-05T17:10:47.628Z"
   },
   {
    "duration": 4,
    "start_time": "2023-06-05T17:10:48.019Z"
   },
   {
    "duration": 200,
    "start_time": "2023-06-05T17:10:48.025Z"
   },
   {
    "duration": 20,
    "start_time": "2023-06-05T17:10:48.227Z"
   },
   {
    "duration": 10,
    "start_time": "2023-06-05T17:10:48.248Z"
   },
   {
    "duration": 14,
    "start_time": "2023-06-05T17:10:48.260Z"
   },
   {
    "duration": 25,
    "start_time": "2023-06-05T17:10:48.275Z"
   },
   {
    "duration": 7,
    "start_time": "2023-06-05T17:10:48.302Z"
   },
   {
    "duration": 40,
    "start_time": "2023-06-05T17:10:48.311Z"
   },
   {
    "duration": 76,
    "start_time": "2023-06-05T17:10:48.353Z"
   },
   {
    "duration": 29,
    "start_time": "2023-06-05T17:10:48.431Z"
   },
   {
    "duration": 43,
    "start_time": "2023-06-05T17:10:48.515Z"
   },
   {
    "duration": 196,
    "start_time": "2023-06-05T17:10:48.559Z"
   },
   {
    "duration": 9,
    "start_time": "2023-06-05T17:10:48.756Z"
   },
   {
    "duration": 5,
    "start_time": "2023-06-05T17:10:48.766Z"
   },
   {
    "duration": 8,
    "start_time": "2023-06-05T17:10:48.773Z"
   },
   {
    "duration": 155,
    "start_time": "2023-06-05T17:10:48.782Z"
   },
   {
    "duration": 10,
    "start_time": "2023-06-05T17:10:48.938Z"
   },
   {
    "duration": 283,
    "start_time": "2023-06-05T17:10:48.950Z"
   },
   {
    "duration": 165,
    "start_time": "2023-06-05T17:10:49.235Z"
   },
   {
    "duration": 20,
    "start_time": "2023-06-05T17:10:49.402Z"
   },
   {
    "duration": 7,
    "start_time": "2023-06-05T17:10:49.423Z"
   },
   {
    "duration": 99,
    "start_time": "2023-06-05T17:10:49.431Z"
   },
   {
    "duration": 96,
    "start_time": "2023-06-05T17:10:49.531Z"
   },
   {
    "duration": 5,
    "start_time": "2023-06-05T17:10:49.629Z"
   },
   {
    "duration": 37,
    "start_time": "2023-06-05T17:10:49.635Z"
   },
   {
    "duration": 43,
    "start_time": "2023-06-05T17:10:49.675Z"
   },
   {
    "duration": 316,
    "start_time": "2023-06-05T17:10:49.720Z"
   },
   {
    "duration": 488,
    "start_time": "2023-06-05T17:10:50.037Z"
   },
   {
    "duration": 135,
    "start_time": "2023-06-05T17:10:50.527Z"
   },
   {
    "duration": 14,
    "start_time": "2023-06-05T17:10:50.664Z"
   },
   {
    "duration": 45,
    "start_time": "2023-06-05T17:10:50.716Z"
   },
   {
    "duration": 29,
    "start_time": "2023-06-05T17:10:50.763Z"
   },
   {
    "duration": 31,
    "start_time": "2023-06-05T17:10:50.793Z"
   },
   {
    "duration": 21,
    "start_time": "2023-06-05T17:10:50.825Z"
   },
   {
    "duration": 76,
    "start_time": "2023-06-05T17:10:50.848Z"
   },
   {
    "duration": 14,
    "start_time": "2023-06-05T17:10:50.926Z"
   },
   {
    "duration": 126,
    "start_time": "2023-06-05T17:10:50.941Z"
   },
   {
    "duration": 16,
    "start_time": "2023-06-05T17:10:51.069Z"
   },
   {
    "duration": 32,
    "start_time": "2023-06-05T17:10:51.086Z"
   },
   {
    "duration": 30,
    "start_time": "2023-06-05T17:10:51.119Z"
   },
   {
    "duration": 89,
    "start_time": "2023-06-05T17:10:51.151Z"
   },
   {
    "duration": 112,
    "start_time": "2023-06-05T17:10:51.242Z"
   },
   {
    "duration": 67,
    "start_time": "2023-06-05T17:10:51.356Z"
   },
   {
    "duration": 59,
    "start_time": "2023-06-05T17:10:51.425Z"
   },
   {
    "duration": 72,
    "start_time": "2023-06-05T17:10:51.486Z"
   },
   {
    "duration": 70,
    "start_time": "2023-06-05T17:10:51.560Z"
   },
   {
    "duration": 40,
    "start_time": "2023-06-05T17:10:51.632Z"
   },
   {
    "duration": 57,
    "start_time": "2023-06-05T17:10:51.674Z"
   },
   {
    "duration": 61,
    "start_time": "2023-06-05T17:10:51.733Z"
   },
   {
    "duration": 59,
    "start_time": "2023-06-05T17:10:51.796Z"
   },
   {
    "duration": 126,
    "start_time": "2023-06-05T17:10:51.857Z"
   },
   {
    "duration": 41,
    "start_time": "2023-06-05T17:10:51.984Z"
   },
   {
    "duration": 61,
    "start_time": "2023-06-05T17:10:52.026Z"
   },
   {
    "duration": 36,
    "start_time": "2023-06-05T17:10:52.088Z"
   },
   {
    "duration": 36,
    "start_time": "2023-06-05T17:10:52.126Z"
   },
   {
    "duration": 106,
    "start_time": "2023-06-05T17:10:52.163Z"
   },
   {
    "duration": 49,
    "start_time": "2023-06-05T17:10:52.271Z"
   },
   {
    "duration": 74,
    "start_time": "2023-06-05T17:10:52.321Z"
   },
   {
    "duration": 42,
    "start_time": "2023-06-05T17:10:52.397Z"
   },
   {
    "duration": 45,
    "start_time": "2023-06-05T17:10:52.441Z"
   },
   {
    "duration": 40,
    "start_time": "2023-06-05T17:12:15.426Z"
   },
   {
    "duration": 3983,
    "start_time": "2023-06-06T07:17:10.950Z"
   },
   {
    "duration": 681,
    "start_time": "2023-06-06T07:17:14.935Z"
   },
   {
    "duration": 5,
    "start_time": "2023-06-06T07:17:15.617Z"
   },
   {
    "duration": 201,
    "start_time": "2023-06-06T07:17:15.624Z"
   },
   {
    "duration": 21,
    "start_time": "2023-06-06T07:17:15.826Z"
   },
   {
    "duration": 27,
    "start_time": "2023-06-06T07:17:15.848Z"
   },
   {
    "duration": 7,
    "start_time": "2023-06-06T07:17:15.877Z"
   },
   {
    "duration": 47,
    "start_time": "2023-06-06T07:17:15.886Z"
   },
   {
    "duration": 8,
    "start_time": "2023-06-06T07:17:15.935Z"
   },
   {
    "duration": 45,
    "start_time": "2023-06-06T07:17:15.945Z"
   },
   {
    "duration": 40,
    "start_time": "2023-06-06T07:17:15.992Z"
   },
   {
    "duration": 46,
    "start_time": "2023-06-06T07:17:16.033Z"
   },
   {
    "duration": 53,
    "start_time": "2023-06-06T07:17:16.081Z"
   },
   {
    "duration": 117,
    "start_time": "2023-06-06T07:17:16.136Z"
   },
   {
    "duration": 9,
    "start_time": "2023-06-06T07:17:16.255Z"
   },
   {
    "duration": 10,
    "start_time": "2023-06-06T07:17:16.274Z"
   },
   {
    "duration": 20,
    "start_time": "2023-06-06T07:17:16.286Z"
   },
   {
    "duration": 130,
    "start_time": "2023-06-06T07:17:16.308Z"
   },
   {
    "duration": 10,
    "start_time": "2023-06-06T07:17:16.439Z"
   },
   {
    "duration": 190,
    "start_time": "2023-06-06T07:17:16.451Z"
   },
   {
    "duration": 180,
    "start_time": "2023-06-06T07:17:16.642Z"
   },
   {
    "duration": 16,
    "start_time": "2023-06-06T07:17:16.824Z"
   },
   {
    "duration": 8,
    "start_time": "2023-06-06T07:17:16.841Z"
   },
   {
    "duration": 132,
    "start_time": "2023-06-06T07:17:16.851Z"
   },
   {
    "duration": 109,
    "start_time": "2023-06-06T07:17:16.985Z"
   },
   {
    "duration": 7,
    "start_time": "2023-06-06T07:17:17.095Z"
   },
   {
    "duration": 40,
    "start_time": "2023-06-06T07:17:17.103Z"
   },
   {
    "duration": 33,
    "start_time": "2023-06-06T07:17:17.147Z"
   },
   {
    "duration": 357,
    "start_time": "2023-06-06T07:17:17.181Z"
   },
   {
    "duration": 565,
    "start_time": "2023-06-06T07:17:17.539Z"
   },
   {
    "duration": 127,
    "start_time": "2023-06-06T07:17:18.106Z"
   },
   {
    "duration": 28,
    "start_time": "2023-06-06T07:17:18.274Z"
   },
   {
    "duration": 50,
    "start_time": "2023-06-06T07:17:18.304Z"
   },
   {
    "duration": 64,
    "start_time": "2023-06-06T07:17:18.356Z"
   },
   {
    "duration": 20,
    "start_time": "2023-06-06T07:17:18.422Z"
   },
   {
    "duration": 43,
    "start_time": "2023-06-06T07:17:18.444Z"
   },
   {
    "duration": 15,
    "start_time": "2023-06-06T07:17:18.489Z"
   },
   {
    "duration": 17,
    "start_time": "2023-06-06T07:17:18.505Z"
   },
   {
    "duration": 214,
    "start_time": "2023-06-06T07:17:18.524Z"
   },
   {
    "duration": 19,
    "start_time": "2023-06-06T07:17:18.740Z"
   },
   {
    "duration": 38,
    "start_time": "2023-06-06T07:17:18.761Z"
   },
   {
    "duration": 43,
    "start_time": "2023-06-06T07:17:18.801Z"
   },
   {
    "duration": 111,
    "start_time": "2023-06-06T07:17:18.846Z"
   },
   {
    "duration": 127,
    "start_time": "2023-06-06T07:17:18.958Z"
   },
   {
    "duration": 101,
    "start_time": "2023-06-06T07:17:19.087Z"
   },
   {
    "duration": 66,
    "start_time": "2023-06-06T07:17:19.190Z"
   },
   {
    "duration": 81,
    "start_time": "2023-06-06T07:17:19.257Z"
   },
   {
    "duration": 78,
    "start_time": "2023-06-06T07:17:19.340Z"
   },
   {
    "duration": 37,
    "start_time": "2023-06-06T07:17:19.419Z"
   },
   {
    "duration": 56,
    "start_time": "2023-06-06T07:17:19.458Z"
   },
   {
    "duration": 74,
    "start_time": "2023-06-06T07:17:19.516Z"
   },
   {
    "duration": 50,
    "start_time": "2023-06-06T07:17:19.592Z"
   },
   {
    "duration": 121,
    "start_time": "2023-06-06T07:17:19.643Z"
   },
   {
    "duration": 38,
    "start_time": "2023-06-06T07:17:19.774Z"
   },
   {
    "duration": 84,
    "start_time": "2023-06-06T07:17:19.813Z"
   },
   {
    "duration": 25,
    "start_time": "2023-06-06T07:17:19.899Z"
   },
   {
    "duration": 66,
    "start_time": "2023-06-06T07:17:19.926Z"
   },
   {
    "duration": 117,
    "start_time": "2023-06-06T07:17:19.993Z"
   },
   {
    "duration": 77,
    "start_time": "2023-06-06T07:17:20.111Z"
   },
   {
    "duration": 58,
    "start_time": "2023-06-06T07:17:20.190Z"
   },
   {
    "duration": 81,
    "start_time": "2023-06-06T07:17:20.249Z"
   },
   {
    "duration": 74,
    "start_time": "2023-06-06T07:17:20.331Z"
   }
  ],
  "kernelspec": {
   "display_name": "Python 3 (ipykernel)",
   "language": "python",
   "name": "python3"
  },
  "language_info": {
   "codemirror_mode": {
    "name": "ipython",
    "version": 3
   },
   "file_extension": ".py",
   "mimetype": "text/x-python",
   "name": "python",
   "nbconvert_exporter": "python",
   "pygments_lexer": "ipython3",
   "version": "3.9.13"
  },
  "toc": {
   "base_numbering": 1,
   "nav_menu": {},
   "number_sections": true,
   "sideBar": true,
   "skip_h1_title": true,
   "title_cell": "Table of Contents",
   "title_sidebar": "Contents",
   "toc_cell": false,
   "toc_position": {
    "height": "749px",
    "left": "46px",
    "top": "111.125px",
    "width": "370.213px"
   },
   "toc_section_display": true,
   "toc_window_display": true
  }
 },
 "nbformat": 4,
 "nbformat_minor": 2
}
